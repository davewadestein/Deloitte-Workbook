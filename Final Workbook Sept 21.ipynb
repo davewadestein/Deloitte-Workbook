{
 "cells": [
  {
   "cell_type": "markdown",
   "id": "5b30eea6-747d-4cd3-9132-e5c49d72cc6d",
   "metadata": {},
   "source": [
    "# Important Things About Python\n",
    "* Python's raison d'être is to manipulate data (text and files)\n",
    "* everything in Python is an object\n",
    "  * everything lives in memory and can be inspected\n",
    "  * everything consists of fields/attributes and possibly functions\n",
    "* basic data types: int, float, str (and bool)\n",
    "* built-in functions (e.g., print(), type()) DO NOT change the objects that are passed to them\n",
    "  * they are called in the \"standard\" way, i.e,. func(arguments)\n",
    "  * if you want to change an object you must call a method on it\n",
    "    * not all methods change the objects they are applied to / called on\n",
    "* int, float, bool (scalars, i.e., they contain ONE value) \n",
    "  * vs. containers (hold 0+ values): str, list, tuple, dict\n",
    "* mutable vs. immutable objects\n",
    "  * mutable: list, dict\n",
    "  * immutable: str, tuple\n",
    "* Python uses \"truthiness\" when evaluating Boolean expression\n",
    "  * non-zero values are considered True\n",
    "    * 0 and 0.0 are considered False\n",
    "  * non-empty containers are considered True\n",
    "    * empty containers are considered False\n"
   ]
  },
  {
   "cell_type": "markdown",
   "id": "24c0196f-f185-43a6-aa7e-fa3ff60301fd",
   "metadata": {},
   "source": [
    "# Pythonic\n",
    "* using idioms that are familiar to other Python programmers\n",
    "* when an object is difficult to work with, convert it to a type that makes it easier\n",
    "  * convert ints to strings to treat them as separate digits\n",
    "  * __`str(i).startswith('1')`__ ... does that int start with a 1\n",
    "* __`[-1]`__ means the last character of a string, or more generally...\n",
    "  * the last item in a container\n",
    "* __`[:n]`__ means first n items in the container\n",
    "* __`[-n:]`__ means last n items in the container\n",
    "* __`[::-1]`__ means a reversed version of the container\n",
    "* function composition\n",
    "  * e.g., __`int(input('...'))`__\n",
    "* when a for loop was created to repeat something n times, rather than count\n",
    "  * ...and the loop variable is NOT USED in the body of the loop, do this:\n",
    "    * __`for _ in range(n)`__\n",
    "* don't use indexing when iterating through a container\n",
    "  * ...unless you need it\n",
    "* define/declare lists by splitting strings\n",
    "  * __`'apple lemon cherry fig lime watermelon'.split()`__"
   ]
  },
  {
   "cell_type": "markdown",
   "id": "fd3a1c93-1937-4f8b-8e95-c0fc4c9e30bc",
   "metadata": {},
   "source": [
    "# Good Programming Practices\n",
    "* choose good variable names\n",
    "  * descriptive names!\n",
    "* Hal Abelson: \"Programs are written for others to read, and only incidentally for computers to execute\"\n",
    "* Eagleson's Law: Any code you wrote more than 6 months ago might as well have been written by someone else\n",
    "* Have you ever wanted to go back in time and fight with a younger version of yourself–if so, be a programmer!\n",
    "* \"Premature optimization is the root of all evil (or at least most of it)\" –Donald Knuth\n",
    "  * Trying to make your code faster before you know why it's slow in the first place leads to harder to read code\n",
    "* \"Efficiency doesn't matter until it matters, and it rarely matters\" –DWS\n",
    "  * programmers are notoriously bad at determining what is and isn't efficient in their code"
   ]
  },
  {
   "cell_type": "markdown",
   "id": "784b643d-9d20-42c1-8714-3283d555359d",
   "metadata": {},
   "source": [
    "# How to learn (and also how to teach)\n",
    "* zoom in and zoom out when necessary\n",
    "  * more/less detailed... \"10,000 foot view\"\n",
    "  * know when to go down the rabbit hole"
   ]
  },
  {
   "cell_type": "markdown",
   "id": "755e02b2-40fa-45a3-acff-2e5aab135ce9",
   "metadata": {},
   "source": [
    "# Other important stuff\n",
    "* we read code 10x more than we write code\n",
    "  * we want to leave the class being able to understand written code\n",
    "* the 3 banes of existence for programmers are:\n",
    "  * improperly initialized variables\n",
    "  * off by 1 errors\n",
    "* \"syntactic sugar\"\n",
    "  * a nicety that programmers can use/enjoy, but anytime you use it you can re-write the code without it"
   ]
  },
  {
   "cell_type": "code",
   "execution_count": 7,
   "id": "05cc4397-72e9-4909-a3bc-2aac371d8761",
   "metadata": {},
   "outputs": [
    {
     "data": {
      "text/plain": [
       "5"
      ]
     },
     "execution_count": 7,
     "metadata": {},
     "output_type": "execute_result"
    }
   ],
   "source": [
    "2 + 3"
   ]
  },
  {
   "cell_type": "code",
   "execution_count": 11,
   "id": "fc7d7c6f-70d7-4da4-9520-597155777bb0",
   "metadata": {},
   "outputs": [],
   "source": [
    "import math # import the math module"
   ]
  },
  {
   "cell_type": "code",
   "execution_count": 13,
   "id": "ced10891-3c69-4dff-bfd1-f92cfab05320",
   "metadata": {},
   "outputs": [
    {
     "data": {
      "text/plain": [
       "1.0"
      ]
     },
     "execution_count": 13,
     "metadata": {},
     "output_type": "execute_result"
    }
   ],
   "source": [
    "math.sin(math.pi / 2)"
   ]
  },
  {
   "cell_type": "code",
   "execution_count": 25,
   "id": "780df9e5-2cb1-4193-b145-92bbb4f9541b",
   "metadata": {},
   "outputs": [
    {
     "data": {
      "text/plain": [
       "140494822855264"
      ]
     },
     "execution_count": 25,
     "metadata": {},
     "output_type": "execute_result"
    }
   ],
   "source": [
    "id(math)"
   ]
  },
  {
   "cell_type": "code",
   "execution_count": 27,
   "id": "39fccffc-7a43-4395-b20a-cd5b8cda3c0f",
   "metadata": {},
   "outputs": [],
   "source": [
    "import string"
   ]
  },
  {
   "cell_type": "code",
   "execution_count": 29,
   "id": "acbde043-5549-49cd-a481-7bdc8665c371",
   "metadata": {},
   "outputs": [
    {
     "data": {
      "text/plain": [
       "140494817339376"
      ]
     },
     "execution_count": 29,
     "metadata": {},
     "output_type": "execute_result"
    }
   ],
   "source": [
    "id(string)"
   ]
  },
  {
   "cell_type": "code",
   "execution_count": 31,
   "id": "3bf559ce-4325-427c-94f4-637b71405a91",
   "metadata": {},
   "outputs": [
    {
     "data": {
      "text/plain": [
       "140494825789040"
      ]
     },
     "execution_count": 31,
     "metadata": {},
     "output_type": "execute_result"
    }
   ],
   "source": [
    "id(print)"
   ]
  },
  {
   "cell_type": "code",
   "execution_count": 36,
   "id": "9b06134b-4680-47f5-b327-bb6d6b944961",
   "metadata": {},
   "outputs": [],
   "source": [
    "name = 'Taylor Swift' # string (or text)"
   ]
  },
  {
   "cell_type": "code",
   "execution_count": 40,
   "id": "caaaa6fe-7c08-4aff-ab33-60a191f30db6",
   "metadata": {},
   "outputs": [],
   "source": [
    "birth_year = 1989"
   ]
  },
  {
   "cell_type": "code",
   "execution_count": 42,
   "id": "37fb9817-e060-48d8-a03a-c25a8a61c71f",
   "metadata": {},
   "outputs": [
    {
     "data": {
      "text/plain": [
       "1989"
      ]
     },
     "execution_count": 42,
     "metadata": {},
     "output_type": "execute_result"
    }
   ],
   "source": [
    "birth_year"
   ]
  },
  {
   "cell_type": "code",
   "execution_count": 47,
   "id": "d88760f4-0068-4c23-857b-122727107e91",
   "metadata": {},
   "outputs": [],
   "source": [
    "value = 2."
   ]
  },
  {
   "cell_type": "code",
   "execution_count": 49,
   "id": "1217c0ad-29ac-40c6-a03f-728870c6488f",
   "metadata": {},
   "outputs": [
    {
     "data": {
      "text/plain": [
       "2.0"
      ]
     },
     "execution_count": 49,
     "metadata": {},
     "output_type": "execute_result"
    }
   ],
   "source": [
    "value"
   ]
  },
  {
   "cell_type": "code",
   "execution_count": 56,
   "id": "e665b7bc-2631-4d72-9e6a-a95981b8609a",
   "metadata": {},
   "outputs": [
    {
     "data": {
      "text/plain": [
       "int"
      ]
     },
     "execution_count": 56,
     "metadata": {},
     "output_type": "execute_result"
    }
   ],
   "source": [
    "type(birth_year)"
   ]
  },
  {
   "cell_type": "code",
   "execution_count": 60,
   "id": "57f7389c-51ea-4bb0-b9f7-ca1ae968831a",
   "metadata": {},
   "outputs": [
    {
     "data": {
      "text/plain": [
       "float"
      ]
     },
     "execution_count": 60,
     "metadata": {},
     "output_type": "execute_result"
    }
   ],
   "source": [
    "type(value)"
   ]
  },
  {
   "cell_type": "code",
   "execution_count": 64,
   "id": "cedb9936-05e3-44f7-8f56-671df3f829c7",
   "metadata": {},
   "outputs": [
    {
     "data": {
      "text/plain": [
       "str"
      ]
     },
     "execution_count": 64,
     "metadata": {},
     "output_type": "execute_result"
    }
   ],
   "source": [
    "type(name)"
   ]
  },
  {
   "cell_type": "code",
   "execution_count": 69,
   "id": "9725dfbd-8e6e-402c-8b05-8a09356b1fe0",
   "metadata": {},
   "outputs": [],
   "source": [
    "student = 'Anthony'"
   ]
  },
  {
   "cell_type": "code",
   "execution_count": 71,
   "id": "920a0d8a-76ff-4648-9158-9d676b1998a0",
   "metadata": {},
   "outputs": [],
   "source": [
    "student = 5"
   ]
  },
  {
   "cell_type": "code",
   "execution_count": 73,
   "id": "1dec41e1-abac-46d8-96df-4e9859cd8dcb",
   "metadata": {},
   "outputs": [
    {
     "data": {
      "text/plain": [
       "5"
      ]
     },
     "execution_count": 73,
     "metadata": {},
     "output_type": "execute_result"
    }
   ],
   "source": [
    "student"
   ]
  },
  {
   "cell_type": "code",
   "execution_count": 77,
   "id": "ed87fc08-9512-4908-bfaf-2bb30a7dc0b1",
   "metadata": {},
   "outputs": [],
   "source": [
    "student: str = 'Anthony' # works as of Python 3.6+"
   ]
  },
  {
   "cell_type": "code",
   "execution_count": 79,
   "id": "d4ced0e0-9e37-4797-9b41-5a6c704d680c",
   "metadata": {},
   "outputs": [],
   "source": [
    "# ...\n",
    "# ...\n",
    "student = 5"
   ]
  },
  {
   "cell_type": "code",
   "execution_count": 89,
   "id": "d317eb5b-ac1a-4fcb-b7a2-732e63867941",
   "metadata": {},
   "outputs": [],
   "source": [
    "import math"
   ]
  },
  {
   "cell_type": "code",
   "execution_count": 91,
   "id": "e490eeb1-3c46-4441-97e9-a61a6907abea",
   "metadata": {},
   "outputs": [
    {
     "data": {
      "text/plain": [
       "['__doc__',\n",
       " '__file__',\n",
       " '__loader__',\n",
       " '__name__',\n",
       " '__package__',\n",
       " '__spec__',\n",
       " 'acos',\n",
       " 'acosh',\n",
       " 'asin',\n",
       " 'asinh',\n",
       " 'atan',\n",
       " 'atan2',\n",
       " 'atanh',\n",
       " 'cbrt',\n",
       " 'ceil',\n",
       " 'comb',\n",
       " 'copysign',\n",
       " 'cos',\n",
       " 'cosh',\n",
       " 'degrees',\n",
       " 'dist',\n",
       " 'e',\n",
       " 'erf',\n",
       " 'erfc',\n",
       " 'exp',\n",
       " 'exp2',\n",
       " 'expm1',\n",
       " 'fabs',\n",
       " 'factorial',\n",
       " 'floor',\n",
       " 'fmod',\n",
       " 'frexp',\n",
       " 'fsum',\n",
       " 'gamma',\n",
       " 'gcd',\n",
       " 'hypot',\n",
       " 'inf',\n",
       " 'isclose',\n",
       " 'isfinite',\n",
       " 'isinf',\n",
       " 'isnan',\n",
       " 'isqrt',\n",
       " 'lcm',\n",
       " 'ldexp',\n",
       " 'lgamma',\n",
       " 'log',\n",
       " 'log10',\n",
       " 'log1p',\n",
       " 'log2',\n",
       " 'modf',\n",
       " 'nan',\n",
       " 'nextafter',\n",
       " 'perm',\n",
       " 'pi',\n",
       " 'pow',\n",
       " 'prod',\n",
       " 'radians',\n",
       " 'remainder',\n",
       " 'sin',\n",
       " 'sinh',\n",
       " 'sqrt',\n",
       " 'tan',\n",
       " 'tanh',\n",
       " 'tau',\n",
       " 'trunc',\n",
       " 'ulp']"
      ]
     },
     "execution_count": 91,
     "metadata": {},
     "output_type": "execute_result"
    }
   ],
   "source": [
    "dir(math)"
   ]
  },
  {
   "cell_type": "code",
   "execution_count": 93,
   "id": "7bf71a47-730f-4dcd-a380-93a264bcc717",
   "metadata": {},
   "outputs": [
    {
     "name": "stdout",
     "output_type": "stream",
     "text": [
      "Help on module math:\n",
      "\n",
      "NAME\n",
      "    math\n",
      "\n",
      "MODULE REFERENCE\n",
      "    https://docs.python.org/3.11/library/math.html\n",
      "    \n",
      "    The following documentation is automatically generated from the Python\n",
      "    source files.  It may be incomplete, incorrect or include features that\n",
      "    are considered implementation detail and may vary between Python\n",
      "    implementations.  When in doubt, consult the module reference at the\n",
      "    location listed above.\n",
      "\n",
      "DESCRIPTION\n",
      "    This module provides access to the mathematical functions\n",
      "    defined by the C standard.\n",
      "\n",
      "FUNCTIONS\n",
      "    acos(x, /)\n",
      "        Return the arc cosine (measured in radians) of x.\n",
      "        \n",
      "        The result is between 0 and pi.\n",
      "    \n",
      "    acosh(x, /)\n",
      "        Return the inverse hyperbolic cosine of x.\n",
      "    \n",
      "    asin(x, /)\n",
      "        Return the arc sine (measured in radians) of x.\n",
      "        \n",
      "        The result is between -pi/2 and pi/2.\n",
      "    \n",
      "    asinh(x, /)\n",
      "        Return the inverse hyperbolic sine of x.\n",
      "    \n",
      "    atan(x, /)\n",
      "        Return the arc tangent (measured in radians) of x.\n",
      "        \n",
      "        The result is between -pi/2 and pi/2.\n",
      "    \n",
      "    atan2(y, x, /)\n",
      "        Return the arc tangent (measured in radians) of y/x.\n",
      "        \n",
      "        Unlike atan(y/x), the signs of both x and y are considered.\n",
      "    \n",
      "    atanh(x, /)\n",
      "        Return the inverse hyperbolic tangent of x.\n",
      "    \n",
      "    cbrt(x, /)\n",
      "        Return the cube root of x.\n",
      "    \n",
      "    ceil(x, /)\n",
      "        Return the ceiling of x as an Integral.\n",
      "        \n",
      "        This is the smallest integer >= x.\n",
      "    \n",
      "    comb(n, k, /)\n",
      "        Number of ways to choose k items from n items without repetition and without order.\n",
      "        \n",
      "        Evaluates to n! / (k! * (n - k)!) when k <= n and evaluates\n",
      "        to zero when k > n.\n",
      "        \n",
      "        Also called the binomial coefficient because it is equivalent\n",
      "        to the coefficient of k-th term in polynomial expansion of the\n",
      "        expression (1 + x)**n.\n",
      "        \n",
      "        Raises TypeError if either of the arguments are not integers.\n",
      "        Raises ValueError if either of the arguments are negative.\n",
      "    \n",
      "    copysign(x, y, /)\n",
      "        Return a float with the magnitude (absolute value) of x but the sign of y.\n",
      "        \n",
      "        On platforms that support signed zeros, copysign(1.0, -0.0)\n",
      "        returns -1.0.\n",
      "    \n",
      "    cos(x, /)\n",
      "        Return the cosine of x (measured in radians).\n",
      "    \n",
      "    cosh(x, /)\n",
      "        Return the hyperbolic cosine of x.\n",
      "    \n",
      "    degrees(x, /)\n",
      "        Convert angle x from radians to degrees.\n",
      "    \n",
      "    dist(p, q, /)\n",
      "        Return the Euclidean distance between two points p and q.\n",
      "        \n",
      "        The points should be specified as sequences (or iterables) of\n",
      "        coordinates.  Both inputs must have the same dimension.\n",
      "        \n",
      "        Roughly equivalent to:\n",
      "            sqrt(sum((px - qx) ** 2.0 for px, qx in zip(p, q)))\n",
      "    \n",
      "    erf(x, /)\n",
      "        Error function at x.\n",
      "    \n",
      "    erfc(x, /)\n",
      "        Complementary error function at x.\n",
      "    \n",
      "    exp(x, /)\n",
      "        Return e raised to the power of x.\n",
      "    \n",
      "    exp2(x, /)\n",
      "        Return 2 raised to the power of x.\n",
      "    \n",
      "    expm1(x, /)\n",
      "        Return exp(x)-1.\n",
      "        \n",
      "        This function avoids the loss of precision involved in the direct evaluation of exp(x)-1 for small x.\n",
      "    \n",
      "    fabs(x, /)\n",
      "        Return the absolute value of the float x.\n",
      "    \n",
      "    factorial(n, /)\n",
      "        Find n!.\n",
      "        \n",
      "        Raise a ValueError if x is negative or non-integral.\n",
      "    \n",
      "    floor(x, /)\n",
      "        Return the floor of x as an Integral.\n",
      "        \n",
      "        This is the largest integer <= x.\n",
      "    \n",
      "    fmod(x, y, /)\n",
      "        Return fmod(x, y), according to platform C.\n",
      "        \n",
      "        x % y may differ.\n",
      "    \n",
      "    frexp(x, /)\n",
      "        Return the mantissa and exponent of x, as pair (m, e).\n",
      "        \n",
      "        m is a float and e is an int, such that x = m * 2.**e.\n",
      "        If x is 0, m and e are both 0.  Else 0.5 <= abs(m) < 1.0.\n",
      "    \n",
      "    fsum(seq, /)\n",
      "        Return an accurate floating point sum of values in the iterable seq.\n",
      "        \n",
      "        Assumes IEEE-754 floating point arithmetic.\n",
      "    \n",
      "    gamma(x, /)\n",
      "        Gamma function at x.\n",
      "    \n",
      "    gcd(*integers)\n",
      "        Greatest Common Divisor.\n",
      "    \n",
      "    hypot(...)\n",
      "        hypot(*coordinates) -> value\n",
      "        \n",
      "        Multidimensional Euclidean distance from the origin to a point.\n",
      "        \n",
      "        Roughly equivalent to:\n",
      "            sqrt(sum(x**2 for x in coordinates))\n",
      "        \n",
      "        For a two dimensional point (x, y), gives the hypotenuse\n",
      "        using the Pythagorean theorem:  sqrt(x*x + y*y).\n",
      "        \n",
      "        For example, the hypotenuse of a 3/4/5 right triangle is:\n",
      "        \n",
      "            >>> hypot(3.0, 4.0)\n",
      "            5.0\n",
      "    \n",
      "    isclose(a, b, *, rel_tol=1e-09, abs_tol=0.0)\n",
      "        Determine whether two floating point numbers are close in value.\n",
      "        \n",
      "          rel_tol\n",
      "            maximum difference for being considered \"close\", relative to the\n",
      "            magnitude of the input values\n",
      "          abs_tol\n",
      "            maximum difference for being considered \"close\", regardless of the\n",
      "            magnitude of the input values\n",
      "        \n",
      "        Return True if a is close in value to b, and False otherwise.\n",
      "        \n",
      "        For the values to be considered close, the difference between them\n",
      "        must be smaller than at least one of the tolerances.\n",
      "        \n",
      "        -inf, inf and NaN behave similarly to the IEEE 754 Standard.  That\n",
      "        is, NaN is not close to anything, even itself.  inf and -inf are\n",
      "        only close to themselves.\n",
      "    \n",
      "    isfinite(x, /)\n",
      "        Return True if x is neither an infinity nor a NaN, and False otherwise.\n",
      "    \n",
      "    isinf(x, /)\n",
      "        Return True if x is a positive or negative infinity, and False otherwise.\n",
      "    \n",
      "    isnan(x, /)\n",
      "        Return True if x is a NaN (not a number), and False otherwise.\n",
      "    \n",
      "    isqrt(n, /)\n",
      "        Return the integer part of the square root of the input.\n",
      "    \n",
      "    lcm(*integers)\n",
      "        Least Common Multiple.\n",
      "    \n",
      "    ldexp(x, i, /)\n",
      "        Return x * (2**i).\n",
      "        \n",
      "        This is essentially the inverse of frexp().\n",
      "    \n",
      "    lgamma(x, /)\n",
      "        Natural logarithm of absolute value of Gamma function at x.\n",
      "    \n",
      "    log(...)\n",
      "        log(x, [base=math.e])\n",
      "        Return the logarithm of x to the given base.\n",
      "        \n",
      "        If the base not specified, returns the natural logarithm (base e) of x.\n",
      "    \n",
      "    log10(x, /)\n",
      "        Return the base 10 logarithm of x.\n",
      "    \n",
      "    log1p(x, /)\n",
      "        Return the natural logarithm of 1+x (base e).\n",
      "        \n",
      "        The result is computed in a way which is accurate for x near zero.\n",
      "    \n",
      "    log2(x, /)\n",
      "        Return the base 2 logarithm of x.\n",
      "    \n",
      "    modf(x, /)\n",
      "        Return the fractional and integer parts of x.\n",
      "        \n",
      "        Both results carry the sign of x and are floats.\n",
      "    \n",
      "    nextafter(x, y, /)\n",
      "        Return the next floating-point value after x towards y.\n",
      "    \n",
      "    perm(n, k=None, /)\n",
      "        Number of ways to choose k items from n items without repetition and with order.\n",
      "        \n",
      "        Evaluates to n! / (n - k)! when k <= n and evaluates\n",
      "        to zero when k > n.\n",
      "        \n",
      "        If k is not specified or is None, then k defaults to n\n",
      "        and the function returns n!.\n",
      "        \n",
      "        Raises TypeError if either of the arguments are not integers.\n",
      "        Raises ValueError if either of the arguments are negative.\n",
      "    \n",
      "    pow(x, y, /)\n",
      "        Return x**y (x to the power of y).\n",
      "    \n",
      "    prod(iterable, /, *, start=1)\n",
      "        Calculate the product of all the elements in the input iterable.\n",
      "        \n",
      "        The default start value for the product is 1.\n",
      "        \n",
      "        When the iterable is empty, return the start value.  This function is\n",
      "        intended specifically for use with numeric values and may reject\n",
      "        non-numeric types.\n",
      "    \n",
      "    radians(x, /)\n",
      "        Convert angle x from degrees to radians.\n",
      "    \n",
      "    remainder(x, y, /)\n",
      "        Difference between x and the closest integer multiple of y.\n",
      "        \n",
      "        Return x - n*y where n*y is the closest integer multiple of y.\n",
      "        In the case where x is exactly halfway between two multiples of\n",
      "        y, the nearest even value of n is used. The result is always exact.\n",
      "    \n",
      "    sin(x, /)\n",
      "        Return the sine of x (measured in radians).\n",
      "    \n",
      "    sinh(x, /)\n",
      "        Return the hyperbolic sine of x.\n",
      "    \n",
      "    sqrt(x, /)\n",
      "        Return the square root of x.\n",
      "    \n",
      "    tan(x, /)\n",
      "        Return the tangent of x (measured in radians).\n",
      "    \n",
      "    tanh(x, /)\n",
      "        Return the hyperbolic tangent of x.\n",
      "    \n",
      "    trunc(x, /)\n",
      "        Truncates the Real x to the nearest Integral toward 0.\n",
      "        \n",
      "        Uses the __trunc__ magic method.\n",
      "    \n",
      "    ulp(x, /)\n",
      "        Return the value of the least significant bit of the float x.\n",
      "\n",
      "DATA\n",
      "    e = 2.718281828459045\n",
      "    inf = inf\n",
      "    nan = nan\n",
      "    pi = 3.141592653589793\n",
      "    tau = 6.283185307179586\n",
      "\n",
      "FILE\n",
      "    /opt/conda/envs/anaconda-panel-2023.05-py310/lib/python3.11/lib-dynload/math.cpython-311-x86_64-linux-gnu.so\n",
      "\n",
      "\n"
     ]
    }
   ],
   "source": [
    "help(math)"
   ]
  },
  {
   "cell_type": "code",
   "execution_count": 96,
   "id": "e0e06f7c-e80a-4232-ad88-c29b5f1b2691",
   "metadata": {},
   "outputs": [
    {
     "data": {
      "text/plain": [
       "['False',\n",
       " 'None',\n",
       " 'True',\n",
       " 'and',\n",
       " 'as',\n",
       " 'assert',\n",
       " 'async',\n",
       " 'await',\n",
       " 'break',\n",
       " 'class',\n",
       " 'continue',\n",
       " 'def',\n",
       " 'del',\n",
       " 'elif',\n",
       " 'else',\n",
       " 'except',\n",
       " 'finally',\n",
       " 'for',\n",
       " 'from',\n",
       " 'global',\n",
       " 'if',\n",
       " 'import',\n",
       " 'in',\n",
       " 'is',\n",
       " 'lambda',\n",
       " 'nonlocal',\n",
       " 'not',\n",
       " 'or',\n",
       " 'pass',\n",
       " 'raise',\n",
       " 'return',\n",
       " 'try',\n",
       " 'while',\n",
       " 'with',\n",
       " 'yield']"
      ]
     },
     "execution_count": 96,
     "metadata": {},
     "output_type": "execute_result"
    }
   ],
   "source": [
    "import keyword\n",
    "keyword.kwlist"
   ]
  },
  {
   "cell_type": "code",
   "execution_count": 99,
   "id": "fd0f392a-012c-478b-9284-384fd0ad9a58",
   "metadata": {},
   "outputs": [
    {
     "data": {
      "text/plain": [
       "\"<module 'math' from '/opt/conda/envs/anaconda-panel-2023.05-py310/lib/python3.11/lib-dynload/math.cpython-311-x86_64-linux-gnu.so'>\""
      ]
     },
     "execution_count": 99,
     "metadata": {},
     "output_type": "execute_result"
    }
   ],
   "source": [
    "str(math)"
   ]
  },
  {
   "cell_type": "code",
   "execution_count": 101,
   "id": "2c34995f-32a2-4239-ba7f-bd4361d20805",
   "metadata": {},
   "outputs": [
    {
     "data": {
      "text/plain": [
       "\"<module 'keyword' from '/opt/conda/envs/anaconda-panel-2023.05-py310/lib/python3.11/keyword.py'>\""
      ]
     },
     "execution_count": 101,
     "metadata": {},
     "output_type": "execute_result"
    }
   ],
   "source": [
    "str(keyword)"
   ]
  },
  {
   "cell_type": "code",
   "execution_count": 104,
   "id": "5f033991-021c-4141-bc71-607116a1e24f",
   "metadata": {},
   "outputs": [],
   "source": [
    "name = 'Bruce Lee' # quotes are used to indicate something is a string"
   ]
  },
  {
   "cell_type": "code",
   "execution_count": 106,
   "id": "b100206d-7f6e-48f7-ae2f-a7cd6653efbb",
   "metadata": {},
   "outputs": [
    {
     "data": {
      "text/plain": [
       "'Bruce Lee'"
      ]
     },
     "execution_count": 106,
     "metadata": {},
     "output_type": "execute_result"
    }
   ],
   "source": [
    "name # we are asking Python to evalaute the variable name, i.e.,\n",
    "# tell us what is inside it"
   ]
  },
  {
   "cell_type": "code",
   "execution_count": 112,
   "id": "fb878303-d2fb-4b96-b98c-922c31250400",
   "metadata": {},
   "outputs": [
    {
     "name": "stdout",
     "output_type": "stream",
     "text": [
      "Bruce Lee\n"
     ]
    }
   ],
   "source": [
    "print(name) # we are asking the print() function to print the contents of name\n",
    "# the quotes aren't really part of the string\n",
    "# on our nametage, we wouldn't include the quotes"
   ]
  },
  {
   "cell_type": "code",
   "execution_count": 114,
   "id": "6d729022-bc03-47dc-8382-f075a8ae3e63",
   "metadata": {},
   "outputs": [
    {
     "name": "stdout",
     "output_type": "stream",
     "text": [
      "My name is Bruce Lee\n"
     ]
    }
   ],
   "source": [
    "print('My name is', name)"
   ]
  },
  {
   "cell_type": "code",
   "execution_count": 118,
   "id": "e0e85ff9-601e-4a9b-b2d2-f1e432b01b26",
   "metadata": {},
   "outputs": [
    {
     "ename": "NameError",
     "evalue": "name 'my' is not defined",
     "output_type": "error",
     "traceback": [
      "\u001b[0;31m---------------------------------------------------------------------------\u001b[0m",
      "\u001b[0;31mNameError\u001b[0m                                 Traceback (most recent call last)",
      "Cell \u001b[0;32mIn[118], line 1\u001b[0m\n\u001b[0;32m----> 1\u001b[0m \u001b[38;5;28mprint\u001b[39m(my, name)\n",
      "\u001b[0;31mNameError\u001b[0m: name 'my' is not defined"
     ]
    }
   ],
   "source": [
    "print(my, name)"
   ]
  },
  {
   "cell_type": "code",
   "execution_count": 120,
   "id": "703d7ec4-5bde-4366-b6cf-4b4eeac8905a",
   "metadata": {},
   "outputs": [
    {
     "ename": "NameError",
     "evalue": "name 'anything' is not defined",
     "output_type": "error",
     "traceback": [
      "\u001b[0;31m---------------------------------------------------------------------------\u001b[0m",
      "\u001b[0;31mNameError\u001b[0m                                 Traceback (most recent call last)",
      "Cell \u001b[0;32mIn[120], line 1\u001b[0m\n\u001b[0;32m----> 1\u001b[0m anything\n",
      "\u001b[0;31mNameError\u001b[0m: name 'anything' is not defined"
     ]
    }
   ],
   "source": [
    "anything"
   ]
  },
  {
   "cell_type": "code",
   "execution_count": 122,
   "id": "a8adced5-99d6-4753-8b8d-5436165df7b2",
   "metadata": {},
   "outputs": [],
   "source": [
    "anything = 3.55"
   ]
  },
  {
   "cell_type": "code",
   "execution_count": 124,
   "id": "fe1947ae-6b8e-454c-aa2e-80955f0f79f5",
   "metadata": {},
   "outputs": [
    {
     "data": {
      "text/plain": [
       "3.55"
      ]
     },
     "execution_count": 124,
     "metadata": {},
     "output_type": "execute_result"
    }
   ],
   "source": [
    "anything"
   ]
  },
  {
   "cell_type": "code",
   "execution_count": 142,
   "id": "4419f456-518c-43bb-a793-4e242762c43f",
   "metadata": {},
   "outputs": [
    {
     "name": "stdout",
     "output_type": "stream",
     "text": [
      "Gasoline price is $ 3.55\n"
     ]
    }
   ],
   "source": [
    "print('Gasoline price is $', anything)"
   ]
  },
  {
   "cell_type": "code",
   "execution_count": 132,
   "id": "e37bcc17-d059-4e0e-b79f-ef946fbb95c3",
   "metadata": {},
   "outputs": [
    {
     "data": {
      "text/plain": [
       "'Bruce Lee'"
      ]
     },
     "execution_count": 132,
     "metadata": {},
     "output_type": "execute_result"
    }
   ],
   "source": [
    "name"
   ]
  },
  {
   "cell_type": "code",
   "execution_count": 134,
   "id": "7b6810c7-0f4a-412d-8b78-ab6f0fd71744",
   "metadata": {},
   "outputs": [
    {
     "data": {
      "text/plain": [
       "3.55"
      ]
     },
     "execution_count": 134,
     "metadata": {},
     "output_type": "execute_result"
    }
   ],
   "source": [
    "anything"
   ]
  },
  {
   "cell_type": "code",
   "execution_count": 140,
   "id": "4cc7f9c7-ffc2-4e29-8e2c-f8496c0d5b5b",
   "metadata": {},
   "outputs": [
    {
     "data": {
      "text/plain": [
       "5"
      ]
     },
     "execution_count": 140,
     "metadata": {},
     "output_type": "execute_result"
    }
   ],
   "source": [
    "2 + 3"
   ]
  },
  {
   "cell_type": "code",
   "execution_count": 145,
   "id": "2f5c6602-9377-4122-8d4f-77046ebeb8e4",
   "metadata": {},
   "outputs": [
    {
     "data": {
      "text/plain": [
       "'53.3'"
      ]
     },
     "execution_count": 145,
     "metadata": {},
     "output_type": "execute_result"
    }
   ],
   "source": [
    "str(53.3)"
   ]
  },
  {
   "cell_type": "code",
   "execution_count": 147,
   "id": "1f50c1cc-8d53-4740-854c-6e8aee356b95",
   "metadata": {},
   "outputs": [
    {
     "data": {
      "text/plain": [
       "'False'"
      ]
     },
     "execution_count": 147,
     "metadata": {},
     "output_type": "execute_result"
    }
   ],
   "source": [
    "str(False)"
   ]
  },
  {
   "cell_type": "code",
   "execution_count": 161,
   "id": "50edb8a2-b76d-4bc9-be91-d4bee2c04b40",
   "metadata": {},
   "outputs": [
    {
     "data": {
      "text/plain": [
       "'true'"
      ]
     },
     "execution_count": 161,
     "metadata": {},
     "output_type": "execute_result"
    }
   ],
   "source": [
    "false = 'true' # don't do this!\n",
    "str(false)"
   ]
  },
  {
   "cell_type": "code",
   "execution_count": 155,
   "id": "0116e3d3-7ff1-4f31-9dcf-a486e7c61db6",
   "metadata": {},
   "outputs": [
    {
     "data": {
      "text/plain": [
       "300"
      ]
     },
     "execution_count": 155,
     "metadata": {},
     "output_type": "execute_result"
    }
   ],
   "source": [
    "int('300')"
   ]
  },
  {
   "cell_type": "code",
   "execution_count": 157,
   "id": "ceb3649e-0518-4ed8-a1d4-b82300970ddb",
   "metadata": {},
   "outputs": [
    {
     "ename": "ValueError",
     "evalue": "invalid literal for int() with base 10: '30x'",
     "output_type": "error",
     "traceback": [
      "\u001b[0;31m---------------------------------------------------------------------------\u001b[0m",
      "\u001b[0;31mValueError\u001b[0m                                Traceback (most recent call last)",
      "Cell \u001b[0;32mIn[157], line 1\u001b[0m\n\u001b[0;32m----> 1\u001b[0m \u001b[38;5;28mint\u001b[39m(\u001b[38;5;124m'\u001b[39m\u001b[38;5;124m30x\u001b[39m\u001b[38;5;124m'\u001b[39m)\n",
      "\u001b[0;31mValueError\u001b[0m: invalid literal for int() with base 10: '30x'"
     ]
    }
   ],
   "source": [
    "int('30x')"
   ]
  },
  {
   "cell_type": "code",
   "execution_count": 153,
   "id": "8183e28e-d7a0-49f7-8edb-d82f236b04b2",
   "metadata": {},
   "outputs": [
    {
     "data": {
      "text/plain": [
       "bool"
      ]
     },
     "execution_count": 153,
     "metadata": {},
     "output_type": "execute_result"
    }
   ],
   "source": [
    "type(False)"
   ]
  },
  {
   "cell_type": "code",
   "execution_count": 151,
   "id": "bd37419a-312f-4ec8-9586-f64706adb01f",
   "metadata": {},
   "outputs": [
    {
     "data": {
      "text/plain": [
       "str"
      ]
     },
     "execution_count": 168,
     "metadata": {},
     "output_type": "execute_result"
    }
   ],
   "source": [
    "type('False')"
   ]
  },
  {
   "cell_type": "code",
   "execution_count": 149,
   "id": "c6a832d8-8804-4521-a3c1-10cdf83fbb06",
   "metadata": {},
   "outputs": [
    {
     "data": {
      "text/plain": [
       "float"
      ]
     },
     "execution_count": 149,
     "metadata": {},
     "output_type": "execute_result"
    }
   ],
   "source": [
    "type(3.5)"
   ]
  },
  {
   "cell_type": "code",
   "execution_count": 163,
   "id": "6ce6e83a-8662-4736-b6cd-52d56c481af5",
   "metadata": {},
   "outputs": [],
   "source": [
    "cost = 'this is not the cost'"
   ]
  },
  {
   "cell_type": "code",
   "execution_count": 171,
   "id": "ad739a6d-d826-4020-a9b6-62a3e8627675",
   "metadata": {},
   "outputs": [],
   "source": [
    "number = 1"
   ]
  },
  {
   "cell_type": "code",
   "execution_count": 173,
   "id": "89ba75b3-35e3-4a9b-adce-671960aed2e7",
   "metadata": {},
   "outputs": [
    {
     "data": {
      "text/plain": [
       "1.0"
      ]
     },
     "execution_count": 173,
     "metadata": {},
     "output_type": "execute_result"
    }
   ],
   "source": [
    "float(number)"
   ]
  },
  {
   "cell_type": "code",
   "execution_count": 175,
   "id": "fa40a947-cf8a-48c3-9af1-03af9ed4de0d",
   "metadata": {},
   "outputs": [
    {
     "data": {
      "text/plain": [
       "1"
      ]
     },
     "execution_count": 175,
     "metadata": {},
     "output_type": "execute_result"
    }
   ],
   "source": [
    "number"
   ]
  },
  {
   "cell_type": "code",
   "execution_count": 177,
   "id": "5e66ec55-982c-4e4b-ba60-58e718593edb",
   "metadata": {},
   "outputs": [],
   "source": [
    "number = float(number)"
   ]
  },
  {
   "cell_type": "code",
   "execution_count": 179,
   "id": "de4df991-0c3c-4706-8d66-49feda797a2d",
   "metadata": {},
   "outputs": [
    {
     "data": {
      "text/plain": [
       "1.0"
      ]
     },
     "execution_count": 179,
     "metadata": {},
     "output_type": "execute_result"
    }
   ],
   "source": [
    "number"
   ]
  },
  {
   "cell_type": "code",
   "execution_count": 182,
   "id": "0c1ef86e-ca68-4e3d-b513-9b41442d17a8",
   "metadata": {},
   "outputs": [],
   "source": [
    "name = 'Margaret Hamilton'"
   ]
  },
  {
   "cell_type": "code",
   "execution_count": 184,
   "id": "23c99dbb-61c4-43ef-b8cb-2715f6c61f48",
   "metadata": {},
   "outputs": [
    {
     "name": "stdout",
     "output_type": "stream",
     "text": [
      "Margaret Hamilton\n"
     ]
    }
   ],
   "source": [
    "print(name)"
   ]
  },
  {
   "cell_type": "code",
   "execution_count": 186,
   "id": "67485796-32ed-4109-af56-dbf375745966",
   "metadata": {},
   "outputs": [
    {
     "data": {
      "text/plain": [
       "'Margaret Hamilton'"
      ]
     },
     "execution_count": 186,
     "metadata": {},
     "output_type": "execute_result"
    }
   ],
   "source": [
    "name"
   ]
  },
  {
   "cell_type": "code",
   "execution_count": 188,
   "id": "00d78cd4-8a36-4a94-bfe6-ebcf041d9d4e",
   "metadata": {},
   "outputs": [
    {
     "data": {
      "text/plain": [
       "str"
      ]
     },
     "execution_count": 188,
     "metadata": {},
     "output_type": "execute_result"
    }
   ],
   "source": [
    "type(name)"
   ]
  },
  {
   "cell_type": "code",
   "execution_count": 193,
   "id": "dd2af0d6-7995-46aa-8e2d-826e09eee92a",
   "metadata": {},
   "outputs": [
    {
     "data": {
      "text/plain": [
       "123.0"
      ]
     },
     "execution_count": 193,
     "metadata": {},
     "output_type": "execute_result"
    }
   ],
   "source": [
    "float('123')"
   ]
  },
  {
   "cell_type": "code",
   "execution_count": 195,
   "id": "7a6779e7-e0b4-427e-9c08-9631234ad371",
   "metadata": {},
   "outputs": [
    {
     "data": {
      "text/plain": [
       "-123.45"
      ]
     },
     "execution_count": 195,
     "metadata": {},
     "output_type": "execute_result"
    }
   ],
   "source": [
    "float('-123.45')"
   ]
  },
  {
   "cell_type": "code",
   "execution_count": 199,
   "id": "203305f0-a3aa-4a71-9afe-d7d071db33d5",
   "metadata": {},
   "outputs": [
    {
     "ename": "ValueError",
     "evalue": "could not convert string to float: '2.345e12y'",
     "output_type": "error",
     "traceback": [
      "\u001b[0;31m---------------------------------------------------------------------------\u001b[0m",
      "\u001b[0;31mValueError\u001b[0m                                Traceback (most recent call last)",
      "Cell \u001b[0;32mIn[199], line 1\u001b[0m\n\u001b[0;32m----> 1\u001b[0m \u001b[38;5;28mfloat\u001b[39m(\u001b[38;5;124m'\u001b[39m\u001b[38;5;124m2.345e12y\u001b[39m\u001b[38;5;124m'\u001b[39m)\n",
      "\u001b[0;31mValueError\u001b[0m: could not convert string to float: '2.345e12y'"
     ]
    }
   ],
   "source": [
    "float('2.345e12y')"
   ]
  },
  {
   "cell_type": "code",
   "execution_count": 210,
   "id": "f9bbd8b0-7e4b-4404-810e-6bb3f7c1f1da",
   "metadata": {},
   "outputs": [],
   "source": [
    "first, last = 'Albert', 'Einstein'"
   ]
  },
  {
   "cell_type": "code",
   "execution_count": 212,
   "id": "5f8890a6-c280-4ebb-9128-738f091070b7",
   "metadata": {},
   "outputs": [
    {
     "data": {
      "text/plain": [
       "'Albert'"
      ]
     },
     "execution_count": 212,
     "metadata": {},
     "output_type": "execute_result"
    }
   ],
   "source": [
    "first"
   ]
  },
  {
   "cell_type": "code",
   "execution_count": 214,
   "id": "530ce130-4edd-43ba-b4b5-398a3186dc32",
   "metadata": {},
   "outputs": [
    {
     "data": {
      "text/plain": [
       "'Einstein'"
      ]
     },
     "execution_count": 214,
     "metadata": {},
     "output_type": "execute_result"
    }
   ],
   "source": [
    "last"
   ]
  },
  {
   "cell_type": "code",
   "execution_count": 217,
   "id": "09482902-387b-40c8-b20d-34851f205c36",
   "metadata": {},
   "outputs": [],
   "source": [
    "cost = 3.45 # per ounce"
   ]
  },
  {
   "cell_type": "code",
   "execution_count": 225,
   "id": "fb755e56-f9e2-4308-9d0d-9fc3a7c17be8",
   "metadata": {},
   "outputs": [
    {
     "name": "stdout",
     "output_type": "stream",
     "text": [
      "done\n"
     ]
    }
   ],
   "source": [
    "\"\"\"\n",
    "cost = 3.45\n",
    "print(cost)\n",
    "\"\"\"\n",
    "print('done')"
   ]
  },
  {
   "cell_type": "code",
   "execution_count": 234,
   "id": "498049be-7d6a-4a21-8530-e137b81b69a4",
   "metadata": {},
   "outputs": [],
   "source": [
    "a, b, o, p = 'b', 'a', 'p', 'o'"
   ]
  },
  {
   "cell_type": "code",
   "execution_count": 236,
   "id": "1879d1e4-ae1f-424e-996e-8d0dfe4e9d3a",
   "metadata": {},
   "outputs": [
    {
     "data": {
      "text/plain": [
       "'pop'"
      ]
     },
     "execution_count": 236,
     "metadata": {},
     "output_type": "execute_result"
    }
   ],
   "source": [
    "o + p + o"
   ]
  },
  {
   "cell_type": "code",
   "execution_count": 238,
   "id": "f04b5343-deb5-49ba-b932-2d2a9d1a2c3c",
   "metadata": {},
   "outputs": [
    {
     "data": {
      "text/plain": [
       "'bbba'"
      ]
     },
     "execution_count": 238,
     "metadata": {},
     "output_type": "execute_result"
    }
   ],
   "source": [
    "a * 3 + b"
   ]
  },
  {
   "cell_type": "code",
   "execution_count": 240,
   "id": "b3e913bc-f356-4c77-9ad1-70e1a4e3e9d6",
   "metadata": {},
   "outputs": [
    {
     "data": {
      "text/plain": [
       "'bookkeeper'"
      ]
     },
     "execution_count": 240,
     "metadata": {},
     "output_type": "execute_result"
    }
   ],
   "source": [
    "a + p * 2 + 'k' * 2 + 'e' * 2 + o + 'er'"
   ]
  },
  {
   "cell_type": "code",
   "execution_count": 248,
   "id": "06b62bc5-a4f4-44a3-bbd0-6688f8a32e31",
   "metadata": {},
   "outputs": [],
   "source": [
    "name = 'Keanu Reeves'"
   ]
  },
  {
   "cell_type": "code",
   "execution_count": 253,
   "id": "38675c4d-d2f2-418d-bdef-d012ffcf9e95",
   "metadata": {},
   "outputs": [],
   "source": [
    "number = 12345678"
   ]
  },
  {
   "cell_type": "code",
   "execution_count": 256,
   "id": "b37771ff-6343-4fdf-94a4-465ad05af058",
   "metadata": {},
   "outputs": [
    {
     "data": {
      "text/plain": [
       "12"
      ]
     },
     "execution_count": 256,
     "metadata": {},
     "output_type": "execute_result"
    }
   ],
   "source": [
    "len(name)"
   ]
  },
  {
   "cell_type": "code",
   "execution_count": 258,
   "id": "d0fac057-91a6-4b84-a36e-2e67d4aef10b",
   "metadata": {},
   "outputs": [
    {
     "ename": "TypeError",
     "evalue": "object of type 'int' has no len()",
     "output_type": "error",
     "traceback": [
      "\u001b[0;31m---------------------------------------------------------------------------\u001b[0m",
      "\u001b[0;31mTypeError\u001b[0m                                 Traceback (most recent call last)",
      "Cell \u001b[0;32mIn[258], line 1\u001b[0m\n\u001b[0;32m----> 1\u001b[0m \u001b[38;5;28mlen\u001b[39m(number)\n",
      "\u001b[0;31mTypeError\u001b[0m: object of type 'int' has no len()"
     ]
    }
   ],
   "source": [
    "len(number)"
   ]
  },
  {
   "cell_type": "code",
   "execution_count": 262,
   "id": "e6300ba8-400b-44b2-b61c-e7e8216fd64a",
   "metadata": {},
   "outputs": [
    {
     "data": {
      "text/plain": [
       "'12345678'"
      ]
     },
     "execution_count": 262,
     "metadata": {},
     "output_type": "execute_result"
    }
   ],
   "source": [
    "str(number)"
   ]
  },
  {
   "cell_type": "code",
   "execution_count": 264,
   "id": "567c65ce-9f47-4c75-8721-645d9749aad6",
   "metadata": {},
   "outputs": [
    {
     "data": {
      "text/plain": [
       "8"
      ]
     },
     "execution_count": 264,
     "metadata": {},
     "output_type": "execute_result"
    }
   ],
   "source": [
    "len(str(number)) # very Pythonic"
   ]
  },
  {
   "cell_type": "code",
   "execution_count": 271,
   "id": "a27810f6-fb2a-4f4d-b56a-248f7b468606",
   "metadata": {},
   "outputs": [
    {
     "name": "stdin",
     "output_type": "stream",
     "text": [
      "Enter a number:  1234\n"
     ]
    },
    {
     "data": {
      "text/plain": [
       "'1234'"
      ]
     },
     "execution_count": 271,
     "metadata": {},
     "output_type": "execute_result"
    }
   ],
   "source": [
    "input('Enter a number: ')"
   ]
  },
  {
   "cell_type": "code",
   "execution_count": 273,
   "id": "2edbc84e-060c-4a2e-9c57-7b7798d6fdea",
   "metadata": {},
   "outputs": [
    {
     "name": "stdin",
     "output_type": "stream",
     "text": [
      "Enter a number:  123\n"
     ]
    }
   ],
   "source": [
    "number = input('Enter a number: ')"
   ]
  },
  {
   "cell_type": "code",
   "execution_count": 277,
   "id": "4f97a54e-107d-494e-940e-e7aa30578ab7",
   "metadata": {},
   "outputs": [],
   "source": [
    "number = int(number)"
   ]
  },
  {
   "cell_type": "code",
   "execution_count": 279,
   "id": "340da527-d052-4738-b52c-780085e15b00",
   "metadata": {},
   "outputs": [
    {
     "data": {
      "text/plain": [
       "123"
      ]
     },
     "execution_count": 279,
     "metadata": {},
     "output_type": "execute_result"
    }
   ],
   "source": [
    "number"
   ]
  },
  {
   "cell_type": "code",
   "execution_count": 287,
   "id": "ada28b2a-7aa2-4154-a4cb-869fd874444e",
   "metadata": {},
   "outputs": [
    {
     "name": "stdin",
     "output_type": "stream",
     "text": [
      "Enter a number:  four\n"
     ]
    },
    {
     "ename": "ValueError",
     "evalue": "invalid literal for int() with base 10: 'four'",
     "output_type": "error",
     "traceback": [
      "\u001b[0;31m---------------------------------------------------------------------------\u001b[0m",
      "\u001b[0;31mValueError\u001b[0m                                Traceback (most recent call last)",
      "Cell \u001b[0;32mIn[287], line 1\u001b[0m\n\u001b[0;32m----> 1\u001b[0m number \u001b[38;5;241m=\u001b[39m \u001b[38;5;28mint\u001b[39m(\u001b[38;5;28minput\u001b[39m(\u001b[38;5;124m'\u001b[39m\u001b[38;5;124mEnter a number: \u001b[39m\u001b[38;5;124m'\u001b[39m))\n",
      "\u001b[0;31mValueError\u001b[0m: invalid literal for int() with base 10: 'four'"
     ]
    }
   ],
   "source": [
    "number = int(input('Enter a number: '))"
   ]
  },
  {
   "cell_type": "code",
   "execution_count": 283,
   "id": "7f008ff5-9321-403d-915f-04b78cba7bda",
   "metadata": {},
   "outputs": [
    {
     "data": {
      "text/plain": [
       "5467"
      ]
     },
     "execution_count": 283,
     "metadata": {},
     "output_type": "execute_result"
    }
   ],
   "source": [
    "number"
   ]
  },
  {
   "cell_type": "code",
   "execution_count": 300,
   "id": "415e84a2-9950-427e-bf21-da5ce513c215",
   "metadata": {},
   "outputs": [
    {
     "name": "stdout",
     "output_type": "stream",
     "text": [
      "yep!\n",
      "five is greater than four\n",
      "thank you\n",
      "after the if statement\n"
     ]
    }
   ],
   "source": [
    "if 5 < 14:\n",
    "    print('yep!')\n",
    "    print('five is greater than four')\n",
    "    print('thank you')\n",
    "elif\n",
    "else:\n",
    "    print('something else')\n",
    "    \n",
    "print('after the if statement')"
   ]
  },
  {
   "cell_type": "code",
   "execution_count": null,
   "id": "32587f32-4493-4deb-bcd4-2578030accfd",
   "metadata": {},
   "outputs": [],
   "source": [
    "if (3 > 2) {\n",
    "    # ....\n",
    "}"
   ]
  },
  {
   "cell_type": "code",
   "execution_count": 306,
   "id": "be238c54-103f-4f24-b47a-91558b712aaa",
   "metadata": {},
   "outputs": [
    {
     "data": {
      "text/plain": [
       "True"
      ]
     },
     "execution_count": 306,
     "metadata": {},
     "output_type": "execute_result"
    }
   ],
   "source": [
    "'D' in 'Deloitte'"
   ]
  },
  {
   "cell_type": "code",
   "execution_count": 310,
   "id": "39140b28-3205-4375-b6bd-adfaa5b9c266",
   "metadata": {},
   "outputs": [
    {
     "data": {
      "text/plain": [
       "True"
      ]
     },
     "execution_count": 310,
     "metadata": {},
     "output_type": "execute_result"
    }
   ],
   "source": [
    "'itte' in 'Deloitte'"
   ]
  },
  {
   "cell_type": "code",
   "execution_count": 314,
   "id": "26d74ade-6a82-4c5c-83a3-64c8cef5084f",
   "metadata": {},
   "outputs": [
    {
     "data": {
      "text/plain": [
       "False"
      ]
     },
     "execution_count": 314,
     "metadata": {},
     "output_type": "execute_result"
    }
   ],
   "source": [
    "'d' in 'Deloitte'"
   ]
  },
  {
   "cell_type": "code",
   "execution_count": 317,
   "id": "05035c85-620b-4234-8f9f-07dd4de3c7c9",
   "metadata": {},
   "outputs": [],
   "source": [
    "import random"
   ]
  },
  {
   "cell_type": "code",
   "execution_count": 319,
   "id": "91c52868-0f05-4a87-aa4a-f6b9bc12b858",
   "metadata": {},
   "outputs": [
    {
     "data": {
      "text/plain": [
       "['BPF',\n",
       " 'LOG4',\n",
       " 'NV_MAGICCONST',\n",
       " 'RECIP_BPF',\n",
       " 'Random',\n",
       " 'SG_MAGICCONST',\n",
       " 'SystemRandom',\n",
       " 'TWOPI',\n",
       " '_ONE',\n",
       " '_Sequence',\n",
       " '_Set',\n",
       " '__all__',\n",
       " '__builtins__',\n",
       " '__cached__',\n",
       " '__doc__',\n",
       " '__file__',\n",
       " '__loader__',\n",
       " '__name__',\n",
       " '__package__',\n",
       " '__spec__',\n",
       " '_accumulate',\n",
       " '_acos',\n",
       " '_bisect',\n",
       " '_ceil',\n",
       " '_cos',\n",
       " '_e',\n",
       " '_exp',\n",
       " '_floor',\n",
       " '_index',\n",
       " '_inst',\n",
       " '_isfinite',\n",
       " '_log',\n",
       " '_os',\n",
       " '_pi',\n",
       " '_random',\n",
       " '_repeat',\n",
       " '_sha512',\n",
       " '_sin',\n",
       " '_sqrt',\n",
       " '_test',\n",
       " '_test_generator',\n",
       " '_urandom',\n",
       " '_warn',\n",
       " 'betavariate',\n",
       " 'choice',\n",
       " 'choices',\n",
       " 'expovariate',\n",
       " 'gammavariate',\n",
       " 'gauss',\n",
       " 'getrandbits',\n",
       " 'getstate',\n",
       " 'lognormvariate',\n",
       " 'normalvariate',\n",
       " 'paretovariate',\n",
       " 'randbytes',\n",
       " 'randint',\n",
       " 'random',\n",
       " 'randrange',\n",
       " 'sample',\n",
       " 'seed',\n",
       " 'setstate',\n",
       " 'shuffle',\n",
       " 'triangular',\n",
       " 'uniform',\n",
       " 'vonmisesvariate',\n",
       " 'weibullvariate']"
      ]
     },
     "execution_count": 319,
     "metadata": {},
     "output_type": "execute_result"
    }
   ],
   "source": [
    "dir(random)"
   ]
  },
  {
   "cell_type": "code",
   "execution_count": 321,
   "id": "fa1c9030-0674-4fa4-93e4-ca73cf89ae17",
   "metadata": {},
   "outputs": [
    {
     "name": "stdout",
     "output_type": "stream",
     "text": [
      "Help on method randint in module random:\n",
      "\n",
      "randint(a, b) method of random.Random instance\n",
      "    Return random integer in range [a, b], including both end points.\n",
      "\n"
     ]
    }
   ],
   "source": [
    "help(random.randint)"
   ]
  },
  {
   "cell_type": "code",
   "execution_count": 346,
   "id": "144bdc48-561f-40e7-afe4-dce3fc1d5954",
   "metadata": {},
   "outputs": [
    {
     "data": {
      "text/plain": [
       "64"
      ]
     },
     "execution_count": 346,
     "metadata": {},
     "output_type": "execute_result"
    }
   ],
   "source": [
    "random.randint(1, 100)"
   ]
  },
  {
   "cell_type": "markdown",
   "id": "8a1d4e39-d5c2-497c-b166-d391077fc822",
   "metadata": {},
   "source": [
    "## Quick Lab: Loops/Strings\n",
    "* have the user enter a string, then loop through the string to generate (or print) a new string in which every character is duplicated, e.g., \"Python\" => \"PPyytthhoonn\""
   ]
  },
  {
   "cell_type": "code",
   "execution_count": null,
   "id": "1c791a04-3083-4e92-b7a4-7a7cbb6f55b5",
   "metadata": {},
   "outputs": [],
   "source": [
    "# 1. get a string/word from the user\n",
    "# 2. for each letter of the string: ... kinda looks like Python, but still English\n",
    "# 3.    write the letter TWICE all on the same line"
   ]
  },
  {
   "cell_type": "code",
   "execution_count": 392,
   "id": "85979099-d701-4c39-9b96-501a08a7217d",
   "metadata": {},
   "outputs": [
    {
     "name": "stdin",
     "output_type": "stream",
     "text": [
      "Enter a string:  three\n"
     ]
    },
    {
     "name": "stdout",
     "output_type": "stream",
     "text": [
      "ttthhhrrreeeeee"
     ]
    }
   ],
   "source": [
    "string = input('Enter a string: ') # 1\n",
    "\n",
    "for letter in string: # 2\n",
    "    # we have a number of ways we can write something twice...\n",
    "    print(letter * 3, end='') # 3...replication, followed by nothing (instead of \\n)\n",
    "    #print(letter, letter, sep='', end='')"
   ]
  },
  {
   "cell_type": "code",
   "execution_count": 373,
   "id": "ccf11800-6264-4756-ab70-8759310fbcb1",
   "metadata": {},
   "outputs": [
    {
     "name": "stdin",
     "output_type": "stream",
     "text": [
      "Enter a string:  Dijkstra\n"
     ]
    },
    {
     "name": "stdout",
     "output_type": "stream",
     "text": [
      "DDiijjkkssttrraa\n"
     ]
    }
   ],
   "source": [
    "new_string = ''\n",
    "string = input('Enter a string: ') # 1\n",
    "for letter in string:\n",
    "    #new_string = new_string + letter + letter\n",
    "    new_string += letter * 2\n",
    "print(new_string)"
   ]
  },
  {
   "cell_type": "code",
   "execution_count": null,
   "id": "106b320d-cd02-4a56-84c9-951934283bf7",
   "metadata": {},
   "outputs": [],
   "source": [
    "# green check means you did the quick lab, and may or may not be trying the lab"
   ]
  },
  {
   "cell_type": "markdown",
   "id": "9d7d6ac6-f763-429d-b0a5-4a65d35d2bc0",
   "metadata": {},
   "source": [
    "## (Group) Lab: Loops\n",
    "* Loop through the numbers from 2 to 25 and print out which numbers are prime, and for those numbers which are not prime numbers, you should print them as a product of two factors\n",
    "* Remember that prime = no divisors other than 1 and itself\n",
    "* Don't worry about efficiency, but if you're interested, check out math.sqrt()\n",
    "* example output:\n",
    "<pre>\n",
    "2 is a prime number\n",
    "3 is a prime number\n",
    "4 equals 2 * 2\n",
    "5 is a prime number\n",
    "6 equals 2 * 3\n",
    "7 is a prime number\n",
    "8 equals 2 * 4\n",
    "9 equals 3 * 3\n",
    "10 equals 2 * 5\n",
    "11 is a prime number\n",
    "12 equals 2 * 6\n",
    "13 is a prime number\n",
    "14 equals 2 * 7\n",
    "15 equals 3 * 5\n",
    "16 equals 2 * 8\n",
    "17 is a prime number\n",
    "18 equals 2 * 9\n",
    "19 is a prime number\n",
    "20 equals 2 * 10\n",
    "21 equals 3 * 7\n",
    "22 equals 2 * 11\n",
    "23 is a prime number\n",
    "24 equals 2 * 12\n",
    "25 equals 5 * 5\n",
    "</pre>"
   ]
  },
  {
   "cell_type": "code",
   "execution_count": null,
   "id": "0c9fc517-2633-4441-8c70-c5cdec2d3e82",
   "metadata": {},
   "outputs": [],
   "source": [
    "# 1. for each number from 2 to 25 (don't worry about Dijkstra here, this is English)\n",
    "# 2.    for each possible divisor from 2 up to the number-1\n",
    "# 3.        if possible divisor divides into number (i.e., no remainder), then\n",
    "# 4.           the number is NOT prime (because something divides in)\n",
    "# 5.           compute number divided by possible divisor (e.g., 10 divided by 2)\n",
    "# 6.           print number equals possible divisor times answer above\n",
    "# 7.           stop checking possible divisors because we found one\n",
    "# 8.    if we checked ALL the possible divisors and didn't find one, then\n",
    "# 9.       print the number IS PRIME"
   ]
  },
  {
   "cell_type": "code",
   "execution_count": 22,
   "id": "4a9b188c-397d-4bb3-849c-e97769c8fc03",
   "metadata": {},
   "outputs": [
    {
     "name": "stdout",
     "output_type": "stream",
     "text": [
      "2: \n",
      "3: 2 \n",
      "4: 2 3 \n",
      "5: 2 3 4 \n",
      "6: 2 3 4 5 \n",
      "7: 2 3 4 5 6 \n",
      "8: 2 3 4 5 6 7 \n",
      "9: 2 3 4 5 6 7 8 \n",
      "10: 2 3 4 5 6 7 8 9 \n",
      "11: 2 3 4 5 6 7 8 9 10 \n",
      "12: 2 3 4 5 6 7 8 9 10 11 \n",
      "13: 2 3 4 5 6 7 8 9 10 11 12 \n",
      "14: 2 3 4 5 6 7 8 9 10 11 12 13 \n",
      "15: 2 3 4 5 6 7 8 9 10 11 12 13 14 \n",
      "16: 2 3 4 5 6 7 8 9 10 11 12 13 14 15 \n",
      "17: 2 3 4 5 6 7 8 9 10 11 12 13 14 15 16 \n",
      "18: 2 3 4 5 6 7 8 9 10 11 12 13 14 15 16 17 \n",
      "19: 2 3 4 5 6 7 8 9 10 11 12 13 14 15 16 17 18 \n",
      "20: 2 3 4 5 6 7 8 9 10 11 12 13 14 15 16 17 18 19 \n",
      "21: 2 3 4 5 6 7 8 9 10 11 12 13 14 15 16 17 18 19 20 \n",
      "22: 2 3 4 5 6 7 8 9 10 11 12 13 14 15 16 17 18 19 20 21 \n",
      "23: 2 3 4 5 6 7 8 9 10 11 12 13 14 15 16 17 18 19 20 21 22 \n",
      "24: 2 3 4 5 6 7 8 9 10 11 12 13 14 15 16 17 18 19 20 21 22 23 \n",
      "25: 2 3 4 5 6 7 8 9 10 11 12 13 14 15 16 17 18 19 20 21 22 23 24 \n"
     ]
    }
   ],
   "source": [
    "for number in range(2, 26): # Edsger Dijkstra ... step 1 (2..25)\n",
    "    print(number, end=': ') # stay on this line...\n",
    "    for possible_divisor in range(2, number): # 2 ... 2..number-1\n",
    "        # let's check our assumptions...\n",
    "        print(possible_divisor, end=' ')\n",
    "    print() # nothing will be followed by \\n"
   ]
  },
  {
   "cell_type": "code",
   "execution_count": 8,
   "id": "697de08f-0eab-4d37-bd39-02722b9e570f",
   "metadata": {},
   "outputs": [
    {
     "name": "stdout",
     "output_type": "stream",
     "text": [
      "2 is prime\n",
      "3 is prime\n",
      "4 is NOT prime\n",
      "5 is prime\n",
      "6 is NOT prime\n",
      "7 is prime\n",
      "8 is NOT prime\n",
      "9 is NOT prime\n",
      "10 is NOT prime\n",
      "11 is prime\n",
      "12 is NOT prime\n",
      "13 is prime\n",
      "14 is NOT prime\n",
      "15 is NOT prime\n",
      "16 is NOT prime\n",
      "17 is prime\n",
      "18 is NOT prime\n",
      "19 is prime\n",
      "20 is NOT prime\n",
      "21 is NOT prime\n",
      "22 is NOT prime\n",
      "23 is prime\n",
      "24 is NOT prime\n",
      "25 is NOT prime\n"
     ]
    }
   ],
   "source": [
    "for number in range(2, 26): # Edsger Dijkstra ... step 1 (2..25)\n",
    "    is_prime = True # assume the number is prime\n",
    "    for possible_divisor in range(2, number): # 2 ... 2..number-1\n",
    "        if number % possible_divisor == 0: # 3, divides in evenly\n",
    "            print(number, 'is NOT prime') # 4\n",
    "            is_prime = False\n",
    "            break # 7\n",
    "    # end of loop       \n",
    "    # after the loop we need to determine what happened\n",
    "    # there are two ways to get here\n",
    "    if is_prime: # == True: # we ran through all of them\n",
    "        print(number, 'is prime')"
   ]
  },
  {
   "cell_type": "code",
   "execution_count": 28,
   "id": "396ecdcc-be4b-4ea8-81e0-73e21ebf0fd9",
   "metadata": {},
   "outputs": [
    {
     "name": "stdout",
     "output_type": "stream",
     "text": [
      "hello\n",
      "hello\n",
      "hello\n",
      "hello\n",
      "hello\n",
      "hello\n",
      "hello\n",
      "hello\n",
      "hello\n",
      "hello\n",
      "\n"
     ]
    }
   ],
   "source": [
    "print('hello\\n' * 10)"
   ]
  },
  {
   "cell_type": "code",
   "execution_count": 35,
   "id": "bac3b775-3357-4609-867b-b2ecab1c5756",
   "metadata": {},
   "outputs": [
    {
     "name": "stdout",
     "output_type": "stream",
     "text": [
      "hello 1\n",
      "hello 2\n",
      "hello 3\n",
      "hello 4\n",
      "hello 5\n",
      "hello 6\n",
      "hello 7\n",
      "hello 8\n",
      "hello 9\n",
      "hello 10\n"
     ]
    }
   ],
   "source": [
    "for times in range(1, 11): # count from 1..10\n",
    "    print('hello', times)"
   ]
  },
  {
   "cell_type": "code",
   "execution_count": 37,
   "id": "aaf8c75d-89a5-461b-a852-f83da2d50863",
   "metadata": {},
   "outputs": [
    {
     "name": "stdout",
     "output_type": "stream",
     "text": [
      "hello\n",
      "hello\n",
      "hello\n",
      "hello\n",
      "hello\n",
      "hello\n",
      "hello\n",
      "hello\n",
      "hello\n",
      "hello\n"
     ]
    }
   ],
   "source": [
    "for times in range(1, 11): # do this 10 times\n",
    "    print('hello')"
   ]
  },
  {
   "cell_type": "code",
   "execution_count": 41,
   "id": "9f1967b9-f8b5-4af1-ad7a-e63f0c710296",
   "metadata": {},
   "outputs": [
    {
     "name": "stdout",
     "output_type": "stream",
     "text": [
      "hello\n",
      "hello\n",
      "hello\n",
      "hello\n",
      "hello\n",
      "hello\n",
      "hello\n",
      "hello\n",
      "hello\n",
      "hello\n"
     ]
    }
   ],
   "source": [
    "for times in range(10): # do this 10 times\n",
    "    print('hello')"
   ]
  },
  {
   "cell_type": "code",
   "execution_count": 45,
   "id": "52492ba2-9ca1-41cf-8270-bd744525f2fe",
   "metadata": {},
   "outputs": [
    {
     "name": "stdout",
     "output_type": "stream",
     "text": [
      "hello\n",
      "hello\n",
      "hello\n",
      "hello\n",
      "hello\n",
      "hello\n",
      "hello\n",
      "hello\n",
      "hello\n",
      "hello\n"
     ]
    }
   ],
   "source": [
    "for _ in range(10): # do this 10 times, no need for a variable name\n",
    "    print('hello')"
   ]
  },
  {
   "cell_type": "code",
   "execution_count": 52,
   "id": "b3abdba4-967f-4f27-a09d-fdcc2f42fef6",
   "metadata": {},
   "outputs": [
    {
     "name": "stdout",
     "output_type": "stream",
     "text": [
      "yep\n"
     ]
    }
   ],
   "source": [
    "for num in range(2, 3):\n",
    "    print('yep')"
   ]
  },
  {
   "cell_type": "code",
   "execution_count": 10,
   "id": "c0d3b808-b4ed-4731-a889-aff4399add95",
   "metadata": {},
   "outputs": [
    {
     "name": "stdout",
     "output_type": "stream",
     "text": [
      "2\n",
      "3\n",
      "4\n"
     ]
    }
   ],
   "source": [
    "for count in range(2, 5):\n",
    "    print(count)"
   ]
  },
  {
   "cell_type": "code",
   "execution_count": 12,
   "id": "00af4794-f798-45aa-aa53-6cdde1dc7e6c",
   "metadata": {},
   "outputs": [
    {
     "name": "stdout",
     "output_type": "stream",
     "text": [
      "4\n"
     ]
    }
   ],
   "source": [
    "print(count)"
   ]
  },
  {
   "cell_type": "code",
   "execution_count": 16,
   "id": "7642e7c7-fa1b-4fd1-8ace-c654a2a95cbb",
   "metadata": {},
   "outputs": [],
   "source": [
    "for counter in range(2, 2):\n",
    "    print(counter)"
   ]
  },
  {
   "cell_type": "code",
   "execution_count": 18,
   "id": "99f98370-9bbf-4abc-a7ee-115f9f3f397d",
   "metadata": {},
   "outputs": [
    {
     "ename": "NameError",
     "evalue": "name 'counter' is not defined",
     "output_type": "error",
     "traceback": [
      "\u001b[0;31m---------------------------------------------------------------------------\u001b[0m",
      "\u001b[0;31mNameError\u001b[0m                                 Traceback (most recent call last)",
      "Cell \u001b[0;32mIn[18], line 1\u001b[0m\n\u001b[0;32m----> 1\u001b[0m \u001b[38;5;28mprint\u001b[39m(counter)\n",
      "\u001b[0;31mNameError\u001b[0m: name 'counter' is not defined"
     ]
    }
   ],
   "source": [
    "print(counter)"
   ]
  },
  {
   "cell_type": "code",
   "execution_count": 20,
   "id": "ebd327d1-084d-4583-8ee3-856d107afbfa",
   "metadata": {},
   "outputs": [
    {
     "name": "stdout",
     "output_type": "stream",
     "text": [
      "2 is prime\n",
      "3 is prime\n",
      "4 is NOT prime\n",
      "5 is prime\n",
      "6 is NOT prime\n",
      "7 is prime\n",
      "8 is NOT prime\n",
      "9 is NOT prime\n",
      "10 is NOT prime\n",
      "11 is prime\n",
      "12 is NOT prime\n",
      "13 is prime\n",
      "14 is NOT prime\n",
      "15 is NOT prime\n",
      "16 is NOT prime\n",
      "17 is prime\n",
      "18 is NOT prime\n",
      "19 is prime\n",
      "20 is NOT prime\n",
      "21 is NOT prime\n",
      "22 is NOT prime\n",
      "23 is prime\n",
      "24 is NOT prime\n",
      "25 is NOT prime\n"
     ]
    }
   ],
   "source": [
    "for number in range(2, 26): # Edsger Dijkstra ... step 1 (2..25)\n",
    "    for possible_divisor in range(2, number): # 2 ... 2..number-1\n",
    "        if number % possible_divisor == 0: # 3, divides in evenly\n",
    "            print(number, 'is NOT prime') # 4\n",
    "            break # 7\n",
    "    else: # this is only run if we did NOT break\n",
    "        print(number, 'is prime')"
   ]
  },
  {
   "cell_type": "code",
   "execution_count": 24,
   "id": "66681c87-6598-42f0-a42b-d5bb7ffd2a90",
   "metadata": {},
   "outputs": [
    {
     "name": "stdout",
     "output_type": "stream",
     "text": [
      "1\n",
      "2\n",
      "3\n",
      "4\n",
      "5\n",
      "6\n",
      "7\n",
      "8\n",
      "9\n",
      "10\n",
      "done\n"
     ]
    }
   ],
   "source": [
    "for count in range(1, 11):\n",
    "    print(count)\n",
    "\n",
    "print('done')"
   ]
  },
  {
   "cell_type": "code",
   "execution_count": 36,
   "id": "b1c388e3-6766-465f-ba7d-9f48ff8639f5",
   "metadata": {},
   "outputs": [
    {
     "name": "stdout",
     "output_type": "stream",
     "text": [
      "2 is prime\n",
      "3 is prime\n",
      "4 equals 2 * 2\n",
      "5 is prime\n",
      "6 equals 2 * 3\n",
      "7 is prime\n",
      "8 equals 2 * 4\n",
      "9 equals 3 * 3\n",
      "10 equals 2 * 5\n",
      "11 is prime\n",
      "12 equals 2 * 6\n",
      "13 is prime\n",
      "14 equals 2 * 7\n",
      "15 equals 3 * 5\n",
      "16 equals 2 * 8\n",
      "17 is prime\n",
      "18 equals 2 * 9\n",
      "19 is prime\n",
      "20 equals 2 * 10\n",
      "21 equals 3 * 7\n",
      "22 equals 2 * 11\n",
      "23 is prime\n",
      "24 equals 2 * 12\n",
      "25 equals 5 * 5\n"
     ]
    }
   ],
   "source": [
    "for number in range(2, 26): # Edsger Dijkstra ... step 1 (2..25)\n",
    "    for possible_divisor in range(2, number): # 2 ... 2..number-1\n",
    "        if number % possible_divisor == 0: # 3, divides in evenly\n",
    "            print(number, 'equals', possible_divisor, '*', number // possible_divisor)\n",
    "            break # 7\n",
    "    else: # this is only run if we did NOT break\n",
    "        print(number, 'is prime')"
   ]
  },
  {
   "cell_type": "code",
   "execution_count": 42,
   "id": "02b4c6f1-a31c-4535-b8aa-62b4c5adc19e",
   "metadata": {},
   "outputs": [
    {
     "name": "stdout",
     "output_type": "stream",
     "text": [
      "1.5\n"
     ]
    }
   ],
   "source": [
    "print(3 / 2)"
   ]
  },
  {
   "cell_type": "code",
   "execution_count": 38,
   "id": "03736b02-2804-4dc6-9d6e-9af2b16c7b7e",
   "metadata": {},
   "outputs": [
    {
     "data": {
      "text/plain": [
       "2.0"
      ]
     },
     "execution_count": 38,
     "metadata": {},
     "output_type": "execute_result"
    }
   ],
   "source": [
    "4 / 2"
   ]
  },
  {
   "cell_type": "code",
   "execution_count": 40,
   "id": "836ded5b-3da4-4319-aac4-f5a00212ac48",
   "metadata": {},
   "outputs": [
    {
     "name": "stdout",
     "output_type": "stream",
     "text": [
      "1\n"
     ]
    }
   ],
   "source": [
    "%%python2\n",
    "print(3 / 2)"
   ]
  },
  {
   "cell_type": "code",
   "execution_count": 44,
   "id": "c5b9960f-2fd4-4ba1-a755-a3cc6ec1156c",
   "metadata": {},
   "outputs": [
    {
     "data": {
      "text/plain": [
       "1"
      ]
     },
     "execution_count": 44,
     "metadata": {},
     "output_type": "execute_result"
    }
   ],
   "source": [
    "3 // 2"
   ]
  },
  {
   "cell_type": "code",
   "execution_count": 47,
   "id": "2c489e21-3f27-45e8-b516-c721983d2af3",
   "metadata": {},
   "outputs": [
    {
     "data": {
      "text/plain": [
       "'n'"
      ]
     },
     "execution_count": 47,
     "metadata": {},
     "output_type": "execute_result"
    }
   ],
   "source": [
    "'Python'[-1]"
   ]
  },
  {
   "cell_type": "code",
   "execution_count": 49,
   "id": "6c67bc9c-9529-40ed-b356-ef384be77748",
   "metadata": {},
   "outputs": [
    {
     "data": {
      "text/plain": [
       "'P'"
      ]
     },
     "execution_count": 49,
     "metadata": {},
     "output_type": "execute_result"
    }
   ],
   "source": [
    "'Python'[0]"
   ]
  },
  {
   "cell_type": "code",
   "execution_count": 60,
   "id": "b98d5501-940d-435a-bd34-9873b3f221db",
   "metadata": {},
   "outputs": [
    {
     "data": {
      "text/plain": [
       "5"
      ]
     },
     "execution_count": 60,
     "metadata": {},
     "output_type": "execute_result"
    }
   ],
   "source": [
    "len('thing')"
   ]
  },
  {
   "cell_type": "code",
   "execution_count": 62,
   "id": "aea9a448-dc1b-4892-aa44-cdd1d8feb5c9",
   "metadata": {},
   "outputs": [
    {
     "data": {
      "text/plain": [
       "'1'"
      ]
     },
     "execution_count": 62,
     "metadata": {},
     "output_type": "execute_result"
    }
   ],
   "source": [
    "str(1)"
   ]
  },
  {
   "cell_type": "code",
   "execution_count": 64,
   "id": "614004b8-3032-4a8d-a66f-34bd604cb757",
   "metadata": {},
   "outputs": [
    {
     "name": "stdout",
     "output_type": "stream",
     "text": [
      "1\n"
     ]
    }
   ],
   "source": [
    "print(1)"
   ]
  },
  {
   "cell_type": "code",
   "execution_count": 66,
   "id": "45965bb8-196b-43bf-a7e2-60b5b25a70ee",
   "metadata": {},
   "outputs": [],
   "source": [
    "variable = 'thing'"
   ]
  },
  {
   "cell_type": "code",
   "execution_count": 68,
   "id": "41523555-5e54-46e2-ab4b-030da54726cf",
   "metadata": {},
   "outputs": [
    {
     "name": "stdout",
     "output_type": "stream",
     "text": [
      "thing\n"
     ]
    }
   ],
   "source": [
    "print(variable)"
   ]
  },
  {
   "cell_type": "code",
   "execution_count": 70,
   "id": "ce8b6195-8305-471a-8af0-2254903df5d9",
   "metadata": {},
   "outputs": [
    {
     "data": {
      "text/plain": [
       "'thing'"
      ]
     },
     "execution_count": 70,
     "metadata": {},
     "output_type": "execute_result"
    }
   ],
   "source": [
    "variable"
   ]
  },
  {
   "cell_type": "code",
   "execution_count": 72,
   "id": "fe71384c-6a69-423e-838b-1760791134d7",
   "metadata": {},
   "outputs": [
    {
     "data": {
      "text/plain": [
       "5"
      ]
     },
     "execution_count": 72,
     "metadata": {},
     "output_type": "execute_result"
    }
   ],
   "source": [
    "len(variable)"
   ]
  },
  {
   "cell_type": "code",
   "execution_count": 77,
   "id": "d018ed74-b765-420e-a5b5-41f2eff4b973",
   "metadata": {},
   "outputs": [
    {
     "name": "stdout",
     "output_type": "stream",
     "text": [
      "13\n"
     ]
    }
   ],
   "source": [
    "print(13)"
   ]
  },
  {
   "cell_type": "code",
   "execution_count": 79,
   "id": "216055fc-ecac-4461-870a-88d9f4f0b9cf",
   "metadata": {},
   "outputs": [
    {
     "name": "stdout",
     "output_type": "stream",
     "text": [
      "13\n"
     ]
    }
   ],
   "source": [
    "print('13')"
   ]
  },
  {
   "cell_type": "code",
   "execution_count": 81,
   "id": "de11bc27-f17b-4ec2-a783-4976a26586c0",
   "metadata": {},
   "outputs": [
    {
     "name": "stdout",
     "output_type": "stream",
     "text": [
      "13.0\n"
     ]
    }
   ],
   "source": [
    "print(13.0)"
   ]
  },
  {
   "cell_type": "code",
   "execution_count": 83,
   "id": "39067d4f-12d2-4183-a422-0621d6c28101",
   "metadata": {},
   "outputs": [
    {
     "name": "stdout",
     "output_type": "stream",
     "text": [
      "True\n"
     ]
    }
   ],
   "source": [
    "print(True)"
   ]
  },
  {
   "cell_type": "code",
   "execution_count": 87,
   "id": "ce11a9a7-652d-4481-a864-b71a4605e023",
   "metadata": {},
   "outputs": [
    {
     "name": "stdout",
     "output_type": "stream",
     "text": [
      "<module 'math' from '/opt/conda/envs/anaconda-panel-2023.05-py310/lib/python3.11/lib-dynload/math.cpython-311-x86_64-linux-gnu.so'>\n"
     ]
    }
   ],
   "source": [
    "import math\n",
    "print(math)"
   ]
  },
  {
   "cell_type": "code",
   "execution_count": 89,
   "id": "b529af36-fc51-4709-95cc-7a95809d9782",
   "metadata": {},
   "outputs": [
    {
     "data": {
      "text/plain": [
       "'1'"
      ]
     },
     "execution_count": 89,
     "metadata": {},
     "output_type": "execute_result"
    }
   ],
   "source": [
    "str(1)"
   ]
  },
  {
   "cell_type": "code",
   "execution_count": 91,
   "id": "7e426bf3-2598-4155-8765-f041007ad8ea",
   "metadata": {},
   "outputs": [
    {
     "data": {
      "text/plain": [
       "'1.0'"
      ]
     },
     "execution_count": 91,
     "metadata": {},
     "output_type": "execute_result"
    }
   ],
   "source": [
    "str(1.0)"
   ]
  },
  {
   "cell_type": "code",
   "execution_count": 93,
   "id": "c1a8675a-3a11-4952-b463-0b3434a2e102",
   "metadata": {},
   "outputs": [
    {
     "data": {
      "text/plain": [
       "'True'"
      ]
     },
     "execution_count": 93,
     "metadata": {},
     "output_type": "execute_result"
    }
   ],
   "source": [
    "str(True)"
   ]
  },
  {
   "cell_type": "code",
   "execution_count": 95,
   "id": "8b240386-ab14-4074-9727-2233a9fdf9b8",
   "metadata": {},
   "outputs": [
    {
     "data": {
      "text/plain": [
       "'string'"
      ]
     },
     "execution_count": 95,
     "metadata": {},
     "output_type": "execute_result"
    }
   ],
   "source": [
    "str('string')"
   ]
  },
  {
   "cell_type": "code",
   "execution_count": 97,
   "id": "e8c45492-b557-45e4-9365-fb88f65b333d",
   "metadata": {},
   "outputs": [
    {
     "data": {
      "text/plain": [
       "6"
      ]
     },
     "execution_count": 97,
     "metadata": {},
     "output_type": "execute_result"
    }
   ],
   "source": [
    "len('string')"
   ]
  },
  {
   "cell_type": "code",
   "execution_count": 101,
   "id": "aaaf49d3-8d76-4ba5-ae91-dbdc827b1fa0",
   "metadata": {},
   "outputs": [
    {
     "ename": "NameError",
     "evalue": "name 'startswith' is not defined",
     "output_type": "error",
     "traceback": [
      "\u001b[0;31m---------------------------------------------------------------------------\u001b[0m",
      "\u001b[0;31mNameError\u001b[0m                                 Traceback (most recent call last)",
      "Cell \u001b[0;32mIn[101], line 1\u001b[0m\n\u001b[0;32m----> 1\u001b[0m startswith(\u001b[38;5;124m'\u001b[39m\u001b[38;5;124mthis or that\u001b[39m\u001b[38;5;124m'\u001b[39m, \u001b[38;5;124m'\u001b[39m\u001b[38;5;124mthis\u001b[39m\u001b[38;5;124m'\u001b[39m)\n",
      "\u001b[0;31mNameError\u001b[0m: name 'startswith' is not defined"
     ]
    }
   ],
   "source": [
    "startswith('this or that', 'this')"
   ]
  },
  {
   "cell_type": "code",
   "execution_count": 106,
   "id": "3368ff5b-6ab9-4b94-b7a7-8877720b0071",
   "metadata": {},
   "outputs": [],
   "source": [
    "s = 'string'"
   ]
  },
  {
   "cell_type": "code",
   "execution_count": 108,
   "id": "11ff6a54-27bc-4096-a82d-ed52bc7b408f",
   "metadata": {},
   "outputs": [
    {
     "name": "stdout",
     "output_type": "stream",
     "text": [
      "string\n"
     ]
    }
   ],
   "source": [
    "print(s)"
   ]
  },
  {
   "cell_type": "code",
   "execution_count": 112,
   "id": "a22974e7-4c5c-458d-a683-6527f46f3f1a",
   "metadata": {},
   "outputs": [
    {
     "data": {
      "text/plain": [
       "True"
      ]
     },
     "execution_count": 112,
     "metadata": {},
     "output_type": "execute_result"
    }
   ],
   "source": [
    "s.startswith('s')"
   ]
  },
  {
   "cell_type": "code",
   "execution_count": 114,
   "id": "1e9c79b2-5aca-418e-bca0-f77b2cb0c2b6",
   "metadata": {},
   "outputs": [],
   "source": [
    "num = 1234"
   ]
  },
  {
   "cell_type": "code",
   "execution_count": 116,
   "id": "9e29eec9-82ad-436b-80f3-7ac691920857",
   "metadata": {},
   "outputs": [
    {
     "ename": "AttributeError",
     "evalue": "'int' object has no attribute 'startswith'",
     "output_type": "error",
     "traceback": [
      "\u001b[0;31m---------------------------------------------------------------------------\u001b[0m",
      "\u001b[0;31mAttributeError\u001b[0m                            Traceback (most recent call last)",
      "Cell \u001b[0;32mIn[116], line 1\u001b[0m\n\u001b[0;32m----> 1\u001b[0m num\u001b[38;5;241m.\u001b[39mstartswith(\u001b[38;5;241m1\u001b[39m)\n",
      "\u001b[0;31mAttributeError\u001b[0m: 'int' object has no attribute 'startswith'"
     ]
    }
   ],
   "source": [
    "num.startswith(1)"
   ]
  },
  {
   "cell_type": "code",
   "execution_count": 118,
   "id": "3973e966-d3b2-480a-be91-398f40f8aa95",
   "metadata": {},
   "outputs": [
    {
     "data": {
      "text/plain": [
       "'1234'"
      ]
     },
     "execution_count": 118,
     "metadata": {},
     "output_type": "execute_result"
    }
   ],
   "source": [
    "str(num)"
   ]
  },
  {
   "cell_type": "code",
   "execution_count": 120,
   "id": "c76185bc-ec21-462e-aa81-067fe6dc0855",
   "metadata": {},
   "outputs": [
    {
     "data": {
      "text/plain": [
       "True"
      ]
     },
     "execution_count": 120,
     "metadata": {},
     "output_type": "execute_result"
    }
   ],
   "source": [
    "str(num).startswith('1')"
   ]
  },
  {
   "cell_type": "code",
   "execution_count": 126,
   "id": "1ced0d82-bd4c-4e8c-8dd1-7a1f4730dbcd",
   "metadata": {},
   "outputs": [
    {
     "data": {
      "text/plain": [
       "1"
      ]
     },
     "execution_count": 126,
     "metadata": {},
     "output_type": "execute_result"
    }
   ],
   "source": [
    "1234 // 1000"
   ]
  },
  {
   "cell_type": "code",
   "execution_count": 128,
   "id": "52b887c3-b734-4578-b052-0e16c3593f85",
   "metadata": {},
   "outputs": [
    {
     "data": {
      "text/plain": [
       "12"
      ]
     },
     "execution_count": 128,
     "metadata": {},
     "output_type": "execute_result"
    }
   ],
   "source": [
    "12345 // 1000"
   ]
  },
  {
   "cell_type": "code",
   "execution_count": 130,
   "id": "8a84e0b0-3735-491c-89d1-5430e0098740",
   "metadata": {},
   "outputs": [
    {
     "data": {
      "text/plain": [
       "5"
      ]
     },
     "execution_count": 130,
     "metadata": {},
     "output_type": "execute_result"
    }
   ],
   "source": [
    "12345 % 10"
   ]
  },
  {
   "cell_type": "code",
   "execution_count": 136,
   "id": "6709a2c2-f499-4563-ac60-47b042813309",
   "metadata": {},
   "outputs": [],
   "source": [
    "name = 'dave'"
   ]
  },
  {
   "cell_type": "code",
   "execution_count": 138,
   "id": "da5ed08b-42e8-4da9-b111-77987d027638",
   "metadata": {},
   "outputs": [
    {
     "ename": "TypeError",
     "evalue": "'str' object does not support item assignment",
     "output_type": "error",
     "traceback": [
      "\u001b[0;31m---------------------------------------------------------------------------\u001b[0m",
      "\u001b[0;31mTypeError\u001b[0m                                 Traceback (most recent call last)",
      "Cell \u001b[0;32mIn[138], line 1\u001b[0m\n\u001b[0;32m----> 1\u001b[0m name[\u001b[38;5;241m0\u001b[39m] \u001b[38;5;241m=\u001b[39m \u001b[38;5;124m'\u001b[39m\u001b[38;5;124mD\u001b[39m\u001b[38;5;124m'\u001b[39m\n",
      "\u001b[0;31mTypeError\u001b[0m: 'str' object does not support item assignment"
     ]
    }
   ],
   "source": [
    "name[0] = 'D'"
   ]
  },
  {
   "cell_type": "code",
   "execution_count": 140,
   "id": "bacdb204-6837-41af-9358-284edf5eb1f6",
   "metadata": {},
   "outputs": [],
   "source": [
    "name = 'Dave'"
   ]
  },
  {
   "cell_type": "code",
   "execution_count": 148,
   "id": "36a69cf9-5b4b-41cf-b172-10a2df9fe6b6",
   "metadata": {},
   "outputs": [],
   "source": [
    "words = \"\"\"\n",
    "   apple\n",
    "fig\n",
    "pear   \"\"\""
   ]
  },
  {
   "cell_type": "code",
   "execution_count": 150,
   "id": "14f519c3-4999-489f-bb7a-d2ab7d7348cd",
   "metadata": {},
   "outputs": [
    {
     "data": {
      "text/plain": [
       "'\\n   apple\\nfig\\npear   '"
      ]
     },
     "execution_count": 150,
     "metadata": {},
     "output_type": "execute_result"
    }
   ],
   "source": [
    "words"
   ]
  },
  {
   "cell_type": "code",
   "execution_count": 154,
   "id": "424d4291-5fad-447a-9e5c-aaf5fa59532f",
   "metadata": {},
   "outputs": [
    {
     "name": "stdout",
     "output_type": "stream",
     "text": [
      "apple\n",
      "fig\n",
      "pear\n"
     ]
    }
   ],
   "source": [
    "print(words.strip())"
   ]
  },
  {
   "cell_type": "code",
   "execution_count": 158,
   "id": "344cb3bf-412c-4e59-ae2a-3267539ad535",
   "metadata": {},
   "outputs": [],
   "source": [
    "poem = \"\"\"TWO roads diverged in a yellow wood,\n",
    "And sorry I could not travel both\n",
    "And be one traveler, long I stood\n",
    "And looked down one as far as I could\n",
    "To where it bent in the undergrowth;\n",
    "\n",
    "Then took the other, as just as fair,\n",
    "And having perhaps the better claim,\n",
    "Because it was grassy and wanted wear;\n",
    "Though as for that the passing there\n",
    "Had worn them really about the same,\n",
    "\n",
    "And both that morning equally lay\n",
    "In leaves no step had trodden black.\n",
    "Oh, I kept the first for another day!\n",
    "Yet knowing how way leads on to way,\n",
    "I doubted if I should ever come back.\n",
    "\n",
    "I shall be telling this with a sigh\n",
    "Somewhere ages and ages hence:\n",
    "Two roads diverged in a wood, and I—\n",
    "I took the one less traveled by,\n",
    "And that has made all the difference.\"\"\""
   ]
  },
  {
   "cell_type": "code",
   "execution_count": 160,
   "id": "159decba-2976-4d5f-87d9-0e6bc3ea356d",
   "metadata": {},
   "outputs": [
    {
     "data": {
      "text/plain": [
       "3"
      ]
     },
     "execution_count": 160,
     "metadata": {},
     "output_type": "execute_result"
    }
   ],
   "source": [
    "poem.count('and')"
   ]
  },
  {
   "cell_type": "code",
   "execution_count": 162,
   "id": "a596fd80-fb29-4365-940d-925dffda2574",
   "metadata": {},
   "outputs": [
    {
     "data": {
      "text/plain": [
       "9"
      ]
     },
     "execution_count": 162,
     "metadata": {},
     "output_type": "execute_result"
    }
   ],
   "source": [
    "poem.lower().count('and')"
   ]
  },
  {
   "cell_type": "code",
   "execution_count": 164,
   "id": "0a130310-a2f3-4866-89e9-4192298eab02",
   "metadata": {},
   "outputs": [
    {
     "data": {
      "text/plain": [
       "9"
      ]
     },
     "execution_count": 164,
     "metadata": {},
     "output_type": "execute_result"
    }
   ],
   "source": [
    "poem.upper().count('AND')"
   ]
  },
  {
   "cell_type": "code",
   "execution_count": 167,
   "id": "15c38f8b-0d80-4973-af04-27a7c132b3f0",
   "metadata": {},
   "outputs": [
    {
     "data": {
      "text/plain": [
       "'a'"
      ]
     },
     "execution_count": 167,
     "metadata": {},
     "output_type": "execute_result"
    }
   ],
   "source": [
    "'A'.swapcase()"
   ]
  },
  {
   "cell_type": "code",
   "execution_count": 170,
   "id": "e103aaf3-6cbd-4c39-a730-64804e9bf453",
   "metadata": {},
   "outputs": [
    {
     "name": "stdout",
     "output_type": "stream",
     "text": [
      "Help on built-in function expandtabs:\n",
      "\n",
      "expandtabs(tabsize=8) method of builtins.str instance\n",
      "    Return a copy where all tab characters are expanded using spaces.\n",
      "    \n",
      "    If tabsize is not given, a tab size of 8 characters is assumed.\n",
      "\n"
     ]
    }
   ],
   "source": [
    "help(poem.expandtabs)"
   ]
  },
  {
   "cell_type": "code",
   "execution_count": 180,
   "id": "5aea410c-4d5f-4c27-ab05-bfcd48ae8736",
   "metadata": {},
   "outputs": [
    {
     "data": {
      "text/plain": [
       "'thistles        that'"
      ]
     },
     "execution_count": 180,
     "metadata": {},
     "output_type": "execute_result"
    }
   ],
   "source": [
    "'thistles\\tthat'.expandtabs()"
   ]
  },
  {
   "cell_type": "code",
   "execution_count": 194,
   "id": "25335f65-3e43-4294-80f2-ae9b1138c859",
   "metadata": {},
   "outputs": [
    {
     "name": "stdout",
     "output_type": "stream",
     "text": [
      "2000 equals 2 * 1000\n",
      "2001 equals 3 * 667\n",
      "2002 equals 2 * 1001\n",
      "2003 is prime\n",
      "2004 equals 2 * 1002\n",
      "2005 equals 5 * 401\n",
      "2006 equals 2 * 1003\n",
      "2007 equals 3 * 669\n",
      "2008 equals 2 * 1004\n",
      "2009 equals 7 * 287\n",
      "2010 equals 2 * 1005\n",
      "2011 is prime\n",
      "2012 equals 2 * 1006\n",
      "2013 equals 3 * 671\n",
      "2014 equals 2 * 1007\n",
      "2015 equals 5 * 403\n",
      "2016 equals 2 * 1008\n",
      "2017 is prime\n",
      "2018 equals 2 * 1009\n",
      "2019 equals 3 * 673\n",
      "2020 equals 2 * 1010\n",
      "2021 equals 43 * 47\n",
      "2022 equals 2 * 1011\n",
      "2023 equals 7 * 289\n",
      "2024 equals 2 * 1012\n",
      "2025 equals 3 * 675\n",
      "2026 equals 2 * 1013\n",
      "2027 is prime\n",
      "2028 equals 2 * 1014\n",
      "2029 is prime\n",
      "2030 equals 2 * 1015\n",
      "2031 equals 3 * 677\n",
      "2032 equals 2 * 1016\n",
      "2033 equals 19 * 107\n",
      "2034 equals 2 * 1017\n",
      "2035 equals 5 * 407\n",
      "2036 equals 2 * 1018\n",
      "2037 equals 3 * 679\n",
      "2038 equals 2 * 1019\n",
      "2039 is prime\n",
      "2040 equals 2 * 1020\n",
      "2041 equals 13 * 157\n",
      "2042 equals 2 * 1021\n",
      "2043 equals 3 * 681\n",
      "2044 equals 2 * 1022\n",
      "2045 equals 5 * 409\n",
      "2046 equals 2 * 1023\n",
      "2047 equals 23 * 89\n",
      "2048 equals 2 * 1024\n",
      "2049 equals 3 * 683\n",
      "2050 equals 2 * 1025\n",
      "2051 equals 7 * 293\n",
      "2052 equals 2 * 1026\n",
      "2053 is prime\n",
      "2054 equals 2 * 1027\n",
      "2055 equals 3 * 685\n",
      "2056 equals 2 * 1028\n",
      "2057 equals 11 * 187\n",
      "2058 equals 2 * 1029\n",
      "2059 equals 29 * 71\n",
      "2060 equals 2 * 1030\n",
      "2061 equals 3 * 687\n",
      "2062 equals 2 * 1031\n",
      "2063 is prime\n",
      "2064 equals 2 * 1032\n",
      "2065 equals 5 * 413\n",
      "2066 equals 2 * 1033\n",
      "2067 equals 3 * 689\n",
      "2068 equals 2 * 1034\n",
      "2069 is prime\n",
      "2070 equals 2 * 1035\n",
      "2071 equals 19 * 109\n",
      "2072 equals 2 * 1036\n",
      "2073 equals 3 * 691\n",
      "2074 equals 2 * 1037\n",
      "2075 equals 5 * 415\n",
      "2076 equals 2 * 1038\n",
      "2077 equals 31 * 67\n",
      "2078 equals 2 * 1039\n",
      "2079 equals 3 * 693\n",
      "2080 equals 2 * 1040\n",
      "2081 is prime\n",
      "2082 equals 2 * 1041\n",
      "2083 is prime\n",
      "2084 equals 2 * 1042\n",
      "2085 equals 3 * 695\n",
      "2086 equals 2 * 1043\n",
      "2087 is prime\n",
      "2088 equals 2 * 1044\n",
      "2089 is prime\n",
      "2090 equals 2 * 1045\n",
      "2091 equals 3 * 697\n",
      "2092 equals 2 * 1046\n",
      "2093 equals 7 * 299\n",
      "2094 equals 2 * 1047\n",
      "2095 equals 5 * 419\n",
      "2096 equals 2 * 1048\n",
      "2097 equals 3 * 699\n",
      "2098 equals 2 * 1049\n",
      "2099 is prime\n",
      "2100 equals 2 * 1050\n",
      "2101 equals 11 * 191\n",
      "2102 equals 2 * 1051\n",
      "2103 equals 3 * 701\n",
      "2104 equals 2 * 1052\n",
      "2105 equals 5 * 421\n",
      "2106 equals 2 * 1053\n",
      "2107 equals 7 * 301\n",
      "2108 equals 2 * 1054\n",
      "2109 equals 3 * 703\n",
      "2110 equals 2 * 1055\n",
      "2111 is prime\n",
      "2112 equals 2 * 1056\n",
      "2113 is prime\n",
      "2114 equals 2 * 1057\n",
      "2115 equals 3 * 705\n",
      "2116 equals 2 * 1058\n",
      "2117 equals 29 * 73\n",
      "2118 equals 2 * 1059\n",
      "2119 equals 13 * 163\n",
      "2120 equals 2 * 1060\n",
      "2121 equals 3 * 707\n",
      "2122 equals 2 * 1061\n",
      "2123 equals 11 * 193\n",
      "2124 equals 2 * 1062\n",
      "2125 equals 5 * 425\n",
      "2126 equals 2 * 1063\n",
      "2127 equals 3 * 709\n",
      "2128 equals 2 * 1064\n",
      "2129 is prime\n",
      "2130 equals 2 * 1065\n",
      "2131 is prime\n",
      "2132 equals 2 * 1066\n",
      "2133 equals 3 * 711\n",
      "2134 equals 2 * 1067\n",
      "2135 equals 5 * 427\n",
      "2136 equals 2 * 1068\n",
      "2137 is prime\n",
      "2138 equals 2 * 1069\n",
      "2139 equals 3 * 713\n",
      "2140 equals 2 * 1070\n",
      "2141 is prime\n",
      "2142 equals 2 * 1071\n",
      "2143 is prime\n",
      "2144 equals 2 * 1072\n",
      "2145 equals 3 * 715\n",
      "2146 equals 2 * 1073\n",
      "2147 equals 19 * 113\n",
      "2148 equals 2 * 1074\n",
      "2149 equals 7 * 307\n",
      "2150 equals 2 * 1075\n",
      "2151 equals 3 * 717\n",
      "2152 equals 2 * 1076\n",
      "2153 is prime\n",
      "2154 equals 2 * 1077\n",
      "2155 equals 5 * 431\n",
      "2156 equals 2 * 1078\n",
      "2157 equals 3 * 719\n",
      "2158 equals 2 * 1079\n",
      "2159 equals 17 * 127\n",
      "2160 equals 2 * 1080\n",
      "2161 is prime\n",
      "2162 equals 2 * 1081\n",
      "2163 equals 3 * 721\n",
      "2164 equals 2 * 1082\n",
      "2165 equals 5 * 433\n",
      "2166 equals 2 * 1083\n",
      "2167 equals 11 * 197\n",
      "2168 equals 2 * 1084\n",
      "2169 equals 3 * 723\n",
      "2170 equals 2 * 1085\n",
      "2171 equals 13 * 167\n",
      "2172 equals 2 * 1086\n",
      "2173 equals 41 * 53\n",
      "2174 equals 2 * 1087\n",
      "2175 equals 3 * 725\n",
      "2176 equals 2 * 1088\n",
      "2177 equals 7 * 311\n",
      "2178 equals 2 * 1089\n",
      "2179 is prime\n",
      "2180 equals 2 * 1090\n",
      "2181 equals 3 * 727\n",
      "2182 equals 2 * 1091\n",
      "2183 equals 37 * 59\n",
      "2184 equals 2 * 1092\n",
      "2185 equals 5 * 437\n",
      "2186 equals 2 * 1093\n",
      "2187 equals 3 * 729\n",
      "2188 equals 2 * 1094\n",
      "2189 equals 11 * 199\n",
      "2190 equals 2 * 1095\n",
      "2191 equals 7 * 313\n",
      "2192 equals 2 * 1096\n",
      "2193 equals 3 * 731\n",
      "2194 equals 2 * 1097\n",
      "2195 equals 5 * 439\n",
      "2196 equals 2 * 1098\n",
      "2197 equals 13 * 169\n",
      "2198 equals 2 * 1099\n",
      "2199 equals 3 * 733\n",
      "2200 equals 2 * 1100\n",
      "2201 equals 31 * 71\n",
      "2202 equals 2 * 1101\n",
      "2203 is prime\n",
      "2204 equals 2 * 1102\n",
      "2205 equals 3 * 735\n",
      "2206 equals 2 * 1103\n",
      "2207 is prime\n",
      "2208 equals 2 * 1104\n",
      "2209 equals 47 * 47\n",
      "2210 equals 2 * 1105\n",
      "2211 equals 3 * 737\n",
      "2212 equals 2 * 1106\n",
      "2213 is prime\n",
      "2214 equals 2 * 1107\n",
      "2215 equals 5 * 443\n",
      "2216 equals 2 * 1108\n",
      "2217 equals 3 * 739\n",
      "2218 equals 2 * 1109\n",
      "2219 equals 7 * 317\n",
      "2220 equals 2 * 1110\n",
      "2221 is prime\n",
      "2222 equals 2 * 1111\n",
      "2223 equals 3 * 741\n",
      "2224 equals 2 * 1112\n",
      "2225 equals 5 * 445\n",
      "2226 equals 2 * 1113\n",
      "2227 equals 17 * 131\n",
      "2228 equals 2 * 1114\n",
      "2229 equals 3 * 743\n",
      "2230 equals 2 * 1115\n",
      "2231 equals 23 * 97\n",
      "2232 equals 2 * 1116\n",
      "2233 equals 7 * 319\n",
      "2234 equals 2 * 1117\n",
      "2235 equals 3 * 745\n",
      "2236 equals 2 * 1118\n",
      "2237 is prime\n",
      "2238 equals 2 * 1119\n",
      "2239 is prime\n",
      "2240 equals 2 * 1120\n",
      "2241 equals 3 * 747\n",
      "2242 equals 2 * 1121\n",
      "2243 is prime\n",
      "2244 equals 2 * 1122\n",
      "2245 equals 5 * 449\n",
      "2246 equals 2 * 1123\n",
      "2247 equals 3 * 749\n",
      "2248 equals 2 * 1124\n",
      "2249 equals 13 * 173\n",
      "2250 equals 2 * 1125\n",
      "2251 is prime\n",
      "2252 equals 2 * 1126\n",
      "2253 equals 3 * 751\n",
      "2254 equals 2 * 1127\n",
      "2255 equals 5 * 451\n",
      "2256 equals 2 * 1128\n",
      "2257 equals 37 * 61\n",
      "2258 equals 2 * 1129\n",
      "2259 equals 3 * 753\n",
      "2260 equals 2 * 1130\n",
      "2261 equals 7 * 323\n",
      "2262 equals 2 * 1131\n",
      "2263 equals 31 * 73\n",
      "2264 equals 2 * 1132\n",
      "2265 equals 3 * 755\n",
      "2266 equals 2 * 1133\n",
      "2267 is prime\n",
      "2268 equals 2 * 1134\n",
      "2269 is prime\n",
      "2270 equals 2 * 1135\n",
      "2271 equals 3 * 757\n",
      "2272 equals 2 * 1136\n",
      "2273 is prime\n",
      "2274 equals 2 * 1137\n",
      "2275 equals 5 * 455\n",
      "2276 equals 2 * 1138\n",
      "2277 equals 3 * 759\n",
      "2278 equals 2 * 1139\n",
      "2279 equals 43 * 53\n",
      "2280 equals 2 * 1140\n",
      "2281 is prime\n",
      "2282 equals 2 * 1141\n",
      "2283 equals 3 * 761\n",
      "2284 equals 2 * 1142\n",
      "2285 equals 5 * 457\n",
      "2286 equals 2 * 1143\n",
      "2287 is prime\n",
      "2288 equals 2 * 1144\n",
      "2289 equals 3 * 763\n",
      "2290 equals 2 * 1145\n",
      "2291 equals 29 * 79\n",
      "2292 equals 2 * 1146\n",
      "2293 is prime\n",
      "2294 equals 2 * 1147\n",
      "2295 equals 3 * 765\n",
      "2296 equals 2 * 1148\n",
      "2297 is prime\n",
      "2298 equals 2 * 1149\n",
      "2299 equals 11 * 209\n",
      "2300 equals 2 * 1150\n",
      "2301 equals 3 * 767\n",
      "2302 equals 2 * 1151\n",
      "2303 equals 7 * 329\n",
      "2304 equals 2 * 1152\n",
      "2305 equals 5 * 461\n",
      "2306 equals 2 * 1153\n",
      "2307 equals 3 * 769\n",
      "2308 equals 2 * 1154\n",
      "2309 is prime\n",
      "2310 equals 2 * 1155\n",
      "2311 is prime\n",
      "2312 equals 2 * 1156\n",
      "2313 equals 3 * 771\n",
      "2314 equals 2 * 1157\n",
      "2315 equals 5 * 463\n",
      "2316 equals 2 * 1158\n",
      "2317 equals 7 * 331\n",
      "2318 equals 2 * 1159\n",
      "2319 equals 3 * 773\n",
      "2320 equals 2 * 1160\n",
      "2321 equals 11 * 211\n",
      "2322 equals 2 * 1161\n",
      "2323 equals 23 * 101\n",
      "2324 equals 2 * 1162\n",
      "2325 equals 3 * 775\n",
      "2326 equals 2 * 1163\n",
      "2327 equals 13 * 179\n",
      "2328 equals 2 * 1164\n",
      "2329 equals 17 * 137\n",
      "2330 equals 2 * 1165\n",
      "2331 equals 3 * 777\n",
      "2332 equals 2 * 1166\n",
      "2333 is prime\n",
      "2334 equals 2 * 1167\n",
      "2335 equals 5 * 467\n",
      "2336 equals 2 * 1168\n",
      "2337 equals 3 * 779\n",
      "2338 equals 2 * 1169\n",
      "2339 is prime\n",
      "2340 equals 2 * 1170\n",
      "2341 is prime\n",
      "2342 equals 2 * 1171\n",
      "2343 equals 3 * 781\n",
      "2344 equals 2 * 1172\n",
      "2345 equals 5 * 469\n",
      "2346 equals 2 * 1173\n",
      "2347 is prime\n",
      "2348 equals 2 * 1174\n",
      "2349 equals 3 * 783\n",
      "2350 equals 2 * 1175\n",
      "2351 is prime\n",
      "2352 equals 2 * 1176\n",
      "2353 equals 13 * 181\n",
      "2354 equals 2 * 1177\n",
      "2355 equals 3 * 785\n",
      "2356 equals 2 * 1178\n",
      "2357 is prime\n",
      "2358 equals 2 * 1179\n",
      "2359 equals 7 * 337\n",
      "2360 equals 2 * 1180\n",
      "2361 equals 3 * 787\n",
      "2362 equals 2 * 1181\n",
      "2363 equals 17 * 139\n",
      "2364 equals 2 * 1182\n",
      "2365 equals 5 * 473\n",
      "2366 equals 2 * 1183\n",
      "2367 equals 3 * 789\n",
      "2368 equals 2 * 1184\n",
      "2369 equals 23 * 103\n",
      "2370 equals 2 * 1185\n",
      "2371 is prime\n",
      "2372 equals 2 * 1186\n",
      "2373 equals 3 * 791\n",
      "2374 equals 2 * 1187\n",
      "2375 equals 5 * 475\n",
      "2376 equals 2 * 1188\n",
      "2377 is prime\n",
      "2378 equals 2 * 1189\n",
      "2379 equals 3 * 793\n",
      "2380 equals 2 * 1190\n",
      "2381 is prime\n",
      "2382 equals 2 * 1191\n",
      "2383 is prime\n",
      "2384 equals 2 * 1192\n",
      "2385 equals 3 * 795\n",
      "2386 equals 2 * 1193\n",
      "2387 equals 7 * 341\n",
      "2388 equals 2 * 1194\n",
      "2389 is prime\n",
      "2390 equals 2 * 1195\n",
      "2391 equals 3 * 797\n",
      "2392 equals 2 * 1196\n",
      "2393 is prime\n",
      "2394 equals 2 * 1197\n",
      "2395 equals 5 * 479\n",
      "2396 equals 2 * 1198\n",
      "2397 equals 3 * 799\n",
      "2398 equals 2 * 1199\n",
      "2399 is prime\n",
      "2400 equals 2 * 1200\n",
      "2401 equals 7 * 343\n",
      "2402 equals 2 * 1201\n",
      "2403 equals 3 * 801\n",
      "2404 equals 2 * 1202\n",
      "2405 equals 5 * 481\n",
      "2406 equals 2 * 1203\n",
      "2407 equals 29 * 83\n",
      "2408 equals 2 * 1204\n",
      "2409 equals 3 * 803\n",
      "2410 equals 2 * 1205\n",
      "2411 is prime\n",
      "2412 equals 2 * 1206\n",
      "2413 equals 19 * 127\n",
      "2414 equals 2 * 1207\n",
      "2415 equals 3 * 805\n",
      "2416 equals 2 * 1208\n",
      "2417 is prime\n",
      "2418 equals 2 * 1209\n",
      "2419 equals 41 * 59\n",
      "2420 equals 2 * 1210\n",
      "2421 equals 3 * 807\n",
      "2422 equals 2 * 1211\n",
      "2423 is prime\n",
      "2424 equals 2 * 1212\n",
      "2425 equals 5 * 485\n",
      "2426 equals 2 * 1213\n",
      "2427 equals 3 * 809\n",
      "2428 equals 2 * 1214\n",
      "2429 equals 7 * 347\n",
      "2430 equals 2 * 1215\n",
      "2431 equals 11 * 221\n",
      "2432 equals 2 * 1216\n",
      "2433 equals 3 * 811\n",
      "2434 equals 2 * 1217\n",
      "2435 equals 5 * 487\n",
      "2436 equals 2 * 1218\n",
      "2437 is prime\n",
      "2438 equals 2 * 1219\n",
      "2439 equals 3 * 813\n",
      "2440 equals 2 * 1220\n",
      "2441 is prime\n",
      "2442 equals 2 * 1221\n",
      "2443 equals 7 * 349\n",
      "2444 equals 2 * 1222\n",
      "2445 equals 3 * 815\n",
      "2446 equals 2 * 1223\n",
      "2447 is prime\n",
      "2448 equals 2 * 1224\n",
      "2449 equals 31 * 79\n",
      "2450 equals 2 * 1225\n",
      "2451 equals 3 * 817\n",
      "2452 equals 2 * 1226\n",
      "2453 equals 11 * 223\n",
      "2454 equals 2 * 1227\n",
      "2455 equals 5 * 491\n",
      "2456 equals 2 * 1228\n",
      "2457 equals 3 * 819\n",
      "2458 equals 2 * 1229\n",
      "2459 is prime\n",
      "2460 equals 2 * 1230\n",
      "2461 equals 23 * 107\n",
      "2462 equals 2 * 1231\n",
      "2463 equals 3 * 821\n",
      "2464 equals 2 * 1232\n",
      "2465 equals 5 * 493\n",
      "2466 equals 2 * 1233\n",
      "2467 is prime\n",
      "2468 equals 2 * 1234\n",
      "2469 equals 3 * 823\n",
      "2470 equals 2 * 1235\n",
      "2471 equals 7 * 353\n",
      "2472 equals 2 * 1236\n",
      "2473 is prime\n",
      "2474 equals 2 * 1237\n",
      "2475 equals 3 * 825\n",
      "2476 equals 2 * 1238\n",
      "2477 is prime\n",
      "2478 equals 2 * 1239\n",
      "2479 equals 37 * 67\n",
      "2480 equals 2 * 1240\n",
      "2481 equals 3 * 827\n",
      "2482 equals 2 * 1241\n",
      "2483 equals 13 * 191\n",
      "2484 equals 2 * 1242\n",
      "2485 equals 5 * 497\n",
      "2486 equals 2 * 1243\n",
      "2487 equals 3 * 829\n",
      "2488 equals 2 * 1244\n",
      "2489 equals 19 * 131\n",
      "2490 equals 2 * 1245\n",
      "2491 equals 47 * 53\n",
      "2492 equals 2 * 1246\n",
      "2493 equals 3 * 831\n",
      "2494 equals 2 * 1247\n",
      "2495 equals 5 * 499\n",
      "2496 equals 2 * 1248\n",
      "2497 equals 11 * 227\n",
      "2498 equals 2 * 1249\n",
      "2499 equals 3 * 833\n",
      "2500 equals 2 * 1250\n",
      "2501 equals 41 * 61\n",
      "2502 equals 2 * 1251\n",
      "2503 is prime\n",
      "2504 equals 2 * 1252\n",
      "2505 equals 3 * 835\n",
      "2506 equals 2 * 1253\n",
      "2507 equals 23 * 109\n",
      "2508 equals 2 * 1254\n",
      "2509 equals 13 * 193\n",
      "2510 equals 2 * 1255\n",
      "2511 equals 3 * 837\n",
      "2512 equals 2 * 1256\n",
      "2513 equals 7 * 359\n",
      "2514 equals 2 * 1257\n",
      "2515 equals 5 * 503\n",
      "2516 equals 2 * 1258\n",
      "2517 equals 3 * 839\n",
      "2518 equals 2 * 1259\n",
      "2519 equals 11 * 229\n",
      "2520 equals 2 * 1260\n",
      "2521 is prime\n",
      "2522 equals 2 * 1261\n",
      "2523 equals 3 * 841\n",
      "2524 equals 2 * 1262\n",
      "2525 equals 5 * 505\n",
      "2526 equals 2 * 1263\n",
      "2527 equals 7 * 361\n",
      "2528 equals 2 * 1264\n",
      "2529 equals 3 * 843\n",
      "2530 equals 2 * 1265\n",
      "2531 is prime\n",
      "2532 equals 2 * 1266\n",
      "2533 equals 17 * 149\n",
      "2534 equals 2 * 1267\n",
      "2535 equals 3 * 845\n",
      "2536 equals 2 * 1268\n",
      "2537 equals 43 * 59\n",
      "2538 equals 2 * 1269\n",
      "2539 is prime\n",
      "2540 equals 2 * 1270\n",
      "2541 equals 3 * 847\n",
      "2542 equals 2 * 1271\n",
      "2543 is prime\n",
      "2544 equals 2 * 1272\n",
      "2545 equals 5 * 509\n",
      "2546 equals 2 * 1273\n",
      "2547 equals 3 * 849\n",
      "2548 equals 2 * 1274\n",
      "2549 is prime\n",
      "2550 equals 2 * 1275\n",
      "2551 is prime\n",
      "2552 equals 2 * 1276\n",
      "2553 equals 3 * 851\n",
      "2554 equals 2 * 1277\n",
      "2555 equals 5 * 511\n",
      "2556 equals 2 * 1278\n",
      "2557 is prime\n",
      "2558 equals 2 * 1279\n",
      "2559 equals 3 * 853\n",
      "2560 equals 2 * 1280\n",
      "2561 equals 13 * 197\n",
      "2562 equals 2 * 1281\n",
      "2563 equals 11 * 233\n",
      "2564 equals 2 * 1282\n",
      "2565 equals 3 * 855\n",
      "2566 equals 2 * 1283\n",
      "2567 equals 17 * 151\n",
      "2568 equals 2 * 1284\n",
      "2569 equals 7 * 367\n",
      "2570 equals 2 * 1285\n",
      "2571 equals 3 * 857\n",
      "2572 equals 2 * 1286\n",
      "2573 equals 31 * 83\n",
      "2574 equals 2 * 1287\n",
      "2575 equals 5 * 515\n",
      "2576 equals 2 * 1288\n",
      "2577 equals 3 * 859\n",
      "2578 equals 2 * 1289\n",
      "2579 is prime\n",
      "2580 equals 2 * 1290\n",
      "2581 equals 29 * 89\n",
      "2582 equals 2 * 1291\n",
      "2583 equals 3 * 861\n",
      "2584 equals 2 * 1292\n",
      "2585 equals 5 * 517\n",
      "2586 equals 2 * 1293\n",
      "2587 equals 13 * 199\n",
      "2588 equals 2 * 1294\n",
      "2589 equals 3 * 863\n",
      "2590 equals 2 * 1295\n",
      "2591 is prime\n",
      "2592 equals 2 * 1296\n",
      "2593 is prime\n",
      "2594 equals 2 * 1297\n",
      "2595 equals 3 * 865\n",
      "2596 equals 2 * 1298\n",
      "2597 equals 7 * 371\n",
      "2598 equals 2 * 1299\n",
      "2599 equals 23 * 113\n"
     ]
    }
   ],
   "source": [
    "max_prime = 2600\n",
    "min_prime = 2000\n",
    "\n",
    "for number in range(min_prime, max_prime): # Edsger Dijkstra ... step 1 (2..25)\n",
    "    for possible_divisor in range(2, number): # 2 ... 2..number-1\n",
    "        if number % possible_divisor == 0: # 3, divides in evenly\n",
    "            print(number, 'equals', possible_divisor, '*', number // possible_divisor)\n",
    "            break # 7\n",
    "    else: # this is only run if we did NOT break\n",
    "        print(number, 'is prime')"
   ]
  },
  {
   "cell_type": "code",
   "execution_count": 184,
   "id": "c9e0299e-5321-4020-aa5d-0afc72bccd65",
   "metadata": {},
   "outputs": [
    {
     "data": {
      "text/plain": [
       "2537"
      ]
     },
     "execution_count": 184,
     "metadata": {},
     "output_type": "execute_result"
    }
   ],
   "source": [
    "43 * 59"
   ]
  },
  {
   "cell_type": "code",
   "execution_count": 186,
   "id": "dfecb36c-3e35-451a-a60c-ccf8dec567ea",
   "metadata": {},
   "outputs": [],
   "source": [
    "import math"
   ]
  },
  {
   "cell_type": "code",
   "execution_count": 188,
   "id": "4dea256d-2475-4bfb-9804-02d6adf5b0d3",
   "metadata": {},
   "outputs": [
    {
     "data": {
      "text/plain": [
       "50.368641037852115"
      ]
     },
     "execution_count": 188,
     "metadata": {},
     "output_type": "execute_result"
    }
   ],
   "source": [
    "math.sqrt(2537)"
   ]
  },
  {
   "cell_type": "code",
   "execution_count": 190,
   "id": "39e87f5f-539e-4e92-be44-554cec9defdb",
   "metadata": {},
   "outputs": [
    {
     "data": {
      "text/plain": [
       "50.92150822589606"
      ]
     },
     "execution_count": 190,
     "metadata": {},
     "output_type": "execute_result"
    }
   ],
   "source": [
    "math.sqrt(2593)"
   ]
  },
  {
   "cell_type": "code",
   "execution_count": 192,
   "id": "0b64c929-8534-43cc-aed0-bdf6fcc378d5",
   "metadata": {},
   "outputs": [
    {
     "data": {
      "text/plain": [
       "2601"
      ]
     },
     "execution_count": 192,
     "metadata": {},
     "output_type": "execute_result"
    }
   ],
   "source": [
    "51 * 51"
   ]
  },
  {
   "cell_type": "code",
   "execution_count": 203,
   "id": "d109a552-bcb6-4887-ae80-c2978ae9a818",
   "metadata": {},
   "outputs": [
    {
     "data": {
      "text/plain": [
       "'alphabxt soup'"
      ]
     },
     "execution_count": 203,
     "metadata": {},
     "output_type": "execute_result"
    }
   ],
   "source": [
    "'alphabet soup'.replace('e', 'x')"
   ]
  },
  {
   "cell_type": "markdown",
   "id": "7a99eb00-cecc-43c8-baa0-40692e964300",
   "metadata": {},
   "source": [
    "## Quick Lab: String Functions\n",
    "* write a Python program to read in a string and then print it out as\n",
    "  * a title\n",
    "  * all upper case\n",
    "  * all lower case\n",
    "* also, replace all vowels in the string with the letter 'x'\n",
    "   * you can use the .replace() method to replace each vowel, one at a time"
   ]
  },
  {
   "cell_type": "code",
   "execution_count": 217,
   "id": "26e63221-7237-4847-9b12-cc030835aa3c",
   "metadata": {},
   "outputs": [
    {
     "name": "stdin",
     "output_type": "stream",
     "text": [
      "Enter something:  facetious\n"
     ]
    },
    {
     "name": "stdout",
     "output_type": "stream",
     "text": [
      "Facetious, FACETIOUS, facetious\n"
     ]
    }
   ],
   "source": [
    "what = input('Enter something: ')\n",
    "print(what.title(), what.upper(), what.lower(), sep=', ')"
   ]
  },
  {
   "cell_type": "code",
   "execution_count": 219,
   "id": "d685a8ea-04a3-4191-81c1-eb6a080b8f67",
   "metadata": {},
   "outputs": [
    {
     "name": "stdout",
     "output_type": "stream",
     "text": [
      "fxcetious\n",
      "fxcxtious\n",
      "fxcxtxous\n",
      "fxcxtxxus\n",
      "fxcxtxxxs\n"
     ]
    }
   ],
   "source": [
    "for vowel in 'aeiou': # \"for each of the vowels\"\n",
    "    what = what.replace(vowel, 'x')\n",
    "    print(what)"
   ]
  },
  {
   "cell_type": "code",
   "execution_count": 222,
   "id": "5570a1cc-676a-4a72-b6ba-cf2fd3ea5fcd",
   "metadata": {},
   "outputs": [
    {
     "data": {
      "text/plain": [
       "'string'"
      ]
     },
     "execution_count": 222,
     "metadata": {},
     "output_type": "execute_result"
    }
   ],
   "source": [
    "s"
   ]
  },
  {
   "cell_type": "code",
   "execution_count": 224,
   "id": "6411cc83-1b16-4769-9741-0f1ae37304e5",
   "metadata": {},
   "outputs": [],
   "source": [
    "s = 'one two three'"
   ]
  },
  {
   "cell_type": "code",
   "execution_count": 226,
   "id": "299854ea-e00b-40b9-8c46-2ad933f46c58",
   "metadata": {},
   "outputs": [
    {
     "data": {
      "text/plain": [
       "['one', 'two', 'three']"
      ]
     },
     "execution_count": 226,
     "metadata": {},
     "output_type": "execute_result"
    }
   ],
   "source": [
    "s.split()"
   ]
  },
  {
   "cell_type": "code",
   "execution_count": 230,
   "id": "d1fff964-6f17-4e0c-b2bf-a525781d1340",
   "metadata": {},
   "outputs": [
    {
     "data": {
      "text/plain": [
       "'one two three'"
      ]
     },
     "execution_count": 230,
     "metadata": {},
     "output_type": "execute_result"
    }
   ],
   "source": [
    "s"
   ]
  },
  {
   "cell_type": "code",
   "execution_count": 233,
   "id": "5717f80e-65c6-4ad7-befe-8bd433ed0b0f",
   "metadata": {},
   "outputs": [
    {
     "ename": "AttributeError",
     "evalue": "'list' object has no attribute 'join'",
     "output_type": "error",
     "traceback": [
      "\u001b[0;31m---------------------------------------------------------------------------\u001b[0m",
      "\u001b[0;31mAttributeError\u001b[0m                            Traceback (most recent call last)",
      "Cell \u001b[0;32mIn[233], line 1\u001b[0m\n\u001b[0;32m----> 1\u001b[0m [\u001b[38;5;124m'\u001b[39m\u001b[38;5;124mone\u001b[39m\u001b[38;5;124m'\u001b[39m, \u001b[38;5;124m'\u001b[39m\u001b[38;5;124mtwo\u001b[39m\u001b[38;5;124m'\u001b[39m, \u001b[38;5;124m'\u001b[39m\u001b[38;5;124mthree\u001b[39m\u001b[38;5;124m'\u001b[39m]\u001b[38;5;241m.\u001b[39mjoin(\u001b[38;5;124m'\u001b[39m\u001b[38;5;124m \u001b[39m\u001b[38;5;124m'\u001b[39m)\n",
      "\u001b[0;31mAttributeError\u001b[0m: 'list' object has no attribute 'join'"
     ]
    }
   ],
   "source": [
    "['one', 'two', 'three'].join(' ')"
   ]
  },
  {
   "cell_type": "code",
   "execution_count": 239,
   "id": "f040c080-3bc3-46d9-8eed-275268b59d52",
   "metadata": {},
   "outputs": [
    {
     "data": {
      "text/plain": [
       "'one...two...three'"
      ]
     },
     "execution_count": 239,
     "metadata": {},
     "output_type": "execute_result"
    }
   ],
   "source": [
    "'...'.join(['one', 'two', 'three'])"
   ]
  },
  {
   "cell_type": "code",
   "execution_count": 242,
   "id": "3433959d-723e-4cbd-be35-5b7e3c900ece",
   "metadata": {},
   "outputs": [
    {
     "data": {
      "text/plain": [
       "['i', 'f', 'y']"
      ]
     },
     "execution_count": 242,
     "metadata": {},
     "output_type": "execute_result"
    }
   ],
   "source": [
    "list('ify')"
   ]
  },
  {
   "cell_type": "code",
   "execution_count": 250,
   "id": "cf2c48f7-c7b4-4753-a329-203326fe39c5",
   "metadata": {},
   "outputs": [
    {
     "ename": "TypeError",
     "evalue": "'int' object is not iterable",
     "output_type": "error",
     "traceback": [
      "\u001b[0;31m---------------------------------------------------------------------------\u001b[0m",
      "\u001b[0;31mTypeError\u001b[0m                                 Traceback (most recent call last)",
      "Cell \u001b[0;32mIn[250], line 1\u001b[0m\n\u001b[0;32m----> 1\u001b[0m \u001b[38;5;28mlist\u001b[39m(\u001b[38;5;241m5\u001b[39m)\n",
      "\u001b[0;31mTypeError\u001b[0m: 'int' object is not iterable"
     ]
    }
   ],
   "source": [
    "list(5)"
   ]
  },
  {
   "cell_type": "code",
   "execution_count": 246,
   "id": "0b6cebc6-4af3-4c6e-8299-9f02ebd4a569",
   "metadata": {},
   "outputs": [
    {
     "data": {
      "text/plain": [
       "[1, 2, 3]"
      ]
     },
     "execution_count": 246,
     "metadata": {},
     "output_type": "execute_result"
    }
   ],
   "source": [
    "list([1, 2, 3])"
   ]
  },
  {
   "cell_type": "code",
   "execution_count": 261,
   "id": "1ea7466b-fc1c-4ce5-8a1e-a280e78a1ca3",
   "metadata": {},
   "outputs": [
    {
     "name": "stdin",
     "output_type": "stream",
     "text": [
      "Enter something:  one two three FOUR fivE\n"
     ]
    }
   ],
   "source": [
    "word_list = input('Enter something: ').lower().split()"
   ]
  },
  {
   "cell_type": "code",
   "execution_count": 263,
   "id": "6279f57f-61a4-43b3-9e06-72fa54e82997",
   "metadata": {},
   "outputs": [
    {
     "data": {
      "text/plain": [
       "['one', 'two', 'three', 'four', 'five']"
      ]
     },
     "execution_count": 263,
     "metadata": {},
     "output_type": "execute_result"
    }
   ],
   "source": [
    "word_list"
   ]
  },
  {
   "cell_type": "code",
   "execution_count": 271,
   "id": "ed952395-1afe-4dd1-81af-43f983abd214",
   "metadata": {},
   "outputs": [
    {
     "data": {
      "text/plain": [
       "['one', 'two', 'three', 'four', 'five']"
      ]
     },
     "execution_count": 271,
     "metadata": {},
     "output_type": "execute_result"
    }
   ],
   "source": [
    "word_list."
   ]
  },
  {
   "cell_type": "code",
   "execution_count": 275,
   "id": "c3025ed2-9877-47e2-93c1-2fb55ae0ae01",
   "metadata": {},
   "outputs": [],
   "source": [
    "numbers = [1, 2, 3, 4]"
   ]
  },
  {
   "cell_type": "code",
   "execution_count": 277,
   "id": "2c6b485b-834d-4eff-b6e0-1a5939ec69d4",
   "metadata": {},
   "outputs": [],
   "source": [
    "numbers.append(5)"
   ]
  },
  {
   "cell_type": "code",
   "execution_count": 279,
   "id": "17cfb0e1-a367-403f-9829-0639845c60ec",
   "metadata": {},
   "outputs": [
    {
     "data": {
      "text/plain": [
       "[1, 2, 3, 4, 5]"
      ]
     },
     "execution_count": 279,
     "metadata": {},
     "output_type": "execute_result"
    }
   ],
   "source": [
    "numbers"
   ]
  },
  {
   "cell_type": "code",
   "execution_count": 281,
   "id": "3b21f5c6-bbae-42cf-9e35-8eed295700c6",
   "metadata": {},
   "outputs": [],
   "source": [
    "other_numbers = [6, 7]"
   ]
  },
  {
   "cell_type": "code",
   "execution_count": 283,
   "id": "284eac42-a3f5-48e7-a712-16773bd5a10d",
   "metadata": {},
   "outputs": [],
   "source": [
    "numbers.append(other_numbers)"
   ]
  },
  {
   "cell_type": "code",
   "execution_count": 287,
   "id": "9e2626f5-545c-4a62-9230-8881c4586249",
   "metadata": {},
   "outputs": [],
   "source": [
    "numbers.extend(other_numbers)"
   ]
  },
  {
   "cell_type": "code",
   "execution_count": 289,
   "id": "50cc2ff8-d66b-4a61-8d8e-21e816a7e740",
   "metadata": {},
   "outputs": [
    {
     "data": {
      "text/plain": [
       "[1, 2, 3, 4, 5, [6, 7], 6, 7]"
      ]
     },
     "execution_count": 289,
     "metadata": {},
     "output_type": "execute_result"
    }
   ],
   "source": [
    "numbers"
   ]
  },
  {
   "cell_type": "code",
   "execution_count": 293,
   "id": "e13002d1-2e19-4c9b-83f8-4423f9990981",
   "metadata": {},
   "outputs": [
    {
     "name": "stdout",
     "output_type": "stream",
     "text": [
      "Help on method_descriptor:\n",
      "\n",
      "index(self, value, start=0, stop=9223372036854775807, /)\n",
      "    Return first index of value.\n",
      "    \n",
      "    Raises ValueError if the value is not present.\n",
      "\n"
     ]
    }
   ],
   "source": [
    "help(list.index)"
   ]
  },
  {
   "cell_type": "code",
   "execution_count": 296,
   "id": "3f39984f-b1ba-451b-a24b-ef924a57610c",
   "metadata": {},
   "outputs": [
    {
     "name": "stdout",
     "output_type": "stream",
     "text": [
      "Help on method_descriptor:\n",
      "\n",
      "sort(self, /, *, key=None, reverse=False)\n",
      "    Sort the list in ascending order and return None.\n",
      "    \n",
      "    The sort is in-place (i.e. the list itself is modified) and stable (i.e. the\n",
      "    order of two equal elements is maintained).\n",
      "    \n",
      "    If a key function is given, apply it once to each list item and sort them,\n",
      "    ascending or descending, according to their function values.\n",
      "    \n",
      "    The reverse flag can be set to sort in descending order.\n",
      "\n"
     ]
    }
   ],
   "source": [
    "help(list.sort)"
   ]
  },
  {
   "cell_type": "code",
   "execution_count": 299,
   "id": "0c0e8ecf-e965-4259-9cbe-6c4a37e2157f",
   "metadata": {},
   "outputs": [
    {
     "name": "stdout",
     "output_type": "stream",
     "text": [
      "hi there\n"
     ]
    }
   ],
   "source": [
    "print('hi there')"
   ]
  },
  {
   "cell_type": "code",
   "execution_count": 301,
   "id": "ec3b05b5-5841-4f01-beec-e1ab6a74c60e",
   "metadata": {},
   "outputs": [],
   "source": [
    "l = len('hi')"
   ]
  },
  {
   "cell_type": "code",
   "execution_count": 303,
   "id": "f4aaca0a-96bd-4162-bab5-3abe1c104778",
   "metadata": {},
   "outputs": [
    {
     "data": {
      "text/plain": [
       "2"
      ]
     },
     "execution_count": 303,
     "metadata": {},
     "output_type": "execute_result"
    }
   ],
   "source": [
    "l"
   ]
  },
  {
   "cell_type": "code",
   "execution_count": 307,
   "id": "1ff64261-cc71-481a-a3eb-42355caf2754",
   "metadata": {},
   "outputs": [
    {
     "name": "stdout",
     "output_type": "stream",
     "text": [
      "hi there\n"
     ]
    }
   ],
   "source": [
    "result = print('hi there')"
   ]
  },
  {
   "cell_type": "code",
   "execution_count": 309,
   "id": "99884a63-e1af-4dc5-bdcc-0b6d4b2fe338",
   "metadata": {},
   "outputs": [
    {
     "name": "stdout",
     "output_type": "stream",
     "text": [
      "None\n"
     ]
    }
   ],
   "source": [
    "print(result)"
   ]
  },
  {
   "cell_type": "code",
   "execution_count": 311,
   "id": "85211ecb-a617-4672-8498-dea810950153",
   "metadata": {},
   "outputs": [
    {
     "name": "stdout",
     "output_type": "stream",
     "text": [
      "hi there\n"
     ]
    }
   ],
   "source": [
    "print('hi there')\n",
    "result = None"
   ]
  },
  {
   "cell_type": "code",
   "execution_count": 313,
   "id": "ac982e3d-86f9-4faf-b81d-68c527375024",
   "metadata": {},
   "outputs": [
    {
     "name": "stdout",
     "output_type": "stream",
     "text": [
      "None\n"
     ]
    }
   ],
   "source": [
    "print(result)"
   ]
  },
  {
   "cell_type": "code",
   "execution_count": 315,
   "id": "c03f834e-764b-4ae2-a171-3694fdaa243a",
   "metadata": {},
   "outputs": [],
   "source": [
    "my_list = [1, 2]"
   ]
  },
  {
   "cell_type": "code",
   "execution_count": 321,
   "id": "0e8731bf-159b-4a1e-9e66-c5fc7d81376c",
   "metadata": {},
   "outputs": [],
   "source": [
    "my_list.append(3)"
   ]
  },
  {
   "cell_type": "code",
   "execution_count": 323,
   "id": "eb95cab4-d95c-4bff-b866-46700cbcd5ff",
   "metadata": {},
   "outputs": [
    {
     "data": {
      "text/plain": [
       "[1, 2, 3]"
      ]
     },
     "execution_count": 323,
     "metadata": {},
     "output_type": "execute_result"
    }
   ],
   "source": [
    "my_list"
   ]
  },
  {
   "cell_type": "code",
   "execution_count": 353,
   "id": "0dd753b4-a23e-497d-989b-8e48e44ce190",
   "metadata": {},
   "outputs": [
    {
     "name": "stdin",
     "output_type": "stream",
     "text": [
      "enter something:  q\n"
     ]
    }
   ],
   "source": [
    "word_list = input('enter something: ').split()"
   ]
  },
  {
   "cell_type": "code",
   "execution_count": 325,
   "id": "5378c66d-864c-4a6c-b8af-33c727837a4e",
   "metadata": {},
   "outputs": [],
   "source": [
    "my_list = my_list.append(4) # for best results, don't do this!"
   ]
  },
  {
   "cell_type": "code",
   "execution_count": 354,
   "id": "16ae6d54-d716-4472-9731-aeb61da1a96a",
   "metadata": {},
   "outputs": [
    {
     "data": {
      "text/plain": [
       "['q']"
      ]
     },
     "execution_count": 354,
     "metadata": {},
     "output_type": "execute_result"
    }
   ],
   "source": [
    "word_list"
   ]
  },
  {
   "cell_type": "code",
   "execution_count": 327,
   "id": "bcd1640c-de6a-43ad-9291-69b5eee65289",
   "metadata": {},
   "outputs": [
    {
     "name": "stdout",
     "output_type": "stream",
     "text": [
      "None\n"
     ]
    }
   ],
   "source": [
    "print(my_list)"
   ]
  },
  {
   "cell_type": "code",
   "execution_count": 355,
   "id": "e37b3933-4617-4798-ade8-4ba08f0b39f3",
   "metadata": {},
   "outputs": [
    {
     "data": {
      "text/plain": [
       "False"
      ]
     },
     "execution_count": 355,
     "metadata": {},
     "output_type": "execute_result"
    }
   ],
   "source": [
    "'two' in word_list"
   ]
  },
  {
   "cell_type": "code",
   "execution_count": 329,
   "id": "9417f948-5f1b-456d-b611-f2cdee8d0851",
   "metadata": {},
   "outputs": [],
   "source": [
    "bad_list = [1, 2, 3, 'four']"
   ]
  },
  {
   "cell_type": "code",
   "execution_count": 356,
   "id": "09784927-8b58-4290-885a-8ed950878706",
   "metadata": {},
   "outputs": [
    {
     "data": {
      "text/plain": [
       "False"
      ]
     },
     "execution_count": 356,
     "metadata": {},
     "output_type": "execute_result"
    }
   ],
   "source": [
    "'three' in word_list"
   ]
  },
  {
   "cell_type": "code",
   "execution_count": 331,
   "id": "e76b1e19-af02-4cdf-babf-b8c94152ed0c",
   "metadata": {},
   "outputs": [
    {
     "ename": "TypeError",
     "evalue": "'<' not supported between instances of 'str' and 'int'",
     "output_type": "error",
     "traceback": [
      "\u001b[0;31m---------------------------------------------------------------------------\u001b[0m",
      "\u001b[0;31mTypeError\u001b[0m                                 Traceback (most recent call last)",
      "Cell \u001b[0;32mIn[331], line 1\u001b[0m\n\u001b[0;32m----> 1\u001b[0m \u001b[38;5;28msorted\u001b[39m(bad_list)\n",
      "\u001b[0;31mTypeError\u001b[0m: '<' not supported between instances of 'str' and 'int'"
     ]
    }
   ],
   "source": [
    "sorted(bad_list)"
   ]
  },
  {
   "cell_type": "code",
   "execution_count": 357,
   "id": "07c6143c-a0d7-4878-9cae-c9f7961cd91e",
   "metadata": {},
   "outputs": [
    {
     "data": {
      "text/plain": [
       "True"
      ]
     },
     "execution_count": 357,
     "metadata": {},
     "output_type": "execute_result"
    }
   ],
   "source": [
    "'three' not in word_list"
   ]
  },
  {
   "cell_type": "markdown",
   "id": "ff342238-b9ee-4a68-93d9-8f86bed3e323",
   "metadata": {},
   "source": [
    "## Quick Lab: Lists\n",
    "* Write a Python\n",
    "program to read in a list of items possibly containing duplicates, and then constructs a new list which contains the elements from the original list, with the order preserved, but the duplicates removed\n",
    "![alt-text](images/list2.png \"list2\")"
   ]
  },
  {
   "cell_type": "code",
   "execution_count": 358,
   "id": "07582301-4296-4e10-b86a-fbeb4d12d4e7",
   "metadata": {},
   "outputs": [
    {
     "data": {
      "text/plain": [
       "True"
      ]
     },
     "execution_count": 358,
     "metadata": {},
     "output_type": "execute_result"
    }
   ],
   "source": [
    "not 'three' in word_list"
   ]
  },
  {
   "cell_type": "code",
   "execution_count": null,
   "id": "fae45624-c8dd-4f44-8362-7a60c9e6f1fd",
   "metadata": {},
   "outputs": [],
   "source": [
    "# 1, 2. get a string from the user and split it (into a list)\n",
    "# 3. create a new empty list into which we will put the words\n",
    "# 4. for each word in the original list:\n",
    "# 5.     if that word is NOT IN the new list:\n",
    "# 6.        add it to the new list"
   ]
  },
  {
   "cell_type": "code",
   "execution_count": 367,
   "id": "b8c6f08a-9471-4a5c-ae93-f82cfbf68a2a",
   "metadata": {},
   "outputs": [
    {
     "name": "stdin",
     "output_type": "stream",
     "text": [
      "Enter a list of items:  apple cherry banana apple lemon cherry lemon\n"
     ]
    },
    {
     "name": "stdout",
     "output_type": "stream",
     "text": [
      "['apple', 'cherry', 'banana', 'lemon']\n"
     ]
    }
   ],
   "source": [
    "words = input('Enter a list of items: ').split() # 1 and 2, could be separate lines\n",
    "new_words = [] # 3\n",
    "\n",
    "for word in words: # 4 \"for thing in container\"\n",
    "    if word not in new_words: # 5 \"is this word already in the new list or not?\"\n",
    "        new_words.append(word) # 6\n",
    "        \n",
    "print(new_words)"
   ]
  },
  {
   "cell_type": "code",
   "execution_count": 384,
   "id": "e00e2901-6d0a-4c9d-a400-35a01e97c272",
   "metadata": {},
   "outputs": [
    {
     "name": "stdout",
     "output_type": "stream",
     "text": [
      "apple, cherry, banana, lemon\n"
     ]
    }
   ],
   "source": [
    "print(', '.join(new_words))"
   ]
  },
  {
   "cell_type": "code",
   "execution_count": 376,
   "id": "d78ed526-8234-42df-b70b-be4434623489",
   "metadata": {},
   "outputs": [
    {
     "name": "stdout",
     "output_type": "stream",
     "text": [
      "['apple', 'cherry', 'banana', 'lemon']\n"
     ]
    }
   ],
   "source": [
    "print(new_words)"
   ]
  },
  {
   "cell_type": "code",
   "execution_count": 378,
   "id": "f65f8398-1ce9-4c79-ad07-7ab57608fd31",
   "metadata": {},
   "outputs": [
    {
     "name": "stdout",
     "output_type": "stream",
     "text": [
      "apple cherry banana lemon\n"
     ]
    }
   ],
   "source": [
    "print(new_words[0], new_words[1], new_words[2], new_words[3])"
   ]
  },
  {
   "cell_type": "code",
   "execution_count": 386,
   "id": "77b4a9f1-0a87-4652-88af-b2b931fd0988",
   "metadata": {},
   "outputs": [
    {
     "name": "stdout",
     "output_type": "stream",
     "text": [
      "apple\n",
      "cherry\n",
      "banana\n",
      "lemon\n"
     ]
    }
   ],
   "source": [
    "print(*new_words, sep='\\n') # * = unpack operators"
   ]
  },
  {
   "cell_type": "code",
   "execution_count": 388,
   "id": "92b4319b-7e83-49c7-bbd4-ac4375a4f14b",
   "metadata": {},
   "outputs": [
    {
     "name": "stdout",
     "output_type": "stream",
     "text": [
      "Hello, world!\n"
     ]
    }
   ],
   "source": [
    "print('Hello, world!')"
   ]
  },
  {
   "cell_type": "markdown",
   "id": "62272e35-fab5-4170-aa8f-28d8bcf91738",
   "metadata": {},
   "source": [
    "## Group Lab: Lists\n",
    "* Write a Python program to manage a list \n",
    "  * Read input until the user enters 'quit'\n",
    "  * Words that the user enters should be added to the list\n",
    "  * If a word begins with '-' (e.g., '-foo') it should be removed from the list\n",
    "  * If the user enters only a '-', the list should be reversed\n",
    "  * After each operation, print the list\n",
    "  * Extras:\n",
    "      * If user enters more than one word (e.g, __foo bar__), add \"foo\" and \"bar\" to the list, rather than \"foo bar\"\n",
    "      * Same for \"-\", i.e., __-foo bar__ would remove \"foo\" and \"bar\" from the  list"
   ]
  },
  {
   "cell_type": "code",
   "execution_count": 393,
   "id": "f4faec8d-f659-4f36-90c5-17d6d3906823",
   "metadata": {},
   "outputs": [],
   "source": [
    "# while loop ... read until we are asked to stop"
   ]
  },
  {
   "cell_type": "code",
   "execution_count": 395,
   "id": "7c5f4278-6c1e-4a04-ba0d-83cd660de84f",
   "metadata": {},
   "outputs": [
    {
     "name": "stdin",
     "output_type": "stream",
     "text": [
      "What next?  add \n",
      "What next?  subtract\n",
      "What next?  quit\n"
     ]
    }
   ],
   "source": [
    "while input('What next? ') != 'quit':\n",
    "    pass # do nothing"
   ]
  },
  {
   "cell_type": "code",
   "execution_count": 399,
   "id": "13d305ad-eb40-4ecc-b2e7-733916daeedb",
   "metadata": {},
   "outputs": [
    {
     "data": {
      "text/plain": [
       "'3.11.4 (main, Jul  5 2023, 14:15:25) [GCC 11.2.0]'"
      ]
     },
     "execution_count": 399,
     "metadata": {},
     "output_type": "execute_result"
    }
   ],
   "source": [
    "import sys\n",
    "sys.version"
   ]
  },
  {
   "cell_type": "code",
   "execution_count": 409,
   "id": "929ea7bc-221f-4150-927d-a5f02ced6b83",
   "metadata": {},
   "outputs": [
    {
     "name": "stdin",
     "output_type": "stream",
     "text": [
      "Enter something:  fig\n"
     ]
    },
    {
     "name": "stdout",
     "output_type": "stream",
     "text": [
      "add this to the list: fig\n"
     ]
    },
    {
     "name": "stdin",
     "output_type": "stream",
     "text": [
      "Enter something:  apple\n"
     ]
    },
    {
     "name": "stdout",
     "output_type": "stream",
     "text": [
      "add this to the list: apple\n"
     ]
    },
    {
     "name": "stdin",
     "output_type": "stream",
     "text": [
      "Enter something:  quit\n"
     ]
    }
   ],
   "source": [
    "response = '' # prime the pump\n",
    "\n",
    "while response != 'quit':\n",
    "    response = input('Enter something: ')\n",
    "    # process response\n",
    "    if response != 'quit':\n",
    "        print('add this to the list:', response)"
   ]
  },
  {
   "cell_type": "code",
   "execution_count": 411,
   "id": "16f3d884-51be-4d8a-a083-31ff7b4d00a4",
   "metadata": {},
   "outputs": [
    {
     "name": "stdin",
     "output_type": "stream",
     "text": [
      "Enter something:  apple\n"
     ]
    },
    {
     "name": "stdout",
     "output_type": "stream",
     "text": [
      "add this to the list: apple\n"
     ]
    },
    {
     "name": "stdin",
     "output_type": "stream",
     "text": [
      "Enter something:  fig\n"
     ]
    },
    {
     "name": "stdout",
     "output_type": "stream",
     "text": [
      "add this to the list: fig\n"
     ]
    },
    {
     "name": "stdin",
     "output_type": "stream",
     "text": [
      "Enter something:  quit\n"
     ]
    }
   ],
   "source": [
    "response = '' # prime the pump\n",
    "\n",
    "while response != 'quit':\n",
    "    response = input('Enter something: ')\n",
    "    if response == 'quit':\n",
    "        break\n",
    "    # process response\n",
    "    print('add this to the list:', response)"
   ]
  },
  {
   "cell_type": "code",
   "execution_count": null,
   "id": "34bc750f-0c89-42d9-9373-9b3cffb09fb8",
   "metadata": {},
   "outputs": [],
   "source": [
    "while True: # infinite loop\n",
    "    response = input('Enter something: ')\n",
    "    if response == 'quit':\n",
    "        break\n",
    "    # process response\n",
    "    print('add this to the list:', response)"
   ]
  },
  {
   "cell_type": "code",
   "execution_count": 413,
   "id": "636caed4-6221-45ef-9c71-82ee92369cd9",
   "metadata": {},
   "outputs": [
    {
     "name": "stdin",
     "output_type": "stream",
     "text": [
      "Enter a thing:  no\n",
      "Enter a thing:  ye\n",
      "Enter a thing:  quit\n"
     ]
    }
   ],
   "source": [
    "message = 'Enter a thing: '\n",
    "response = input(message) # prime the pump\n",
    "\n",
    "while response != 'quit':\n",
    "    # process response\n",
    "    # ...\n",
    "    # ...\n",
    "    response = input(message)"
   ]
  },
  {
   "cell_type": "code",
   "execution_count": 417,
   "id": "3a5e344a-a03a-4d0e-b8ba-9f138d09b0c9",
   "metadata": {},
   "outputs": [
    {
     "name": "stdin",
     "output_type": "stream",
     "text": [
      "What?  apple\n"
     ]
    },
    {
     "name": "stdout",
     "output_type": "stream",
     "text": [
      "process apple\n"
     ]
    },
    {
     "name": "stdin",
     "output_type": "stream",
     "text": [
      "What?  fig\n"
     ]
    },
    {
     "name": "stdout",
     "output_type": "stream",
     "text": [
      "process fig\n"
     ]
    },
    {
     "name": "stdin",
     "output_type": "stream",
     "text": [
      "What?  quit\n"
     ]
    }
   ],
   "source": [
    "while (response := input('What? ')) != 'quit':\n",
    "    print('process', response)"
   ]
  },
  {
   "cell_type": "code",
   "execution_count": 421,
   "id": "0db07cde-0449-4d2b-b97b-8dc7806723a4",
   "metadata": {},
   "outputs": [
    {
     "name": "stdout",
     "output_type": "stream",
     "text": [
      "yep\n"
     ]
    }
   ],
   "source": [
    "value = 15\n",
    "if (num := value) > 10:\n",
    "    print('yep')"
   ]
  },
  {
   "cell_type": "code",
   "execution_count": 495,
   "id": "085b31e2-acf9-46ee-a6df-2838d8e60fea",
   "metadata": {},
   "outputs": [
    {
     "name": "stdin",
     "output_type": "stream",
     "text": [
      "What next?  /sort\n"
     ]
    },
    {
     "name": "stdout",
     "output_type": "stream",
     "text": [
      "/sort\n"
     ]
    },
    {
     "name": "stdin",
     "output_type": "stream",
     "text": [
      "What next?  quit\n"
     ]
    }
   ],
   "source": [
    "words = []\n",
    "\n",
    "while (response := input('What next? ')) != 'quit':\n",
    "    if response == '': # empty response\n",
    "        continue\n",
    "    if response[0] == '-': # begins with a -\n",
    "        # we need to tease apart '-' from '-word'\n",
    "        if response == '-': # if -, then reverse the list\n",
    "            words = words[::-1] # idiomatic reversal\n",
    "            # words.reverse()\n",
    "        else:\n",
    "            if response[1:] in words:\n",
    "                words.remove(response[1:]) # remove the response without the -\n",
    "            else:\n",
    "                print(response[1:], 'not in list!')\n",
    "    else:   \n",
    "        words.append(response)\n",
    "    print(*words, sep=', ')"
   ]
  },
  {
   "cell_type": "code",
   "execution_count": 431,
   "id": "a6a30935-9e8b-401a-a5e0-a7f5a118e38d",
   "metadata": {},
   "outputs": [],
   "source": [
    "response = '-fig'"
   ]
  },
  {
   "cell_type": "code",
   "execution_count": 433,
   "id": "52204acd-4d81-42f1-88be-e2538da7a624",
   "metadata": {},
   "outputs": [
    {
     "data": {
      "text/plain": [
       "'-'"
      ]
     },
     "execution_count": 433,
     "metadata": {},
     "output_type": "execute_result"
    }
   ],
   "source": [
    "response[0]"
   ]
  },
  {
   "cell_type": "code",
   "execution_count": 437,
   "id": "7ae80b87-cf4a-432e-b943-0d8cb94db4a7",
   "metadata": {},
   "outputs": [
    {
     "data": {
      "text/plain": [
       "'-'"
      ]
     },
     "execution_count": 437,
     "metadata": {},
     "output_type": "execute_result"
    }
   ],
   "source": [
    "list(response)[0]"
   ]
  },
  {
   "cell_type": "code",
   "execution_count": 439,
   "id": "c824421e-0685-49c5-aded-0b3f9997e016",
   "metadata": {},
   "outputs": [
    {
     "data": {
      "text/plain": [
       "True"
      ]
     },
     "execution_count": 439,
     "metadata": {},
     "output_type": "execute_result"
    }
   ],
   "source": [
    "response.startswith('-')"
   ]
  },
  {
   "cell_type": "code",
   "execution_count": 447,
   "id": "89dcf5d6-1b29-4839-a983-88c92f63e10c",
   "metadata": {},
   "outputs": [
    {
     "data": {
      "text/plain": [
       "'fig'"
      ]
     },
     "execution_count": 447,
     "metadata": {},
     "output_type": "execute_result"
    }
   ],
   "source": [
    "response[1:]"
   ]
  },
  {
   "cell_type": "code",
   "execution_count": 457,
   "id": "5c8095b4-ffef-49f4-a037-d63658337f30",
   "metadata": {},
   "outputs": [
    {
     "data": {
      "text/plain": [
       "'.'"
      ]
     },
     "execution_count": 457,
     "metadata": {},
     "output_type": "execute_result"
    }
   ],
   "source": [
    "'...'[0]"
   ]
  },
  {
   "cell_type": "code",
   "execution_count": null,
   "id": "a0284bed-87e3-4953-a5b0-d7a73611c8d2",
   "metadata": {},
   "outputs": [
    {
     "data": {
      "text/plain": [
       "False"
      ]
     },
     "execution_count": 459,
     "metadata": {},
     "output_type": "execute_result"
    }
   ],
   "source": [
    "''.startswith('"
   ]
  },
  {
   "cell_type": "code",
   "execution_count": 472,
   "id": "e5cc5d3d-1155-41cf-a412-75c5aab3fed5",
   "metadata": {},
   "outputs": [],
   "source": [
    "words.append('not ok')"
   ]
  },
  {
   "cell_type": "code",
   "execution_count": 476,
   "id": "0584c4e5-17c9-412c-a6e8-8fa963372bfb",
   "metadata": {},
   "outputs": [
    {
     "data": {
      "text/plain": [
       "['ok', 'not ok']"
      ]
     },
     "execution_count": 476,
     "metadata": {},
     "output_type": "execute_result"
    }
   ],
   "source": [
    "words"
   ]
  },
  {
   "cell_type": "code",
   "execution_count": 478,
   "id": "9be98b2a-2602-4a16-ac58-6890b6410aaa",
   "metadata": {},
   "outputs": [],
   "source": [
    "words.reverse()"
   ]
  },
  {
   "cell_type": "code",
   "execution_count": 480,
   "id": "a72dd230-0294-4e01-8b82-1eae67680240",
   "metadata": {},
   "outputs": [
    {
     "data": {
      "text/plain": [
       "['not ok', 'ok']"
      ]
     },
     "execution_count": 480,
     "metadata": {},
     "output_type": "execute_result"
    }
   ],
   "source": [
    "words"
   ]
  },
  {
   "cell_type": "code",
   "execution_count": null,
   "id": "c31b8b48-470e-491e-88b6-ed27918cddf4",
   "metadata": {},
   "outputs": [],
   "source": [
    "name = 'Dave'\n",
    "\n",
    "switch(name):\n",
    "    case 'Dave':\n",
    "        print('yes, it is Dave')\n",
    "    case 'Taylor':\n",
    "        print(...)\n",
    "    case 'Bruce':\n",
    "        print(...)"
   ]
  },
  {
   "cell_type": "code",
   "execution_count": 497,
   "id": "57cae40a-5409-4994-b9ca-e8b7df4d3d7d",
   "metadata": {},
   "outputs": [
    {
     "name": "stdout",
     "output_type": "stream",
     "text": [
      "...\n"
     ]
    }
   ],
   "source": [
    "if name == 'Dave':\n",
    "    print('...')\n",
    "elif name == 'Taylor':\n",
    "    print('...')\n",
    "else:\n",
    "    print('blah')"
   ]
  },
  {
   "cell_type": "code",
   "execution_count": 499,
   "id": "811067ae-88ce-487b-aa2f-8b2778932095",
   "metadata": {},
   "outputs": [
    {
     "data": {
      "text/plain": [
       "'3.11.4 (main, Jul  5 2023, 14:15:25) [GCC 11.2.0]'"
      ]
     },
     "execution_count": 499,
     "metadata": {},
     "output_type": "execute_result"
    }
   ],
   "source": [
    "sys.version"
   ]
  },
  {
   "cell_type": "code",
   "execution_count": 514,
   "id": "ec907a10-80e4-4fc3-b70e-4b0fe93c49c7",
   "metadata": {},
   "outputs": [],
   "source": [
    "name = 'Dave Wade-Stein'"
   ]
  },
  {
   "cell_type": "code",
   "execution_count": 516,
   "id": "53bdf002-8ca6-4a2d-836e-93b25e66701c",
   "metadata": {},
   "outputs": [],
   "source": [
    "match name:\n",
    "    case 'Dave*':\n",
    "        print('yay!')\n",
    "    case 'Taylor':\n",
    "        print('swift!')"
   ]
  },
  {
   "cell_type": "code",
   "execution_count": 525,
   "id": "0cd3bf33-dd30-4f3d-879f-771c740d3d5e",
   "metadata": {},
   "outputs": [],
   "source": [
    "words = []"
   ]
  },
  {
   "cell_type": "code",
   "execution_count": 527,
   "id": "d1ac537e-11a4-45c5-9b82-7949f0c6e306",
   "metadata": {},
   "outputs": [
    {
     "name": "stdout",
     "output_type": "stream",
     "text": [
      "cannot do anything, empty list\n"
     ]
    }
   ],
   "source": [
    "match words:\n",
    "    case []: # empty list\n",
    "        print('cannot do anything, empty list')\n",
    "    case ['a', 'b']:\n",
    "        print('nope')\n",
    "    case ['a', 'b', 'c']:\n",
    "        print('abc')"
   ]
  },
  {
   "cell_type": "code",
   "execution_count": null,
   "id": "0676d830-0de5-4a4f-8e8b-63f0275eee35",
   "metadata": {},
   "outputs": [
    {
     "data": {
      "text/plain": [
       "1"
      ]
     },
     "execution_count": 529,
     "metadata": {},
     "output_type": "execute_result"
    }
   ],
   "source": [
    "1"
   ]
  },
  {
   "cell_type": "code",
   "execution_count": 536,
   "id": "885ceac3-4268-4fd1-a0c2-2bad331923ee",
   "metadata": {},
   "outputs": [],
   "source": [
    "import random"
   ]
  },
  {
   "cell_type": "code",
   "execution_count": 538,
   "id": "129c5d6f-1bbe-4de9-ac19-81a5b777b4dd",
   "metadata": {},
   "outputs": [
    {
     "data": {
      "text/plain": [
       "['BPF',\n",
       " 'LOG4',\n",
       " 'NV_MAGICCONST',\n",
       " 'RECIP_BPF',\n",
       " 'Random',\n",
       " 'SG_MAGICCONST',\n",
       " 'SystemRandom',\n",
       " 'TWOPI',\n",
       " '_ONE',\n",
       " '_Sequence',\n",
       " '_Set',\n",
       " '__all__',\n",
       " '__builtins__',\n",
       " '__cached__',\n",
       " '__doc__',\n",
       " '__file__',\n",
       " '__loader__',\n",
       " '__name__',\n",
       " '__package__',\n",
       " '__spec__',\n",
       " '_accumulate',\n",
       " '_acos',\n",
       " '_bisect',\n",
       " '_ceil',\n",
       " '_cos',\n",
       " '_e',\n",
       " '_exp',\n",
       " '_floor',\n",
       " '_index',\n",
       " '_inst',\n",
       " '_isfinite',\n",
       " '_log',\n",
       " '_os',\n",
       " '_pi',\n",
       " '_random',\n",
       " '_repeat',\n",
       " '_sha512',\n",
       " '_sin',\n",
       " '_sqrt',\n",
       " '_test',\n",
       " '_test_generator',\n",
       " '_urandom',\n",
       " '_warn',\n",
       " 'betavariate',\n",
       " 'choice',\n",
       " 'choices',\n",
       " 'expovariate',\n",
       " 'gammavariate',\n",
       " 'gauss',\n",
       " 'getrandbits',\n",
       " 'getstate',\n",
       " 'lognormvariate',\n",
       " 'normalvariate',\n",
       " 'paretovariate',\n",
       " 'randbytes',\n",
       " 'randint',\n",
       " 'random',\n",
       " 'randrange',\n",
       " 'sample',\n",
       " 'seed',\n",
       " 'setstate',\n",
       " 'shuffle',\n",
       " 'triangular',\n",
       " 'uniform',\n",
       " 'vonmisesvariate',\n",
       " 'weibullvariate']"
      ]
     },
     "execution_count": 538,
     "metadata": {},
     "output_type": "execute_result"
    }
   ],
   "source": [
    "dir(random)"
   ]
  },
  {
   "cell_type": "code",
   "execution_count": 540,
   "id": "66ac488a-97bc-4c2a-92f2-d3ff3af4cab1",
   "metadata": {},
   "outputs": [],
   "source": [
    "from math import sin, cos, pi"
   ]
  },
  {
   "cell_type": "code",
   "execution_count": 542,
   "id": "e788dc59-c73b-4b8a-b060-4594e8c80c30",
   "metadata": {},
   "outputs": [
    {
     "data": {
      "text/plain": [
       "3.141592653589793"
      ]
     },
     "execution_count": 542,
     "metadata": {},
     "output_type": "execute_result"
    }
   ],
   "source": [
    "pi"
   ]
  },
  {
   "cell_type": "code",
   "execution_count": 544,
   "id": "62e6b863-0acb-43ef-b7cd-aff4c1091842",
   "metadata": {},
   "outputs": [
    {
     "data": {
      "text/plain": [
       "1.0"
      ]
     },
     "execution_count": 544,
     "metadata": {},
     "output_type": "execute_result"
    }
   ],
   "source": [
    "sin(pi / 2.0)"
   ]
  },
  {
   "cell_type": "code",
   "execution_count": null,
   "id": "5bc535ce-33e7-4fc3-9343-d1961985bc26",
   "metadata": {},
   "outputs": [],
   "source": [
    "# bash \"Bourne again shell\" ...\n",
    "# sh \"Bourne shell\""
   ]
  },
  {
   "cell_type": "code",
   "execution_count": 548,
   "id": "8defbe75-e99a-4788-ba62-f1549e28a97a",
   "metadata": {},
   "outputs": [],
   "source": [
    "s = []"
   ]
  },
  {
   "cell_type": "code",
   "execution_count": 552,
   "id": "4f5f9214-e1e2-4818-a6b7-3f74ee72c729",
   "metadata": {},
   "outputs": [
    {
     "ename": "ValueError",
     "evalue": "list.remove(x): x not in list",
     "output_type": "error",
     "traceback": [
      "\u001b[0;31m---------------------------------------------------------------------------\u001b[0m",
      "\u001b[0;31mValueError\u001b[0m                                Traceback (most recent call last)",
      "Cell \u001b[0;32mIn[552], line 1\u001b[0m\n\u001b[0;32m----> 1\u001b[0m s\u001b[38;5;241m.\u001b[39mremove(\u001b[38;5;124m'\u001b[39m\u001b[38;5;124mthing\u001b[39m\u001b[38;5;124m'\u001b[39m)\n",
      "\u001b[0;31mValueError\u001b[0m: list.remove(x): x not in list"
     ]
    }
   ],
   "source": [
    "s.remove('thing') # consider that our expectation was that 'thing' was in the list"
   ]
  },
  {
   "cell_type": "code",
   "execution_count": 554,
   "id": "d436435b-0d7f-4e67-b3ee-d0f82c7c2271",
   "metadata": {},
   "outputs": [],
   "source": [
    "if 'thing' in s:\n",
    "    s.remove('thing')"
   ]
  },
  {
   "cell_type": "code",
   "execution_count": 564,
   "id": "a4164606-9c59-4e9c-ab8e-16ad20553308",
   "metadata": {},
   "outputs": [],
   "source": [
    "string = 'alphabet soup tastes great!'"
   ]
  },
  {
   "cell_type": "code",
   "execution_count": 570,
   "id": "98edd7a2-a032-43da-b0b0-09a7df330bb9",
   "metadata": {},
   "outputs": [
    {
     "data": {
      "text/plain": [
       "2"
      ]
     },
     "execution_count": 570,
     "metadata": {},
     "output_type": "execute_result"
    }
   ],
   "source": [
    "string.count('p')"
   ]
  },
  {
   "cell_type": "code",
   "execution_count": 581,
   "id": "97d76ac1-98a9-4408-a829-460585877f86",
   "metadata": {},
   "outputs": [],
   "source": [
    "consonants = [char.upper() for char in string\n",
    "                       if string.count(char) == 3]"
   ]
  },
  {
   "cell_type": "code",
   "execution_count": 583,
   "id": "ff16eb09-4ce4-41e9-b37a-616609081e83",
   "metadata": {},
   "outputs": [
    {
     "name": "stdout",
     "output_type": "stream",
     "text": [
      "['E', ' ', 'S', ' ', 'S', 'E', 'S', ' ', 'E']\n"
     ]
    }
   ],
   "source": [
    "print(consonants)"
   ]
  },
  {
   "cell_type": "code",
   "execution_count": 596,
   "id": "ad271b2f-e275-48dc-b17b-34cb9ef05fe3",
   "metadata": {},
   "outputs": [],
   "source": [
    "fruit = 'lemon'"
   ]
  },
  {
   "cell_type": "code",
   "execution_count": 588,
   "id": "a808bb96-88b1-483c-98d8-a275bbeab78c",
   "metadata": {},
   "outputs": [
    {
     "data": {
      "text/plain": [
       "'e'"
      ]
     },
     "execution_count": 588,
     "metadata": {},
     "output_type": "execute_result"
    }
   ],
   "source": [
    "fruit[-1]"
   ]
  },
  {
   "cell_type": "code",
   "execution_count": 598,
   "id": "3c831822-e01c-42b3-8774-cfa6b56ebdae",
   "metadata": {},
   "outputs": [
    {
     "data": {
      "text/plain": [
       "False"
      ]
     },
     "execution_count": 598,
     "metadata": {},
     "output_type": "execute_result"
    }
   ],
   "source": [
    "fruit[-1] in 'aeiouy'"
   ]
  },
  {
   "cell_type": "code",
   "execution_count": 605,
   "id": "ee9299eb-7b5c-4cb5-a99d-8cb73dac5616",
   "metadata": {},
   "outputs": [
    {
     "name": "stdout",
     "output_type": "stream",
     "text": [
      "[1, 2, 3, 4, 5, 6, 7, 8, 9, 10, 11, 12, 13, 14, 15, 16, 17, 18, 19, 20, 21, 22, 23, 24, 25, 26, 27, 28, 29, 30, 31, 32, 33, 34, 35, 36, 37, 38, 39, 40, 41, 42, 43, 44, 45, 46, 47, 48, 49, 50, 51, 52, 53, 54, 55, 56, 57, 58, 59, 60, 61, 62, 63, 64, 65, 66, 67, 68, 69, 70, 71, 72, 73, 74, 75, 76, 77, 78, 79, 80, 81, 82, 83, 84, 85, 86, 87, 88, 89, 90, 91, 92, 93, 94, 95, 96, 97, 98, 99, 100]\n"
     ]
    }
   ],
   "source": [
    "print(list(range(1, 101)))"
   ]
  },
  {
   "cell_type": "code",
   "execution_count": 607,
   "id": "228a340d-94fe-4c2e-b19c-11d7f706e61b",
   "metadata": {},
   "outputs": [
    {
     "data": {
      "text/plain": [
       "0"
      ]
     },
     "execution_count": 607,
     "metadata": {},
     "output_type": "execute_result"
    }
   ],
   "source": [
    "55 % 5"
   ]
  },
  {
   "cell_type": "markdown",
   "id": "38551d34-9766-4a2d-922a-d8641740e691",
   "metadata": {},
   "source": [
    "## Lab: List Comprehensions\n",
    "*  Start with Cartesian product example (colors x sizes of t-shirts) and add a third list, __`sleeves = ['short', 'long']`__ then write a new listcomp which generates the Cartesian product __`colors x sizes x sleeves`__. __`tshirts`__ should look like this:<pre><b>\n",
    "    [['black', 'S', 'short'],\n",
    "     ['black', 'S', 'long'],\n",
    "     ['black', 'M', 'short'],\n",
    "     ['black', 'M', 'long'],\n",
    "     ['black', 'L', 'short'],\n",
    "     ['black', 'L', 'long'],\n",
    "     ['white', 'S', 'short'],\n",
    "     ['white', 'S', 'long'],\n",
    "     ['white', 'M', 'short'],\n",
    "     ['white', 'M', 'long'],\n",
    "     ['white', 'L', 'short'],\n",
    "     ['white', 'L', 'long']]\n",
    "     \n",
    " </b></pre>\n",
    "* Use a list comprehension to create a list of the squares of the integers from 1 to 25 (i.e, 1, 4, 9, 16, …, 625)\n",
    "* Given a list of words, create a second list which contains all the words from the first list which do not end with a vowel\n",
    "* Use a list comprehension to create a list of the integers from 1 to 100 which are not divisible by 5\n",
    "* Use a list comprehension and __`zip()`__ to create a list of lists, where the list items are name and ID number that you grabbed from separate lists of names and ID numbers\n",
    "  * start with a list of, say, 5 names ['John', 'Mary', 'Edward', 'Linda', 'Dinesh']\n",
    "  * and a list of, say, 5 ID numbers [1003, 2043, 8762, 7862, 1093]\n",
    "  * additional wrinkle: do not include any names whose corresponding ID is -1"
   ]
  },
  {
   "cell_type": "code",
   "execution_count": 618,
   "id": "fc63cc79-b9ca-4b5d-8cda-f171f5adeabe",
   "metadata": {},
   "outputs": [],
   "source": [
    "colors = ['black', 'white']\n",
    "sizes = ['S', 'M', 'L', 'XL']\n",
    "sleeves = 'short long'.split()"
   ]
  },
  {
   "cell_type": "code",
   "execution_count": 635,
   "id": "df0d2ca8-32a1-4204-ab0e-6aeee02fed60",
   "metadata": {},
   "outputs": [
    {
     "data": {
      "text/plain": [
       "[['black', 'S', 'short'],\n",
       " ['black', 'S', 'long'],\n",
       " ['black', 'M', 'short'],\n",
       " ['black', 'M', 'long'],\n",
       " ['black', 'L', 'short'],\n",
       " ['black', 'L', 'long'],\n",
       " ['black', 'XL', 'short'],\n",
       " ['black', 'XL', 'long'],\n",
       " ['white', 'S', 'short'],\n",
       " ['white', 'S', 'long'],\n",
       " ['white', 'M', 'short'],\n",
       " ['white', 'M', 'long'],\n",
       " ['white', 'L', 'short'],\n",
       " ['white', 'L', 'long'],\n",
       " ['white', 'XL', 'short'],\n",
       " ['white', 'XL', 'long']]"
      ]
     },
     "execution_count": 635,
     "metadata": {},
     "output_type": "execute_result"
    }
   ],
   "source": [
    "tshirts = [[color, size, sleeve]\n",
    "                for color in colors\n",
    "                   for size in sizes\n",
    "                      for sleeve in sleeves]\n",
    "tshirts"
   ]
  },
  {
   "cell_type": "code",
   "execution_count": 639,
   "id": "e80c4ba5-c0b5-49b1-9187-f862a4bd5304",
   "metadata": {},
   "outputs": [
    {
     "name": "stdout",
     "output_type": "stream",
     "text": [
      "[1, 4, 9, 16, 25, 36, 49, 64, 81, 100, 121, 144, 169, 196, 225, 256, 289, 324, 361, 400, 441, 484, 529, 576, 625]\n"
     ]
    }
   ],
   "source": [
    "squares = [num ** 2 for num in range(1, 26)]\n",
    "print(squares)"
   ]
  },
  {
   "cell_type": "code",
   "execution_count": 644,
   "id": "90e206e2-e68e-4b07-afdd-4c6faeccd570",
   "metadata": {},
   "outputs": [],
   "source": [
    "words = 'apple fig pear guava lime egg'.split()"
   ]
  },
  {
   "cell_type": "code",
   "execution_count": 650,
   "id": "ea6b241d",
   "metadata": {},
   "outputs": [],
   "source": [
    "no_end_in_vowel = [word for word in words\n",
    "                           if word[-1] not in 'aeiouy']\n",
    "print(no_end_in_vowel)"
   ]
  },
  {
   "cell_type": "code",
   "execution_count": 658,
   "id": "45e94625-3afb-445f-8129-b5e836639ea9",
   "metadata": {},
   "outputs": [
    {
     "name": "stdout",
     "output_type": "stream",
     "text": [
      "[1, 2, 3, 4, 6, 7, 8, 9, 11, 12, 13, 14, 16, 17, 18, 19, 21, 22, 23, 24, 26, 27, 28, 29, 31, 32, 33, 34, 36, 37, 38, 39, 41, 42, 43, 44, 46, 47, 48, 49, 51, 52, 53, 54, 56, 57, 58, 59, 61, 62, 63, 64, 66, 67, 68, 69, 71, 72, 73, 74, 76, 77, 78, 79, 81, 82, 83, 84, 86, 87, 88, 89, 91, 92, 93, 94, 96, 97, 98, 99]\n"
     ]
    }
   ],
   "source": [
    "no_div_by_5 = [number for number in range(1, 101)\n",
    "                         if number % 5 != 0]\n",
    "print(no_div_by_5)"
   ]
  },
  {
   "cell_type": "code",
   "execution_count": 656,
   "id": "4d35965c-acd1-4f24-9fd3-7c3a7f194e6d",
   "metadata": {},
   "outputs": [
    {
     "name": "stdout",
     "output_type": "stream",
     "text": [
      "[5, 10, 15, 20, 25, 30, 35, 40, 45, 50, 55, 60, 65, 70, 75, 80, 85, 90, 95, 100]\n"
     ]
    }
   ],
   "source": [
    "print(list(range(5, 101, 5)))"
   ]
  },
  {
   "cell_type": "code",
   "execution_count": 661,
   "id": "a6e369be-acbe-4107-8528-5196b810df0a",
   "metadata": {},
   "outputs": [
    {
     "name": "stdout",
     "output_type": "stream",
     "text": [
      "hi\n"
     ]
    }
   ],
   "source": [
    "if 5 > 4:\n",
    "    print('hi')"
   ]
  },
  {
   "cell_type": "code",
   "execution_count": 663,
   "id": "4f737776-ac00-4bbe-a4ce-a35e1c9d2c64",
   "metadata": {},
   "outputs": [
    {
     "data": {
      "text/plain": [
       "True"
      ]
     },
     "execution_count": 663,
     "metadata": {},
     "output_type": "execute_result"
    }
   ],
   "source": [
    "5 > 4"
   ]
  },
  {
   "cell_type": "code",
   "execution_count": 679,
   "id": "74b72d8e-3964-47e1-b945-38b48e454cc0",
   "metadata": {},
   "outputs": [],
   "source": [
    "value = -5"
   ]
  },
  {
   "cell_type": "code",
   "execution_count": 681,
   "id": "0c9ba8fd-aad9-44d8-b1db-f954f0331648",
   "metadata": {},
   "outputs": [
    {
     "name": "stdout",
     "output_type": "stream",
     "text": [
      "yep\n"
     ]
    }
   ],
   "source": [
    "if value: # if this value is not 0 (or 0.0)\n",
    "    print('yep')"
   ]
  },
  {
   "cell_type": "code",
   "execution_count": 674,
   "id": "38cbcb9d-109a-438c-a34f-4205bfb54641",
   "metadata": {},
   "outputs": [],
   "source": [
    "value = 0.0"
   ]
  },
  {
   "cell_type": "code",
   "execution_count": 676,
   "id": "46bc6a6d-b592-4742-b815-13f91a4c71b2",
   "metadata": {},
   "outputs": [],
   "source": [
    "if value:\n",
    "    print('nope')"
   ]
  },
  {
   "cell_type": "code",
   "execution_count": 693,
   "id": "39b1652c-604a-4a33-abf9-751d5f543c75",
   "metadata": {},
   "outputs": [],
   "source": [
    "name = ''"
   ]
  },
  {
   "cell_type": "code",
   "execution_count": 695,
   "id": "c1963e0e-005b-4709-9a9a-3a4d7d87822f",
   "metadata": {},
   "outputs": [],
   "source": [
    "if name: # if name is non-empty, not an empty string\n",
    "    print('got a name')"
   ]
  },
  {
   "cell_type": "code",
   "execution_count": 697,
   "id": "f7d8f36a-e0e7-49f3-988f-59b5a8c1d40f",
   "metadata": {},
   "outputs": [],
   "source": [
    "my_nums = []"
   ]
  },
  {
   "cell_type": "code",
   "execution_count": 701,
   "id": "a12989cb-ffd0-4904-a43a-93558af54fe3",
   "metadata": {},
   "outputs": [],
   "source": [
    "if my_nums: # if this list is non-empty\n",
    "    print('something')"
   ]
  },
  {
   "cell_type": "code",
   "execution_count": 710,
   "id": "bf04c4e0-81dc-4299-8fcc-24af35f7789e",
   "metadata": {},
   "outputs": [
    {
     "name": "stdout",
     "output_type": "stream",
     "text": [
      "[['John', 1003], ['Mary', 2043], ['Edward', 8762], ['Linda', 7862], ['Dinesh', 1093]]\n"
     ]
    }
   ],
   "source": [
    "names = ['John', 'Mary', 'Edward', 'Linda', 'Dinesh']\n",
    "ids = [1003, 2043, 8762, 7862, 1093]\n",
    "employees = [[name, id] for name, id in zip(names, ids)]\n",
    "print(employees)"
   ]
  },
  {
   "cell_type": "code",
   "execution_count": 734,
   "id": "50028eaf-2e91-41b0-b69b-a997ce57f00b",
   "metadata": {},
   "outputs": [
    {
     "name": "stdout",
     "output_type": "stream",
     "text": [
      "[['John', 11003], ['Mary', 12043], ['Linda', 17862]]\n"
     ]
    }
   ],
   "source": [
    "ids = [1003, 2043, -1, 7862, -1]\n",
    "current_employees = [[name, id + 10_000] for name, id in zip(names, ids)\n",
    "                                    if id != -1]\n",
    "print(current_employees)"
   ]
  },
  {
   "cell_type": "code",
   "execution_count": 714,
   "id": "44988dc2-27c4-44c7-885e-a3560d5508d1",
   "metadata": {},
   "outputs": [],
   "source": [
    "len = 3 # we made an integer called len and Python did not stop us"
   ]
  },
  {
   "cell_type": "code",
   "execution_count": 720,
   "id": "851a3bf0-ad58-4962-95b6-9500a9ca91e9",
   "metadata": {},
   "outputs": [
    {
     "data": {
      "text/plain": [
       "2"
      ]
     },
     "execution_count": 720,
     "metadata": {},
     "output_type": "execute_result"
    }
   ],
   "source": [
    "len('hi')"
   ]
  },
  {
   "cell_type": "code",
   "execution_count": 718,
   "id": "de328ea3-4d24-4bcd-b1cd-59630150598e",
   "metadata": {},
   "outputs": [],
   "source": [
    "del len"
   ]
  },
  {
   "cell_type": "code",
   "execution_count": 722,
   "id": "925430fa-96ba-41f8-b1d0-ec119d453a9d",
   "metadata": {},
   "outputs": [],
   "source": [
    "list = [1, 2, 3]"
   ]
  },
  {
   "cell_type": "code",
   "execution_count": 728,
   "id": "0f98b357-c473-4345-8fea-7673ce69b7fd",
   "metadata": {},
   "outputs": [
    {
     "data": {
      "text/plain": [
       "['h', 'i']"
      ]
     },
     "execution_count": 728,
     "metadata": {},
     "output_type": "execute_result"
    }
   ],
   "source": [
    "list('hi')"
   ]
  },
  {
   "cell_type": "code",
   "execution_count": 726,
   "id": "af4250f8-cd32-426f-9cac-479d2088b846",
   "metadata": {},
   "outputs": [],
   "source": [
    "del list"
   ]
  },
  {
   "cell_type": "code",
   "execution_count": 740,
   "id": "42cf9281-cd61-484e-81ec-f874e146c58e",
   "metadata": {},
   "outputs": [],
   "source": [
    "first, last = 'Bruce', 'Lee'"
   ]
  },
  {
   "cell_type": "code",
   "execution_count": 743,
   "id": "90b784b1-94c8-4557-ac2f-434dbde34d55",
   "metadata": {},
   "outputs": [],
   "source": [
    "t = 'this', 'thing', 'is', 'a', 'tuple'"
   ]
  },
  {
   "cell_type": "code",
   "execution_count": 747,
   "id": "48a0630c-1748-4c52-b2a5-0bf02d0f93e4",
   "metadata": {},
   "outputs": [
    {
     "ename": "TypeError",
     "evalue": "'tuple' object doesn't support item deletion",
     "output_type": "error",
     "traceback": [
      "\u001b[0;31m---------------------------------------------------------------------------\u001b[0m",
      "\u001b[0;31mTypeError\u001b[0m                                 Traceback (most recent call last)",
      "Cell \u001b[0;32mIn[747], line 1\u001b[0m\n\u001b[0;32m----> 1\u001b[0m \u001b[38;5;28;01mdel\u001b[39;00m t[\u001b[38;5;241m0\u001b[39m]\n",
      "\u001b[0;31mTypeError\u001b[0m: 'tuple' object doesn't support item deletion"
     ]
    }
   ],
   "source": [
    "del t[0]"
   ]
  },
  {
   "cell_type": "markdown",
   "id": "7de6c43a-168b-44ee-b249-8f5364c988a0",
   "metadata": {},
   "source": [
    "## Lab: Tuples\n",
    "* We don't really know enough yet to use a tuple in interesting ways, so instead let's just tinker around with tuples here in the notebook...\n",
    "  * Create a tuple representing a city w/fields of your own choosing (e.g., city name, state/country, population, elevation, etc.)\n",
    "  * \"Add\" a field to the tuple–since tuples are immutable, you will have to do this by concatenating tuples\n",
    "  * Using the _in_ operator, check to see if a particular value is in the tuple\n",
    "  * Using the __`.index()`__ method, find the position of a particular value in the tuple"
   ]
  },
  {
   "cell_type": "code",
   "execution_count": 752,
   "id": "e1f5a49d-64c2-4894-9614-e6f52bef4bed",
   "metadata": {},
   "outputs": [],
   "source": [
    "name = 'Dave'"
   ]
  },
  {
   "cell_type": "code",
   "execution_count": 754,
   "id": "28d087ad-883e-4a3b-b421-c49e99d8b78f",
   "metadata": {},
   "outputs": [],
   "source": [
    "name = name + ' W-S'"
   ]
  },
  {
   "cell_type": "code",
   "execution_count": 756,
   "id": "da422952-8146-4a90-bacb-bfff3c503d26",
   "metadata": {},
   "outputs": [
    {
     "data": {
      "text/plain": [
       "'Dave W-S'"
      ]
     },
     "execution_count": 756,
     "metadata": {},
     "output_type": "execute_result"
    }
   ],
   "source": [
    "name"
   ]
  },
  {
   "cell_type": "code",
   "execution_count": 758,
   "id": "2911fa50-10fc-46d2-ae15-ce738f664367",
   "metadata": {},
   "outputs": [],
   "source": [
    "t = 1, 2, 3"
   ]
  },
  {
   "cell_type": "code",
   "execution_count": 760,
   "id": "6b2747ae-6872-4d0c-b61a-54526a3be37c",
   "metadata": {},
   "outputs": [
    {
     "data": {
      "text/plain": [
       "(1, 2, 3)"
      ]
     },
     "execution_count": 760,
     "metadata": {},
     "output_type": "execute_result"
    }
   ],
   "source": [
    "t"
   ]
  },
  {
   "cell_type": "code",
   "execution_count": 764,
   "id": "fa0b13f4-10bf-49f9-b958-2eb76f4b7044",
   "metadata": {},
   "outputs": [
    {
     "data": {
      "text/plain": [
       "(1, 2, 3, 4)"
      ]
     },
     "execution_count": 764,
     "metadata": {},
     "output_type": "execute_result"
    }
   ],
   "source": [
    "t + (4,)"
   ]
  },
  {
   "cell_type": "code",
   "execution_count": 766,
   "id": "7d874ce4-4e3e-4f78-8eea-f3994fe7c8d0",
   "metadata": {},
   "outputs": [],
   "source": [
    "t = t + (4,)"
   ]
  },
  {
   "cell_type": "code",
   "execution_count": 768,
   "id": "1652489f-e3a6-4f24-9747-9a1004d33d8e",
   "metadata": {},
   "outputs": [
    {
     "data": {
      "text/plain": [
       "(1, 2, 3, 4)"
      ]
     },
     "execution_count": 768,
     "metadata": {},
     "output_type": "execute_result"
    }
   ],
   "source": [
    "t"
   ]
  },
  {
   "cell_type": "code",
   "execution_count": 785,
   "id": "22609742-1f32-485a-8537-abc20a32b1d1",
   "metadata": {},
   "outputs": [
    {
     "data": {
      "text/plain": [
       "('Sigiriya', 'Sri Lanka', 349)"
      ]
     },
     "execution_count": 785,
     "metadata": {},
     "output_type": "execute_result"
    }
   ],
   "source": [
    "city = 'Sigiriya', 'Sri Lanka', 349\n",
    "city"
   ]
  },
  {
   "cell_type": "code",
   "execution_count": 787,
   "id": "d312f492-7eb2-4e7d-bae8-bbda7419ee84",
   "metadata": {},
   "outputs": [
    {
     "data": {
      "text/plain": [
       "('Sigiriya', 'Sri Lanka', 349, 1982)"
      ]
     },
     "execution_count": 787,
     "metadata": {},
     "output_type": "execute_result"
    }
   ],
   "source": [
    "city + (1982,)"
   ]
  },
  {
   "cell_type": "code",
   "execution_count": 789,
   "id": "be8c92c1-d419-4af6-be8e-61155f8b9790",
   "metadata": {},
   "outputs": [
    {
     "data": {
      "text/plain": [
       "('Sigiriya', 'Sri Lanka', 349, 1982)"
      ]
     },
     "execution_count": 789,
     "metadata": {},
     "output_type": "execute_result"
    }
   ],
   "source": [
    "city = city + (1982,)\n",
    "city"
   ]
  },
  {
   "cell_type": "code",
   "execution_count": 793,
   "id": "5d13c83f-daa3-40ff-bf32-7fefb7fc4327",
   "metadata": {},
   "outputs": [
    {
     "data": {
      "text/plain": [
       "False"
      ]
     },
     "execution_count": 793,
     "metadata": {},
     "output_type": "execute_result"
    }
   ],
   "source": [
    "349 in city"
   ]
  },
  {
   "cell_type": "code",
   "execution_count": 799,
   "id": "cc9e3420-3e8b-48de-9610-eccb72e392e9",
   "metadata": {},
   "outputs": [
    {
     "data": {
      "text/plain": [
       "3"
      ]
     },
     "execution_count": 799,
     "metadata": {},
     "output_type": "execute_result"
    }
   ],
   "source": [
    "city.index(1982)"
   ]
  },
  {
   "cell_type": "code",
   "execution_count": 804,
   "id": "569d916f-f655-4786-88ab-631b00803327",
   "metadata": {},
   "outputs": [
    {
     "data": {
      "text/plain": [
       "6"
      ]
     },
     "execution_count": 804,
     "metadata": {},
     "output_type": "execute_result"
    }
   ],
   "source": [
    "sum([1, 2, 3])"
   ]
  },
  {
   "cell_type": "code",
   "execution_count": 806,
   "id": "a9e000b8-88bd-4971-b5b3-69c304789af3",
   "metadata": {},
   "outputs": [
    {
     "data": {
      "text/plain": [
       "6"
      ]
     },
     "execution_count": 806,
     "metadata": {},
     "output_type": "execute_result"
    }
   ],
   "source": [
    "sum((1, 2, 3))"
   ]
  },
  {
   "cell_type": "code",
   "execution_count": 808,
   "id": "4c23df07-5f7a-4008-8d85-e9f0b37ab279",
   "metadata": {},
   "outputs": [
    {
     "data": {
      "text/plain": [
       "6.5"
      ]
     },
     "execution_count": 808,
     "metadata": {},
     "output_type": "execute_result"
    }
   ],
   "source": [
    "sum([1.0, 2.0, 3.5])"
   ]
  },
  {
   "cell_type": "code",
   "execution_count": 810,
   "id": "9c21c950-db54-4d44-b29f-67c73a75d3fd",
   "metadata": {},
   "outputs": [
    {
     "data": {
      "text/plain": [
       "6"
      ]
     },
     "execution_count": 810,
     "metadata": {},
     "output_type": "execute_result"
    }
   ],
   "source": [
    "sum({1: 'one', 2: 'two', 3: 'three'})"
   ]
  },
  {
   "cell_type": "code",
   "execution_count": 833,
   "id": "fd6dbef3-a9f5-4fbb-9bb2-422d40128f14",
   "metadata": {},
   "outputs": [],
   "source": [
    "d = {'food': 'bart'}"
   ]
  },
  {
   "cell_type": "code",
   "execution_count": 815,
   "id": "f0b9eb37-faac-4b4d-b542-5e35890608c2",
   "metadata": {},
   "outputs": [
    {
     "data": {
      "text/plain": [
       "'bar'"
      ]
     },
     "execution_count": 815,
     "metadata": {},
     "output_type": "execute_result"
    }
   ],
   "source": [
    "d['foo']"
   ]
  },
  {
   "cell_type": "code",
   "execution_count": 817,
   "id": "7dea160a-5923-4a27-8fcb-02fb5a1426e9",
   "metadata": {},
   "outputs": [
    {
     "ename": "KeyError",
     "evalue": "'foot'",
     "output_type": "error",
     "traceback": [
      "\u001b[0;31m---------------------------------------------------------------------------\u001b[0m",
      "\u001b[0;31mKeyError\u001b[0m                                  Traceback (most recent call last)",
      "Cell \u001b[0;32mIn[817], line 1\u001b[0m\n\u001b[0;32m----> 1\u001b[0m d[\u001b[38;5;124m'\u001b[39m\u001b[38;5;124mfoot\u001b[39m\u001b[38;5;124m'\u001b[39m]\n",
      "\u001b[0;31mKeyError\u001b[0m: 'foot'"
     ]
    }
   ],
   "source": [
    "d['foot']"
   ]
  },
  {
   "cell_type": "code",
   "execution_count": 837,
   "id": "4177f160-5c42-4bbc-bcb5-2a8a495827b3",
   "metadata": {},
   "outputs": [
    {
     "name": "stdout",
     "output_type": "stream",
     "text": [
      "bart\n"
     ]
    }
   ],
   "source": [
    "if 'food' in d:\n",
    "    print(d['food'])"
   ]
  },
  {
   "cell_type": "code",
   "execution_count": 840,
   "id": "767f86b7-36d0-4a9d-bc3a-c9c3f83d7d5f",
   "metadata": {},
   "outputs": [
    {
     "data": {
      "text/plain": [
       "['d', 'e', 'e', 'i', 'l', 'o', 't', 't']"
      ]
     },
     "execution_count": 840,
     "metadata": {},
     "output_type": "execute_result"
    }
   ],
   "source": [
    "sorted('deloitte')"
   ]
  },
  {
   "cell_type": "code",
   "execution_count": 842,
   "id": "dc9e263f-c6c2-4faf-b9f0-b834433eb09e",
   "metadata": {},
   "outputs": [
    {
     "data": {
      "text/plain": [
       "8"
      ]
     },
     "execution_count": 842,
     "metadata": {},
     "output_type": "execute_result"
    }
   ],
   "source": [
    "len('deloitte')"
   ]
  },
  {
   "cell_type": "code",
   "execution_count": 845,
   "id": "88b3e27d-b705-44f6-9daf-0bcc0264da8f",
   "metadata": {},
   "outputs": [],
   "source": [
    "fruits = 'apple fig pear'.split()"
   ]
  },
  {
   "cell_type": "code",
   "execution_count": 847,
   "id": "ac75b969-ef57-4bdb-b204-3b17cf5ee60c",
   "metadata": {},
   "outputs": [
    {
     "data": {
      "text/plain": [
       "['apple', 'fig', 'pear']"
      ]
     },
     "execution_count": 847,
     "metadata": {},
     "output_type": "execute_result"
    }
   ],
   "source": [
    "fruits"
   ]
  },
  {
   "cell_type": "code",
   "execution_count": 849,
   "id": "ff81e020-43b7-4a5b-8233-53b3a3a70fc0",
   "metadata": {},
   "outputs": [
    {
     "data": {
      "text/plain": [
       "['apple', 'fig', 'pear']"
      ]
     },
     "execution_count": 849,
     "metadata": {},
     "output_type": "execute_result"
    }
   ],
   "source": [
    "sorted(fruits)"
   ]
  },
  {
   "cell_type": "code",
   "execution_count": 853,
   "id": "5c0a2acc-7828-4278-a6a0-4a1bfbd67885",
   "metadata": {},
   "outputs": [
    {
     "data": {
      "text/plain": [
       "['apple', 'pear', 'fig']"
      ]
     },
     "execution_count": 853,
     "metadata": {},
     "output_type": "execute_result"
    }
   ],
   "source": [
    "sorted(fruits, key=len, reverse=True)"
   ]
  },
  {
   "cell_type": "code",
   "execution_count": 858,
   "id": "045de422-eec8-4854-ba71-7a357101e60a",
   "metadata": {},
   "outputs": [],
   "source": [
    "roman_to_arabic = {\n",
    "    'M': 1000,\n",
    "    'D': 500,\n",
    "    'C': 100,\n",
    "    'L': 50,\n",
    "    'X': 10,\n",
    "    'V': 5,\n",
    "    'I': 1,\n",
    "}"
   ]
  },
  {
   "cell_type": "code",
   "execution_count": 860,
   "id": "96eac2b5-2102-4415-85b9-2ad5de83872c",
   "metadata": {},
   "outputs": [
    {
     "data": {
      "text/plain": [
       "100"
      ]
     },
     "execution_count": 860,
     "metadata": {},
     "output_type": "execute_result"
    }
   ],
   "source": [
    "roman_to_arabic['C']"
   ]
  },
  {
   "cell_type": "markdown",
   "id": "401cb2f5-ed7d-47f0-b487-c3df33b479a0",
   "metadata": {},
   "source": [
    "## Lab: dictionary\n",
    "* use a dict to translate Roman numerals into their Hindu-Arabic equivalents\n",
    "1. load the dict with Roman numerals M (1000), D (500), C (100), L (50), X (10), V (5), I (1)\n",
    "2. read in a Roman numeral\n",
    "3. print Arabic equivalent\n",
    "4. try it with MCLX = 1000 + 100 + 50 + 10 = 1160\n",
    "4. __The rest of this could be homework...__\n",
    "4. __Deal with the case where a smaller number precedes a larger number, e.g., XC = 100 - 10 = 90, or MCM = 1000 + (1000-100) = 1900__\n",
    "  * e.g.,  __MCMXCIX = 1999__"
   ]
  },
  {
   "cell_type": "code",
   "execution_count": null,
   "id": "8543f5c6-f80f-403c-a06a-60eabaa4a2d7",
   "metadata": {},
   "outputs": [],
   "source": [
    "roman_to_arabic = {\n",
    "    'M': 1000,\n",
    "    'D': 500,\n",
    "    'C': 100,\n",
    "    'L': 50,\n",
    "    'X': 10,\n",
    "    'V': 5,\n",
    "    'I': 1,\n",
    "}"
   ]
  },
  {
   "cell_type": "code",
   "execution_count": null,
   "id": "3dd085c0-4c15-4f95-ac36-a19e35a514b3",
   "metadata": {},
   "outputs": [],
   "source": [
    "# 1. get a Roman numeral from the user\n",
    "# 1a. running total starts at 0\n",
    "# 2. for each digit of the Roman numeral\n",
    "# 3.   get the Hindu-Arabic equivalent from the dict\n",
    "# 4.   ...and add it to the running total\n",
    "# 5. print the running total"
   ]
  },
  {
   "cell_type": "code",
   "execution_count": 883,
   "id": "a8821850-d905-4fdd-94ca-feea8991ba71",
   "metadata": {},
   "outputs": [
    {
     "name": "stdin",
     "output_type": "stream",
     "text": [
      "Enter a Roman numeral:  MCA\n"
     ]
    },
    {
     "ename": "KeyError",
     "evalue": "'A'",
     "output_type": "error",
     "traceback": [
      "\u001b[0;31m---------------------------------------------------------------------------\u001b[0m",
      "\u001b[0;31mKeyError\u001b[0m                                  Traceback (most recent call last)",
      "Cell \u001b[0;32mIn[883], line 5\u001b[0m\n\u001b[1;32m      2\u001b[0m running_total \u001b[38;5;241m=\u001b[39m \u001b[38;5;241m0\u001b[39m \u001b[38;5;66;03m# 1a\u001b[39;00m\n\u001b[1;32m      4\u001b[0m \u001b[38;5;28;01mfor\u001b[39;00m digit \u001b[38;5;129;01min\u001b[39;00m roman: \u001b[38;5;66;03m# 2\u001b[39;00m\n\u001b[0;32m----> 5\u001b[0m     running_total \u001b[38;5;241m+\u001b[39m\u001b[38;5;241m=\u001b[39m roman_to_arabic[digit] \u001b[38;5;66;03m# 3, 4\u001b[39;00m\n\u001b[1;32m      7\u001b[0m \u001b[38;5;28mprint\u001b[39m(running_total)\n",
      "\u001b[0;31mKeyError\u001b[0m: 'A'"
     ]
    }
   ],
   "source": [
    "roman = input('Enter a Roman numeral: ') # 1\n",
    "running_total = 0 # 1a\n",
    "\n",
    "for digit in roman: # 2\n",
    "    running_total += roman_to_arabic[digit] # 3, 4\n",
    "\n",
    "print(running_total)"
   ]
  },
  {
   "cell_type": "code",
   "execution_count": 887,
   "id": "2ad0d0b5-31e4-493c-81b8-30a325ce1544",
   "metadata": {},
   "outputs": [
    {
     "name": "stdin",
     "output_type": "stream",
     "text": [
      "Enter a Roman numeral:  MCLX\n"
     ]
    },
    {
     "name": "stdout",
     "output_type": "stream",
     "text": [
      "1000\n",
      "1100\n",
      "1150\n",
      "1160\n"
     ]
    }
   ],
   "source": [
    "# what do we do if the digit is bad?\n",
    "roman = input('Enter a Roman numeral: ') # 1\n",
    "running_total = 0 # 1a\n",
    "\n",
    "for digit in roman: # 2\n",
    "    if digit in roman_to_arabic:\n",
    "        running_total += roman_to_arabic[digit] # 3, 4\n",
    "    else:\n",
    "        print('bad digit:', digit)\n",
    "\n",
    "print(running_total)"
   ]
  },
  {
   "cell_type": "code",
   "execution_count": 893,
   "id": "957b93d8-2ae7-49e8-8746-0172078cae86",
   "metadata": {},
   "outputs": [
    {
     "name": "stdin",
     "output_type": "stream",
     "text": [
      "Enter a Roman numeral:  MCA\n"
     ]
    },
    {
     "name": "stdout",
     "output_type": "stream",
     "text": [
      "bad digit: A\n"
     ]
    }
   ],
   "source": [
    "# what do we do if the digit is bad?\n",
    "roman = input('Enter a Roman numeral: ') # 1\n",
    "running_total = 0 # 1a\n",
    "\n",
    "for digit in roman: # 2\n",
    "    if digit in roman_to_arabic:\n",
    "        running_total += roman_to_arabic[digit] # 3, 4\n",
    "    else:\n",
    "        print('bad digit:', digit)\n",
    "        break\n",
    "else: # when we this clause be run? ...if we do not break\n",
    "    print(running_total)"
   ]
  },
  {
   "cell_type": "code",
   "execution_count": 899,
   "id": "0a9a1326-1bfa-493b-a205-47da98184e71",
   "metadata": {},
   "outputs": [
    {
     "name": "stdin",
     "output_type": "stream",
     "text": [
      "Enter a Roman numeral:  ABCDEFG\n"
     ]
    },
    {
     "name": "stdout",
     "output_type": "stream",
     "text": [
      "bad digit: A\n",
      "bad digit: B\n",
      "bad digit: E\n",
      "bad digit: F\n",
      "bad digit: G\n"
     ]
    }
   ],
   "source": [
    "# what do we do if the digit is bad?\n",
    "# this time without the else clause\n",
    "roman = input('Enter a Roman numeral: ') # 1\n",
    "running_total = 0 # 1a\n",
    "is_valid_roman_numeral = True\n",
    "\n",
    "for digit in roman: # 2\n",
    "    if digit in roman_to_arabic:\n",
    "        running_total += roman_to_arabic[digit] # 3, 4\n",
    "    else:\n",
    "        print('bad digit:', digit)\n",
    "        is_valid_roman_numeral = False\n",
    "\n",
    "if is_valid_roman_numeral:\n",
    "    print(running_total)"
   ]
  },
  {
   "cell_type": "code",
   "execution_count": null,
   "id": "2d1daab1-090c-44e1-b209-cdf6161ba97e",
   "metadata": {},
   "outputs": [],
   "source": [
    "# let's suggest a way to do the harder subtraction problem...\n",
    "# 1. get a Roman numeral\n",
    "# 2. PASS 1: make a list of all the Hindu-Arabic equivalents (no subtraction)\n",
    "# e.g. for MCMXCIX, we would have [1000, 100, 1000, 10, 100, 1, 10]\n",
    "# 3. PASS 2: for each number in the above list:\n",
    "# 4.             if that number is less than its neighbor (to the right)...\n",
    "# 5.                 then make that number negative\n",
    "# e.g., [1000, -100, 1000, -10, 100, -1, 10]\n",
    "# 6. sum up the list"
   ]
  },
  {
   "cell_type": "code",
   "execution_count": null,
   "id": "5b5b89d4-92a7-4ab5-92e4-9bb06302543b",
   "metadata": {},
   "outputs": [],
   "source": [
    "digits = [1000, 100, 1000, 10, 100, 1, 10]"
   ]
  },
  {
   "cell_type": "code",
   "execution_count": 917,
   "id": "b80f9562-fea1-4621-aa73-dd32368393b8",
   "metadata": {},
   "outputs": [],
   "source": [
    "d = { 1: 'won', 2: 'too' }"
   ]
  },
  {
   "cell_type": "code",
   "execution_count": 911,
   "id": "fd244760-132c-4c2a-8a3a-cc441ba10458",
   "metadata": {},
   "outputs": [
    {
     "data": {
      "text/plain": [
       "{1: 'won', 2: 'too'}"
      ]
     },
     "execution_count": 911,
     "metadata": {},
     "output_type": "execute_result"
    }
   ],
   "source": [
    "d"
   ]
  },
  {
   "cell_type": "code",
   "execution_count": 913,
   "id": "c1f25e80-7670-4a88-b585-308ebf484fd1",
   "metadata": {},
   "outputs": [
    {
     "data": {
      "text/plain": [
       "'won'"
      ]
     },
     "execution_count": 913,
     "metadata": {},
     "output_type": "execute_result"
    }
   ],
   "source": [
    "d[1] # plugging in a key"
   ]
  },
  {
   "cell_type": "code",
   "execution_count": 919,
   "id": "d8ba379e-b2e8-4737-bc90-b66e701bed44",
   "metadata": {},
   "outputs": [
    {
     "data": {
      "text/plain": [
       "1"
      ]
     },
     "execution_count": 919,
     "metadata": {},
     "output_type": "execute_result"
    }
   ],
   "source": [
    "d['won']"
   ]
  },
  {
   "cell_type": "code",
   "execution_count": 940,
   "id": "bf5e5b5c-1f46-4197-8e97-745f8406bbb7",
   "metadata": {},
   "outputs": [],
   "source": [
    "d = { 'Keith': 'Bibb', 'Kevin': 'Bibb', 'Kenneth': 'Bibb' }"
   ]
  },
  {
   "cell_type": "code",
   "execution_count": 942,
   "id": "68e52d59-28df-42be-9624-a38006bc4e80",
   "metadata": {},
   "outputs": [
    {
     "data": {
      "text/plain": [
       "{'Keith': 'Bibb', 'Kevin': 'Bibb', 'Kenneth': 'Bibb'}"
      ]
     },
     "execution_count": 942,
     "metadata": {},
     "output_type": "execute_result"
    }
   ],
   "source": [
    "d"
   ]
  },
  {
   "cell_type": "code",
   "execution_count": 944,
   "id": "b9cad178-9857-42c6-9598-fa6f8b6d9345",
   "metadata": {},
   "outputs": [],
   "source": [
    "d_inverse = { val: key for key, val in d.items() }"
   ]
  },
  {
   "cell_type": "code",
   "execution_count": 946,
   "id": "d7e626ce-b4f3-4dc6-be8e-554443da3644",
   "metadata": {},
   "outputs": [
    {
     "data": {
      "text/plain": [
       "{'Bibb': 'Kenneth'}"
      ]
     },
     "execution_count": 946,
     "metadata": {},
     "output_type": "execute_result"
    }
   ],
   "source": [
    "d_inverse"
   ]
  },
  {
   "cell_type": "code",
   "execution_count": 948,
   "id": "2a165248-d45d-479a-b1e5-9c3bc923ab06",
   "metadata": {},
   "outputs": [
    {
     "data": {
      "text/plain": [
       "{'Keith': 'Bibb', 'Kevin': 'Bibb', 'Kenneth': 'Bibb'}"
      ]
     },
     "execution_count": 948,
     "metadata": {},
     "output_type": "execute_result"
    }
   ],
   "source": [
    "d"
   ]
  },
  {
   "cell_type": "code",
   "execution_count": 950,
   "id": "a8b441bc-2fac-4e0e-8b00-113ad53355be",
   "metadata": {},
   "outputs": [],
   "source": [
    "d['Keith'] = 'Jones'"
   ]
  },
  {
   "cell_type": "code",
   "execution_count": 952,
   "id": "a1356a75-07d6-4ed7-9480-34aa28b14b05",
   "metadata": {},
   "outputs": [
    {
     "data": {
      "text/plain": [
       "{'Keith': 'Jones', 'Kevin': 'Bibb', 'Kenneth': 'Bibb'}"
      ]
     },
     "execution_count": 952,
     "metadata": {},
     "output_type": "execute_result"
    }
   ],
   "source": [
    "d"
   ]
  },
  {
   "cell_type": "code",
   "execution_count": 954,
   "id": "15ba6d9c-6c9c-4d15-854d-b220ec4f7bb4",
   "metadata": {},
   "outputs": [],
   "source": [
    "my_list = 'zero one two'.split()"
   ]
  },
  {
   "cell_type": "code",
   "execution_count": 956,
   "id": "edfff685-463c-46ab-9d99-b29514ab97e5",
   "metadata": {},
   "outputs": [
    {
     "data": {
      "text/plain": [
       "'zero'"
      ]
     },
     "execution_count": 956,
     "metadata": {},
     "output_type": "execute_result"
    }
   ],
   "source": [
    "my_list[0]"
   ]
  },
  {
   "cell_type": "code",
   "execution_count": 958,
   "id": "42572c7c-fa2d-485d-be8b-a8ad8c77519a",
   "metadata": {},
   "outputs": [],
   "source": [
    "my_list[0] = 'blah'"
   ]
  },
  {
   "cell_type": "code",
   "execution_count": 960,
   "id": "862cdfe9-741e-4343-8ffc-83dfe2166f69",
   "metadata": {},
   "outputs": [
    {
     "data": {
      "text/plain": [
       "['blah', 'one', 'two']"
      ]
     },
     "execution_count": 960,
     "metadata": {},
     "output_type": "execute_result"
    }
   ],
   "source": [
    "my_list"
   ]
  },
  {
   "cell_type": "code",
   "execution_count": 962,
   "id": "3824ce07-5648-4c6d-913e-bc38d4e7db02",
   "metadata": {},
   "outputs": [
    {
     "data": {
      "text/plain": [
       "{'Keith': 'Jones', 'Kevin': 'Bibb', 'Kenneth': 'Bibb'}"
      ]
     },
     "execution_count": 962,
     "metadata": {},
     "output_type": "execute_result"
    }
   ],
   "source": [
    "d"
   ]
  },
  {
   "cell_type": "code",
   "execution_count": 964,
   "id": "678077a2-62e7-4052-8022-719cf4dfcf87",
   "metadata": {},
   "outputs": [],
   "source": [
    "d['Keith'] = ['Bibb', 'Jones']"
   ]
  },
  {
   "cell_type": "code",
   "execution_count": 966,
   "id": "a8af3661-9d75-4759-a828-eda3a0d631b6",
   "metadata": {},
   "outputs": [
    {
     "data": {
      "text/plain": [
       "{'Keith': ['Bibb', 'Jones'], 'Kevin': 'Bibb', 'Kenneth': 'Bibb'}"
      ]
     },
     "execution_count": 966,
     "metadata": {},
     "output_type": "execute_result"
    }
   ],
   "source": [
    "d"
   ]
  },
  {
   "cell_type": "code",
   "execution_count": 968,
   "id": "9b3eb71b-f095-4c0e-9fd3-920a27b33e64",
   "metadata": {},
   "outputs": [
    {
     "ename": "TypeError",
     "evalue": "unhashable type: 'list'",
     "output_type": "error",
     "traceback": [
      "\u001b[0;31m---------------------------------------------------------------------------\u001b[0m",
      "\u001b[0;31mTypeError\u001b[0m                                 Traceback (most recent call last)",
      "Cell \u001b[0;32mIn[968], line 1\u001b[0m\n\u001b[0;32m----> 1\u001b[0m d_inverse \u001b[38;5;241m=\u001b[39m { val: key \u001b[38;5;28;01mfor\u001b[39;00m key, val \u001b[38;5;129;01min\u001b[39;00m d\u001b[38;5;241m.\u001b[39mitems() }\n",
      "Cell \u001b[0;32mIn[968], line 1\u001b[0m, in \u001b[0;36m<dictcomp>\u001b[0;34m(.0)\u001b[0m\n\u001b[0;32m----> 1\u001b[0m d_inverse \u001b[38;5;241m=\u001b[39m { val: key \u001b[38;5;28;01mfor\u001b[39;00m key, val \u001b[38;5;129;01min\u001b[39;00m d\u001b[38;5;241m.\u001b[39mitems() }\n",
      "\u001b[0;31mTypeError\u001b[0m: unhashable type: 'list'"
     ]
    }
   ],
   "source": [
    "d_inverse = { val: key for key, val in d.items() }"
   ]
  },
  {
   "cell_type": "code",
   "execution_count": 970,
   "id": "102ec0ca-14e9-4115-830c-cb1c79d62463",
   "metadata": {},
   "outputs": [
    {
     "data": {
      "text/plain": [
       "-692698650828219315"
      ]
     },
     "execution_count": 970,
     "metadata": {},
     "output_type": "execute_result"
    }
   ],
   "source": [
    "hash('Keith')"
   ]
  },
  {
   "cell_type": "code",
   "execution_count": 972,
   "id": "f708071d-0ff9-4a1e-9188-dcf8062b3abb",
   "metadata": {},
   "outputs": [
    {
     "data": {
      "text/plain": [
       "-4877922076349522369"
      ]
     },
     "execution_count": 972,
     "metadata": {},
     "output_type": "execute_result"
    }
   ],
   "source": [
    "hash('Kenneth')"
   ]
  },
  {
   "cell_type": "code",
   "execution_count": 974,
   "id": "b1326a1b-e5f9-4cc6-891b-a1e3ecca19fd",
   "metadata": {},
   "outputs": [
    {
     "data": {
      "text/plain": [
       "-3736965123018779923"
      ]
     },
     "execution_count": 974,
     "metadata": {},
     "output_type": "execute_result"
    }
   ],
   "source": [
    "hash('Kevin')"
   ]
  },
  {
   "cell_type": "code",
   "execution_count": 982,
   "id": "1160c91b-b4e0-4d8c-ab2a-347916c76e57",
   "metadata": {},
   "outputs": [
    {
     "data": {
      "text/plain": [
       "4873978714310040549"
      ]
     },
     "execution_count": 982,
     "metadata": {},
     "output_type": "execute_result"
    }
   ],
   "source": [
    "hash('okay!')"
   ]
  },
  {
   "cell_type": "code",
   "execution_count": 986,
   "id": "fa403fc0-ea26-4525-b22a-3d617dadb634",
   "metadata": {},
   "outputs": [
    {
     "data": {
      "text/plain": [
       "-3550055125485641917"
      ]
     },
     "execution_count": 986,
     "metadata": {},
     "output_type": "execute_result"
    }
   ],
   "source": [
    "hash((1, 2))"
   ]
  },
  {
   "cell_type": "code",
   "execution_count": 988,
   "id": "4faa1e13-a738-4fc5-be20-5b28e737ace0",
   "metadata": {},
   "outputs": [],
   "source": [
    "d = {'Keith': ('Bibb', 'Jones'), 'Kevin': 'Bibb', 'Kenneth': 'Bibb'}"
   ]
  },
  {
   "cell_type": "code",
   "execution_count": 990,
   "id": "6ba7cd61-2ad1-45f2-8982-ef5d36707b4f",
   "metadata": {},
   "outputs": [],
   "source": [
    "d_inverse = { val: key for key, val in d.items() }"
   ]
  },
  {
   "cell_type": "code",
   "execution_count": 994,
   "id": "351bff29-8acd-4a5f-8612-9682eccce1fe",
   "metadata": {},
   "outputs": [
    {
     "data": {
      "text/plain": [
       "{('Bibb', 'Jones'): 'Keith', 'Bibb': 'Kenneth'}"
      ]
     },
     "execution_count": 994,
     "metadata": {},
     "output_type": "execute_result"
    }
   ],
   "source": [
    "d_inverse"
   ]
  },
  {
   "cell_type": "code",
   "execution_count": 997,
   "id": "d22ce726-630a-49f8-a845-3fa98a1c4183",
   "metadata": {},
   "outputs": [
    {
     "data": {
      "text/plain": [
       "65"
      ]
     },
     "execution_count": 997,
     "metadata": {},
     "output_type": "execute_result"
    }
   ],
   "source": [
    "ord('A')"
   ]
  },
  {
   "cell_type": "code",
   "execution_count": 999,
   "id": "83bc2e3a-1bc8-4d8a-b47c-f6f0569b7d28",
   "metadata": {},
   "outputs": [
    {
     "data": {
      "text/plain": [
       "97"
      ]
     },
     "execution_count": 999,
     "metadata": {},
     "output_type": "execute_result"
    }
   ],
   "source": [
    "ord('a')"
   ]
  },
  {
   "cell_type": "code",
   "execution_count": 1001,
   "id": "d99abbe2-8b5f-4e2c-9374-1c5045bf256d",
   "metadata": {},
   "outputs": [
    {
     "data": {
      "text/plain": [
       "'A'"
      ]
     },
     "execution_count": 1001,
     "metadata": {},
     "output_type": "execute_result"
    }
   ],
   "source": [
    "chr(65)"
   ]
  },
  {
   "cell_type": "code",
   "execution_count": 1003,
   "id": "b1a38c9b-285d-4e16-89c5-89e247f5975e",
   "metadata": {},
   "outputs": [
    {
     "data": {
      "text/plain": [
       "8364"
      ]
     },
     "execution_count": 1003,
     "metadata": {},
     "output_type": "execute_result"
    }
   ],
   "source": [
    "ord('€')"
   ]
  },
  {
   "cell_type": "code",
   "execution_count": 1005,
   "id": "83b367ec-0c8f-474c-8b68-b80caea42a32",
   "metadata": {},
   "outputs": [
    {
     "data": {
      "text/plain": [
       "'€'"
      ]
     },
     "execution_count": 1005,
     "metadata": {},
     "output_type": "execute_result"
    }
   ],
   "source": [
    "chr(8364)"
   ]
  },
  {
   "cell_type": "code",
   "execution_count": 1007,
   "id": "286c6883-f172-4685-a9ce-67b68301a834",
   "metadata": {},
   "outputs": [
    {
     "data": {
      "text/plain": [
       "0"
      ]
     },
     "execution_count": 1007,
     "metadata": {},
     "output_type": "execute_result"
    }
   ],
   "source": [
    "26 % 13"
   ]
  },
  {
   "cell_type": "code",
   "execution_count": 1009,
   "id": "81e40b29-85ea-44e0-89ad-f540cb798160",
   "metadata": {},
   "outputs": [
    {
     "data": {
      "text/plain": [
       "13"
      ]
     },
     "execution_count": 1009,
     "metadata": {},
     "output_type": "execute_result"
    }
   ],
   "source": [
    "13 % 26"
   ]
  },
  {
   "cell_type": "code",
   "execution_count": 1012,
   "id": "0ce99e59-587c-4bac-b7e2-50ffd86a5537",
   "metadata": {},
   "outputs": [
    {
     "data": {
      "text/plain": [
       "{'Keith': ('Bibb', 'Jones'), 'Kevin': 'Bibb', 'Kenneth': 'Bibb'}"
      ]
     },
     "execution_count": 1012,
     "metadata": {},
     "output_type": "execute_result"
    }
   ],
   "source": [
    "d"
   ]
  },
  {
   "cell_type": "code",
   "execution_count": 1014,
   "id": "74999e5e-fb5f-48a4-9299-d5a76aa0d9b6",
   "metadata": {},
   "outputs": [
    {
     "data": {
      "text/plain": [
       "'Bibb'"
      ]
     },
     "execution_count": 1014,
     "metadata": {},
     "output_type": "execute_result"
    }
   ],
   "source": [
    "d.get('Kevin')"
   ]
  },
  {
   "cell_type": "code",
   "execution_count": 1026,
   "id": "58598449-085e-4667-9332-cd4a2ffe634d",
   "metadata": {},
   "outputs": [
    {
     "name": "stdout",
     "output_type": "stream",
     "text": [
      "not there!\n"
     ]
    }
   ],
   "source": [
    "print(d.get('Kelby', 'not there!'))"
   ]
  },
  {
   "cell_type": "code",
   "execution_count": 1030,
   "id": "8e8d03d6-2aa9-4597-966e-1e7c4411fb73",
   "metadata": {},
   "outputs": [],
   "source": [
    "d = {}\n",
    "for c in (65, 97): # c will be 65, then it will be 97\n",
    "    for i in range(26): # i will be 0..25 Dijkstra\n",
    "        d[chr(i+c)] = chr((i+13) % 26 + c)"
   ]
  },
  {
   "cell_type": "code",
   "execution_count": 1032,
   "id": "a5e6f6e5-7328-4d00-b718-f2119907edb7",
   "metadata": {},
   "outputs": [
    {
     "data": {
      "text/plain": [
       "{'A': 'N',\n",
       " 'B': 'O',\n",
       " 'C': 'P',\n",
       " 'D': 'Q',\n",
       " 'E': 'R',\n",
       " 'F': 'S',\n",
       " 'G': 'T',\n",
       " 'H': 'U',\n",
       " 'I': 'V',\n",
       " 'J': 'W',\n",
       " 'K': 'X',\n",
       " 'L': 'Y',\n",
       " 'M': 'Z',\n",
       " 'N': 'A',\n",
       " 'O': 'B',\n",
       " 'P': 'C',\n",
       " 'Q': 'D',\n",
       " 'R': 'E',\n",
       " 'S': 'F',\n",
       " 'T': 'G',\n",
       " 'U': 'H',\n",
       " 'V': 'I',\n",
       " 'W': 'J',\n",
       " 'X': 'K',\n",
       " 'Y': 'L',\n",
       " 'Z': 'M',\n",
       " 'a': 'n',\n",
       " 'b': 'o',\n",
       " 'c': 'p',\n",
       " 'd': 'q',\n",
       " 'e': 'r',\n",
       " 'f': 's',\n",
       " 'g': 't',\n",
       " 'h': 'u',\n",
       " 'i': 'v',\n",
       " 'j': 'w',\n",
       " 'k': 'x',\n",
       " 'l': 'y',\n",
       " 'm': 'z',\n",
       " 'n': 'a',\n",
       " 'o': 'b',\n",
       " 'p': 'c',\n",
       " 'q': 'd',\n",
       " 'r': 'e',\n",
       " 's': 'f',\n",
       " 't': 'g',\n",
       " 'u': 'h',\n",
       " 'v': 'i',\n",
       " 'w': 'j',\n",
       " 'x': 'k',\n",
       " 'y': 'l',\n",
       " 'z': 'm'}"
      ]
     },
     "execution_count": 1032,
     "metadata": {},
     "output_type": "execute_result"
    }
   ],
   "source": [
    "d"
   ]
  },
  {
   "cell_type": "code",
   "execution_count": 1034,
   "id": "c9c4aa61-31ee-40e9-8618-df53cbe7515e",
   "metadata": {},
   "outputs": [
    {
     "data": {
      "text/plain": [
       "'T'"
      ]
     },
     "execution_count": 1034,
     "metadata": {},
     "output_type": "execute_result"
    }
   ],
   "source": [
    "d['G']"
   ]
  },
  {
   "cell_type": "code",
   "execution_count": 1036,
   "id": "280a191f-d9a0-482f-81b0-341c44f19b6f",
   "metadata": {},
   "outputs": [
    {
     "data": {
      "text/plain": [
       "'h'"
      ]
     },
     "execution_count": 1036,
     "metadata": {},
     "output_type": "execute_result"
    }
   ],
   "source": [
    "d['u']"
   ]
  },
  {
   "cell_type": "code",
   "execution_count": 1038,
   "id": "9e303f82-093f-44bc-a0b1-9d5bb5118619",
   "metadata": {},
   "outputs": [
    {
     "data": {
      "text/plain": [
       "'e'"
      ]
     },
     "execution_count": 1038,
     "metadata": {},
     "output_type": "execute_result"
    }
   ],
   "source": [
    "d['r']"
   ]
  },
  {
   "cell_type": "code",
   "execution_count": 1040,
   "id": "626530f9-f27f-407a-a938-dc4c5f1c0418",
   "metadata": {},
   "outputs": [
    {
     "ename": "KeyError",
     "evalue": "' '",
     "output_type": "error",
     "traceback": [
      "\u001b[0;31m---------------------------------------------------------------------------\u001b[0m",
      "\u001b[0;31mKeyError\u001b[0m                                  Traceback (most recent call last)",
      "Cell \u001b[0;32mIn[1040], line 1\u001b[0m\n\u001b[0;32m----> 1\u001b[0m d[\u001b[38;5;124m'\u001b[39m\u001b[38;5;124m \u001b[39m\u001b[38;5;124m'\u001b[39m]\n",
      "\u001b[0;31mKeyError\u001b[0m: ' '"
     ]
    }
   ],
   "source": [
    "d[' ']"
   ]
  },
  {
   "cell_type": "code",
   "execution_count": 1046,
   "id": "7bcf0ae6-e2e0-41f8-9e08-03ea103e615e",
   "metadata": {},
   "outputs": [
    {
     "name": "stdout",
     "output_type": "stream",
     "text": [
      ".\n"
     ]
    }
   ],
   "source": [
    "print(d.get('.', '.'))"
   ]
  },
  {
   "cell_type": "code",
   "execution_count": 1048,
   "id": "a309dcd6-991f-4aa0-b4ee-411144cb2aa7",
   "metadata": {},
   "outputs": [
    {
     "data": {
      "text/plain": [
       "'\\n'"
      ]
     },
     "execution_count": 1048,
     "metadata": {},
     "output_type": "execute_result"
    }
   ],
   "source": [
    "d.get('\\n', '\\n')"
   ]
  },
  {
   "cell_type": "code",
   "execution_count": 4,
   "id": "8e6597f8-5d7a-48e4-a19b-7f66c3205014",
   "metadata": {},
   "outputs": [],
   "source": [
    "zen_of_python = \"\"\"\n",
    "Gur Mra bs Clguba, ol Gvz Crgref\n",
    "\n",
    "Ornhgvshy vf orggre guna htyl.\n",
    "Rkcyvpvg vf orggre guna vzcyvpvg.\n",
    "Fvzcyr vf orggre guna pbzcyrk.\n",
    "Pbzcyrk vf orggre guna pbzcyvpngrq.\n",
    "Syng vf orggre guna arfgrq.\n",
    "Fcnefr vf orggre guna qrafr.\"\"\"\n",
    "\n",
    "d = {}\n",
    "for c in (65, 97): # c will be 65, then it will be 97\n",
    "    for i in range(26): # i will be 0..25 Dijkstra\n",
    "        d[chr(i+c)] = chr((i+13) % 26 + c)"
   ]
  },
  {
   "cell_type": "code",
   "execution_count": 8,
   "id": "0ec63ffd-9b45-4fa6-a7ca-460a655bd6d7",
   "metadata": {},
   "outputs": [
    {
     "data": {
      "text/plain": [
       "{'A': 'N',\n",
       " 'B': 'O',\n",
       " 'C': 'P',\n",
       " 'D': 'Q',\n",
       " 'E': 'R',\n",
       " 'F': 'S',\n",
       " 'G': 'T',\n",
       " 'H': 'U',\n",
       " 'I': 'V',\n",
       " 'J': 'W',\n",
       " 'K': 'X',\n",
       " 'L': 'Y',\n",
       " 'M': 'Z',\n",
       " 'N': 'A',\n",
       " 'O': 'B',\n",
       " 'P': 'C',\n",
       " 'Q': 'D',\n",
       " 'R': 'E',\n",
       " 'S': 'F',\n",
       " 'T': 'G',\n",
       " 'U': 'H',\n",
       " 'V': 'I',\n",
       " 'W': 'J',\n",
       " 'X': 'K',\n",
       " 'Y': 'L',\n",
       " 'Z': 'M',\n",
       " 'a': 'n',\n",
       " 'b': 'o',\n",
       " 'c': 'p',\n",
       " 'd': 'q',\n",
       " 'e': 'r',\n",
       " 'f': 's',\n",
       " 'g': 't',\n",
       " 'h': 'u',\n",
       " 'i': 'v',\n",
       " 'j': 'w',\n",
       " 'k': 'x',\n",
       " 'l': 'y',\n",
       " 'm': 'z',\n",
       " 'n': 'a',\n",
       " 'o': 'b',\n",
       " 'p': 'c',\n",
       " 'q': 'd',\n",
       " 'r': 'e',\n",
       " 's': 'f',\n",
       " 't': 'g',\n",
       " 'u': 'h',\n",
       " 'v': 'i',\n",
       " 'w': 'j',\n",
       " 'x': 'k',\n",
       " 'y': 'l',\n",
       " 'z': 'm'}"
      ]
     },
     "execution_count": 8,
     "metadata": {},
     "output_type": "execute_result"
    }
   ],
   "source": [
    "d"
   ]
  },
  {
   "cell_type": "code",
   "execution_count": 28,
   "id": "be50d9a8-f9fe-4c6f-964e-f06262a9c245",
   "metadata": {},
   "outputs": [],
   "source": [
    "xlated_chars = []\n",
    "\n",
    "for char in zen_of_python: # for each character in the string\n",
    "    xlated = d.get(char) # plug it into the dict to get xlation\n",
    "    \n",
    "    if xlated == None: # if the char wasn't in the dict\n",
    "        xlated_chars.append(char)\n",
    "    else:\n",
    "        xlated_chars.append(xlated)"
   ]
  },
  {
   "cell_type": "code",
   "execution_count": 34,
   "id": "fdb7ea01-d29c-4dbd-8877-b2a61e29cde1",
   "metadata": {},
   "outputs": [
    {
     "name": "stdout",
     "output_type": "stream",
     "text": [
      "The Zen of Python, by Tim Peters\n",
      "\n",
      "Beautiful is better than ugly.\n",
      "Explicit is better than implicit.\n",
      "Simple is better than complex.\n",
      "Complex is better than complicated.\n",
      "Flat is better than nested.\n",
      "Sparse is better than dense.\n"
     ]
    }
   ],
   "source": [
    "print(''.join(xlated_chars))"
   ]
  },
  {
   "cell_type": "code",
   "execution_count": null,
   "id": "9fed72fa-2df2-4e53-a8ae-04a6e85859f2",
   "metadata": {},
   "outputs": [],
   "source": []
  }
 ],
 "metadata": {
  "kernelspec": {
   "display_name": "anaconda-panel-2023.05-py310",
   "language": "python",
   "name": "conda-env-anaconda-panel-2023.05-py310-py"
  },
  "language_info": {
   "codemirror_mode": {
    "name": "ipython",
    "version": 3
   },
   "file_extension": ".py",
   "mimetype": "text/x-python",
   "name": "python",
   "nbconvert_exporter": "python",
   "pygments_lexer": "ipython3",
   "version": "3.11.4"
  }
 },
 "nbformat": 4,
 "nbformat_minor": 5
}
