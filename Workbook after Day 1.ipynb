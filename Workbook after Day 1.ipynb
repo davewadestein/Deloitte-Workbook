{
 "cells": [
  {
   "cell_type": "markdown",
   "id": "5b30eea6-747d-4cd3-9132-e5c49d72cc6d",
   "metadata": {},
   "source": [
    "# Important Things About Python\n",
    "* Python's raison d'être is to manipulate data (text and files)\n",
    "* everything in Python is an object\n",
    "  * everything lives in memory and can be inspected\n",
    "  * everything consists of fields/attributes and possibly functions\n",
    "* basic data types: int, float, str (and bool)\n",
    "* built-in functions (e.g., print(), type() DO NOT change the objects that are passed to them)\n",
    "* int, float, bool (scalars, i.e., they contain ONE value) \n",
    "  * vs. containers (hold 0+ values): str"
   ]
  },
  {
   "cell_type": "markdown",
   "id": "24c0196f-f185-43a6-aa7e-fa3ff60301fd",
   "metadata": {},
   "source": [
    "# Pythonic\n",
    "* using idioms that are familiar to other Python programmers\n",
    "* when an object is difficult to work with, convert it to a type that makes it easier\n",
    "* __`[-1]`__ means the last character of a string, or more generally...\n",
    "  * the last item in a container\n",
    "* function composition\n",
    "  * e.g., __`int(input('...'))`__"
   ]
  },
  {
   "cell_type": "markdown",
   "id": "fd3a1c93-1937-4f8b-8e95-c0fc4c9e30bc",
   "metadata": {},
   "source": [
    "# Good Programming Practices\n",
    "* choose good variable names\n",
    "  * descriptive names!\n",
    "* Hal Abelson: \"Programs are written for others to read, and only incidentally for computers to execute\"\n",
    "* Eagleson's Law: Any code you wrote more than 6 months ago might as well have been written by someone else\n",
    "* Have you ever wanted to go back in time and fight with a younger version of yourself–if so, be a programmer!"
   ]
  },
  {
   "cell_type": "markdown",
   "id": "784b643d-9d20-42c1-8714-3283d555359d",
   "metadata": {},
   "source": [
    "# How to learn (and also how to teach)\n",
    "* zoom in and zoom out when necessary\n",
    "  * more/less detailed... \"10,000 foot view\"\n",
    "  * know when to go down the rabbit hole"
   ]
  },
  {
   "cell_type": "markdown",
   "id": "755e02b2-40fa-45a3-acff-2e5aab135ce9",
   "metadata": {},
   "source": [
    "# Other important stuff\n",
    "* we read code 10x more than we write code\n",
    "  * we want to leave the class being able to understand written code\n",
    "* the 3 banes of existence for programmers are:\n",
    "  * improperly initialized variables\n",
    "  * off by 1 errors\n",
    "* \"syntactic sugar\"\n",
    "  * a nicety that programmers can use/enjoy, but anytime you use it you can re-write the code without it"
   ]
  },
  {
   "cell_type": "code",
   "execution_count": 7,
   "id": "05cc4397-72e9-4909-a3bc-2aac371d8761",
   "metadata": {},
   "outputs": [
    {
     "data": {
      "text/plain": [
       "5"
      ]
     },
     "execution_count": 7,
     "metadata": {},
     "output_type": "execute_result"
    }
   ],
   "source": [
    "2 + 3"
   ]
  },
  {
   "cell_type": "code",
   "execution_count": 11,
   "id": "fc7d7c6f-70d7-4da4-9520-597155777bb0",
   "metadata": {},
   "outputs": [],
   "source": [
    "import math # import the math module"
   ]
  },
  {
   "cell_type": "code",
   "execution_count": 13,
   "id": "ced10891-3c69-4dff-bfd1-f92cfab05320",
   "metadata": {},
   "outputs": [
    {
     "data": {
      "text/plain": [
       "1.0"
      ]
     },
     "execution_count": 13,
     "metadata": {},
     "output_type": "execute_result"
    }
   ],
   "source": [
    "math.sin(math.pi / 2)"
   ]
  },
  {
   "cell_type": "code",
   "execution_count": 25,
   "id": "780df9e5-2cb1-4193-b145-92bbb4f9541b",
   "metadata": {},
   "outputs": [
    {
     "data": {
      "text/plain": [
       "140494822855264"
      ]
     },
     "execution_count": 25,
     "metadata": {},
     "output_type": "execute_result"
    }
   ],
   "source": [
    "id(math)"
   ]
  },
  {
   "cell_type": "code",
   "execution_count": 27,
   "id": "39fccffc-7a43-4395-b20a-cd5b8cda3c0f",
   "metadata": {},
   "outputs": [],
   "source": [
    "import string"
   ]
  },
  {
   "cell_type": "code",
   "execution_count": 29,
   "id": "acbde043-5549-49cd-a481-7bdc8665c371",
   "metadata": {},
   "outputs": [
    {
     "data": {
      "text/plain": [
       "140494817339376"
      ]
     },
     "execution_count": 29,
     "metadata": {},
     "output_type": "execute_result"
    }
   ],
   "source": [
    "id(string)"
   ]
  },
  {
   "cell_type": "code",
   "execution_count": 31,
   "id": "3bf559ce-4325-427c-94f4-637b71405a91",
   "metadata": {},
   "outputs": [
    {
     "data": {
      "text/plain": [
       "140494825789040"
      ]
     },
     "execution_count": 31,
     "metadata": {},
     "output_type": "execute_result"
    }
   ],
   "source": [
    "id(print)"
   ]
  },
  {
   "cell_type": "code",
   "execution_count": 36,
   "id": "9b06134b-4680-47f5-b327-bb6d6b944961",
   "metadata": {},
   "outputs": [],
   "source": [
    "name = 'Taylor Swift' # string (or text)"
   ]
  },
  {
   "cell_type": "code",
   "execution_count": 40,
   "id": "caaaa6fe-7c08-4aff-ab33-60a191f30db6",
   "metadata": {},
   "outputs": [],
   "source": [
    "birth_year = 1989"
   ]
  },
  {
   "cell_type": "code",
   "execution_count": 42,
   "id": "37fb9817-e060-48d8-a03a-c25a8a61c71f",
   "metadata": {},
   "outputs": [
    {
     "data": {
      "text/plain": [
       "1989"
      ]
     },
     "execution_count": 42,
     "metadata": {},
     "output_type": "execute_result"
    }
   ],
   "source": [
    "birth_year"
   ]
  },
  {
   "cell_type": "code",
   "execution_count": 47,
   "id": "d88760f4-0068-4c23-857b-122727107e91",
   "metadata": {},
   "outputs": [],
   "source": [
    "value = 2."
   ]
  },
  {
   "cell_type": "code",
   "execution_count": 49,
   "id": "1217c0ad-29ac-40c6-a03f-728870c6488f",
   "metadata": {},
   "outputs": [
    {
     "data": {
      "text/plain": [
       "2.0"
      ]
     },
     "execution_count": 49,
     "metadata": {},
     "output_type": "execute_result"
    }
   ],
   "source": [
    "value"
   ]
  },
  {
   "cell_type": "code",
   "execution_count": 56,
   "id": "e665b7bc-2631-4d72-9e6a-a95981b8609a",
   "metadata": {},
   "outputs": [
    {
     "data": {
      "text/plain": [
       "int"
      ]
     },
     "execution_count": 56,
     "metadata": {},
     "output_type": "execute_result"
    }
   ],
   "source": [
    "type(birth_year)"
   ]
  },
  {
   "cell_type": "code",
   "execution_count": 60,
   "id": "57f7389c-51ea-4bb0-b9f7-ca1ae968831a",
   "metadata": {},
   "outputs": [
    {
     "data": {
      "text/plain": [
       "float"
      ]
     },
     "execution_count": 60,
     "metadata": {},
     "output_type": "execute_result"
    }
   ],
   "source": [
    "type(value)"
   ]
  },
  {
   "cell_type": "code",
   "execution_count": 64,
   "id": "cedb9936-05e3-44f7-8f56-671df3f829c7",
   "metadata": {},
   "outputs": [
    {
     "data": {
      "text/plain": [
       "str"
      ]
     },
     "execution_count": 64,
     "metadata": {},
     "output_type": "execute_result"
    }
   ],
   "source": [
    "type(name)"
   ]
  },
  {
   "cell_type": "code",
   "execution_count": 69,
   "id": "9725dfbd-8e6e-402c-8b05-8a09356b1fe0",
   "metadata": {},
   "outputs": [],
   "source": [
    "student = 'Anthony'"
   ]
  },
  {
   "cell_type": "code",
   "execution_count": 71,
   "id": "920a0d8a-76ff-4648-9158-9d676b1998a0",
   "metadata": {},
   "outputs": [],
   "source": [
    "student = 5"
   ]
  },
  {
   "cell_type": "code",
   "execution_count": 73,
   "id": "1dec41e1-abac-46d8-96df-4e9859cd8dcb",
   "metadata": {},
   "outputs": [
    {
     "data": {
      "text/plain": [
       "5"
      ]
     },
     "execution_count": 73,
     "metadata": {},
     "output_type": "execute_result"
    }
   ],
   "source": [
    "student"
   ]
  },
  {
   "cell_type": "code",
   "execution_count": 77,
   "id": "ed87fc08-9512-4908-bfaf-2bb30a7dc0b1",
   "metadata": {},
   "outputs": [],
   "source": [
    "student: str = 'Anthony' # works as of Python 3.6+"
   ]
  },
  {
   "cell_type": "code",
   "execution_count": 79,
   "id": "d4ced0e0-9e37-4797-9b41-5a6c704d680c",
   "metadata": {},
   "outputs": [],
   "source": [
    "# ...\n",
    "# ...\n",
    "student = 5"
   ]
  },
  {
   "cell_type": "code",
   "execution_count": 89,
   "id": "d317eb5b-ac1a-4fcb-b7a2-732e63867941",
   "metadata": {},
   "outputs": [],
   "source": [
    "import math"
   ]
  },
  {
   "cell_type": "code",
   "execution_count": 91,
   "id": "e490eeb1-3c46-4441-97e9-a61a6907abea",
   "metadata": {},
   "outputs": [
    {
     "data": {
      "text/plain": [
       "['__doc__',\n",
       " '__file__',\n",
       " '__loader__',\n",
       " '__name__',\n",
       " '__package__',\n",
       " '__spec__',\n",
       " 'acos',\n",
       " 'acosh',\n",
       " 'asin',\n",
       " 'asinh',\n",
       " 'atan',\n",
       " 'atan2',\n",
       " 'atanh',\n",
       " 'cbrt',\n",
       " 'ceil',\n",
       " 'comb',\n",
       " 'copysign',\n",
       " 'cos',\n",
       " 'cosh',\n",
       " 'degrees',\n",
       " 'dist',\n",
       " 'e',\n",
       " 'erf',\n",
       " 'erfc',\n",
       " 'exp',\n",
       " 'exp2',\n",
       " 'expm1',\n",
       " 'fabs',\n",
       " 'factorial',\n",
       " 'floor',\n",
       " 'fmod',\n",
       " 'frexp',\n",
       " 'fsum',\n",
       " 'gamma',\n",
       " 'gcd',\n",
       " 'hypot',\n",
       " 'inf',\n",
       " 'isclose',\n",
       " 'isfinite',\n",
       " 'isinf',\n",
       " 'isnan',\n",
       " 'isqrt',\n",
       " 'lcm',\n",
       " 'ldexp',\n",
       " 'lgamma',\n",
       " 'log',\n",
       " 'log10',\n",
       " 'log1p',\n",
       " 'log2',\n",
       " 'modf',\n",
       " 'nan',\n",
       " 'nextafter',\n",
       " 'perm',\n",
       " 'pi',\n",
       " 'pow',\n",
       " 'prod',\n",
       " 'radians',\n",
       " 'remainder',\n",
       " 'sin',\n",
       " 'sinh',\n",
       " 'sqrt',\n",
       " 'tan',\n",
       " 'tanh',\n",
       " 'tau',\n",
       " 'trunc',\n",
       " 'ulp']"
      ]
     },
     "execution_count": 91,
     "metadata": {},
     "output_type": "execute_result"
    }
   ],
   "source": [
    "dir(math)"
   ]
  },
  {
   "cell_type": "code",
   "execution_count": 93,
   "id": "7bf71a47-730f-4dcd-a380-93a264bcc717",
   "metadata": {},
   "outputs": [
    {
     "name": "stdout",
     "output_type": "stream",
     "text": [
      "Help on module math:\n",
      "\n",
      "NAME\n",
      "    math\n",
      "\n",
      "MODULE REFERENCE\n",
      "    https://docs.python.org/3.11/library/math.html\n",
      "    \n",
      "    The following documentation is automatically generated from the Python\n",
      "    source files.  It may be incomplete, incorrect or include features that\n",
      "    are considered implementation detail and may vary between Python\n",
      "    implementations.  When in doubt, consult the module reference at the\n",
      "    location listed above.\n",
      "\n",
      "DESCRIPTION\n",
      "    This module provides access to the mathematical functions\n",
      "    defined by the C standard.\n",
      "\n",
      "FUNCTIONS\n",
      "    acos(x, /)\n",
      "        Return the arc cosine (measured in radians) of x.\n",
      "        \n",
      "        The result is between 0 and pi.\n",
      "    \n",
      "    acosh(x, /)\n",
      "        Return the inverse hyperbolic cosine of x.\n",
      "    \n",
      "    asin(x, /)\n",
      "        Return the arc sine (measured in radians) of x.\n",
      "        \n",
      "        The result is between -pi/2 and pi/2.\n",
      "    \n",
      "    asinh(x, /)\n",
      "        Return the inverse hyperbolic sine of x.\n",
      "    \n",
      "    atan(x, /)\n",
      "        Return the arc tangent (measured in radians) of x.\n",
      "        \n",
      "        The result is between -pi/2 and pi/2.\n",
      "    \n",
      "    atan2(y, x, /)\n",
      "        Return the arc tangent (measured in radians) of y/x.\n",
      "        \n",
      "        Unlike atan(y/x), the signs of both x and y are considered.\n",
      "    \n",
      "    atanh(x, /)\n",
      "        Return the inverse hyperbolic tangent of x.\n",
      "    \n",
      "    cbrt(x, /)\n",
      "        Return the cube root of x.\n",
      "    \n",
      "    ceil(x, /)\n",
      "        Return the ceiling of x as an Integral.\n",
      "        \n",
      "        This is the smallest integer >= x.\n",
      "    \n",
      "    comb(n, k, /)\n",
      "        Number of ways to choose k items from n items without repetition and without order.\n",
      "        \n",
      "        Evaluates to n! / (k! * (n - k)!) when k <= n and evaluates\n",
      "        to zero when k > n.\n",
      "        \n",
      "        Also called the binomial coefficient because it is equivalent\n",
      "        to the coefficient of k-th term in polynomial expansion of the\n",
      "        expression (1 + x)**n.\n",
      "        \n",
      "        Raises TypeError if either of the arguments are not integers.\n",
      "        Raises ValueError if either of the arguments are negative.\n",
      "    \n",
      "    copysign(x, y, /)\n",
      "        Return a float with the magnitude (absolute value) of x but the sign of y.\n",
      "        \n",
      "        On platforms that support signed zeros, copysign(1.0, -0.0)\n",
      "        returns -1.0.\n",
      "    \n",
      "    cos(x, /)\n",
      "        Return the cosine of x (measured in radians).\n",
      "    \n",
      "    cosh(x, /)\n",
      "        Return the hyperbolic cosine of x.\n",
      "    \n",
      "    degrees(x, /)\n",
      "        Convert angle x from radians to degrees.\n",
      "    \n",
      "    dist(p, q, /)\n",
      "        Return the Euclidean distance between two points p and q.\n",
      "        \n",
      "        The points should be specified as sequences (or iterables) of\n",
      "        coordinates.  Both inputs must have the same dimension.\n",
      "        \n",
      "        Roughly equivalent to:\n",
      "            sqrt(sum((px - qx) ** 2.0 for px, qx in zip(p, q)))\n",
      "    \n",
      "    erf(x, /)\n",
      "        Error function at x.\n",
      "    \n",
      "    erfc(x, /)\n",
      "        Complementary error function at x.\n",
      "    \n",
      "    exp(x, /)\n",
      "        Return e raised to the power of x.\n",
      "    \n",
      "    exp2(x, /)\n",
      "        Return 2 raised to the power of x.\n",
      "    \n",
      "    expm1(x, /)\n",
      "        Return exp(x)-1.\n",
      "        \n",
      "        This function avoids the loss of precision involved in the direct evaluation of exp(x)-1 for small x.\n",
      "    \n",
      "    fabs(x, /)\n",
      "        Return the absolute value of the float x.\n",
      "    \n",
      "    factorial(n, /)\n",
      "        Find n!.\n",
      "        \n",
      "        Raise a ValueError if x is negative or non-integral.\n",
      "    \n",
      "    floor(x, /)\n",
      "        Return the floor of x as an Integral.\n",
      "        \n",
      "        This is the largest integer <= x.\n",
      "    \n",
      "    fmod(x, y, /)\n",
      "        Return fmod(x, y), according to platform C.\n",
      "        \n",
      "        x % y may differ.\n",
      "    \n",
      "    frexp(x, /)\n",
      "        Return the mantissa and exponent of x, as pair (m, e).\n",
      "        \n",
      "        m is a float and e is an int, such that x = m * 2.**e.\n",
      "        If x is 0, m and e are both 0.  Else 0.5 <= abs(m) < 1.0.\n",
      "    \n",
      "    fsum(seq, /)\n",
      "        Return an accurate floating point sum of values in the iterable seq.\n",
      "        \n",
      "        Assumes IEEE-754 floating point arithmetic.\n",
      "    \n",
      "    gamma(x, /)\n",
      "        Gamma function at x.\n",
      "    \n",
      "    gcd(*integers)\n",
      "        Greatest Common Divisor.\n",
      "    \n",
      "    hypot(...)\n",
      "        hypot(*coordinates) -> value\n",
      "        \n",
      "        Multidimensional Euclidean distance from the origin to a point.\n",
      "        \n",
      "        Roughly equivalent to:\n",
      "            sqrt(sum(x**2 for x in coordinates))\n",
      "        \n",
      "        For a two dimensional point (x, y), gives the hypotenuse\n",
      "        using the Pythagorean theorem:  sqrt(x*x + y*y).\n",
      "        \n",
      "        For example, the hypotenuse of a 3/4/5 right triangle is:\n",
      "        \n",
      "            >>> hypot(3.0, 4.0)\n",
      "            5.0\n",
      "    \n",
      "    isclose(a, b, *, rel_tol=1e-09, abs_tol=0.0)\n",
      "        Determine whether two floating point numbers are close in value.\n",
      "        \n",
      "          rel_tol\n",
      "            maximum difference for being considered \"close\", relative to the\n",
      "            magnitude of the input values\n",
      "          abs_tol\n",
      "            maximum difference for being considered \"close\", regardless of the\n",
      "            magnitude of the input values\n",
      "        \n",
      "        Return True if a is close in value to b, and False otherwise.\n",
      "        \n",
      "        For the values to be considered close, the difference between them\n",
      "        must be smaller than at least one of the tolerances.\n",
      "        \n",
      "        -inf, inf and NaN behave similarly to the IEEE 754 Standard.  That\n",
      "        is, NaN is not close to anything, even itself.  inf and -inf are\n",
      "        only close to themselves.\n",
      "    \n",
      "    isfinite(x, /)\n",
      "        Return True if x is neither an infinity nor a NaN, and False otherwise.\n",
      "    \n",
      "    isinf(x, /)\n",
      "        Return True if x is a positive or negative infinity, and False otherwise.\n",
      "    \n",
      "    isnan(x, /)\n",
      "        Return True if x is a NaN (not a number), and False otherwise.\n",
      "    \n",
      "    isqrt(n, /)\n",
      "        Return the integer part of the square root of the input.\n",
      "    \n",
      "    lcm(*integers)\n",
      "        Least Common Multiple.\n",
      "    \n",
      "    ldexp(x, i, /)\n",
      "        Return x * (2**i).\n",
      "        \n",
      "        This is essentially the inverse of frexp().\n",
      "    \n",
      "    lgamma(x, /)\n",
      "        Natural logarithm of absolute value of Gamma function at x.\n",
      "    \n",
      "    log(...)\n",
      "        log(x, [base=math.e])\n",
      "        Return the logarithm of x to the given base.\n",
      "        \n",
      "        If the base not specified, returns the natural logarithm (base e) of x.\n",
      "    \n",
      "    log10(x, /)\n",
      "        Return the base 10 logarithm of x.\n",
      "    \n",
      "    log1p(x, /)\n",
      "        Return the natural logarithm of 1+x (base e).\n",
      "        \n",
      "        The result is computed in a way which is accurate for x near zero.\n",
      "    \n",
      "    log2(x, /)\n",
      "        Return the base 2 logarithm of x.\n",
      "    \n",
      "    modf(x, /)\n",
      "        Return the fractional and integer parts of x.\n",
      "        \n",
      "        Both results carry the sign of x and are floats.\n",
      "    \n",
      "    nextafter(x, y, /)\n",
      "        Return the next floating-point value after x towards y.\n",
      "    \n",
      "    perm(n, k=None, /)\n",
      "        Number of ways to choose k items from n items without repetition and with order.\n",
      "        \n",
      "        Evaluates to n! / (n - k)! when k <= n and evaluates\n",
      "        to zero when k > n.\n",
      "        \n",
      "        If k is not specified or is None, then k defaults to n\n",
      "        and the function returns n!.\n",
      "        \n",
      "        Raises TypeError if either of the arguments are not integers.\n",
      "        Raises ValueError if either of the arguments are negative.\n",
      "    \n",
      "    pow(x, y, /)\n",
      "        Return x**y (x to the power of y).\n",
      "    \n",
      "    prod(iterable, /, *, start=1)\n",
      "        Calculate the product of all the elements in the input iterable.\n",
      "        \n",
      "        The default start value for the product is 1.\n",
      "        \n",
      "        When the iterable is empty, return the start value.  This function is\n",
      "        intended specifically for use with numeric values and may reject\n",
      "        non-numeric types.\n",
      "    \n",
      "    radians(x, /)\n",
      "        Convert angle x from degrees to radians.\n",
      "    \n",
      "    remainder(x, y, /)\n",
      "        Difference between x and the closest integer multiple of y.\n",
      "        \n",
      "        Return x - n*y where n*y is the closest integer multiple of y.\n",
      "        In the case where x is exactly halfway between two multiples of\n",
      "        y, the nearest even value of n is used. The result is always exact.\n",
      "    \n",
      "    sin(x, /)\n",
      "        Return the sine of x (measured in radians).\n",
      "    \n",
      "    sinh(x, /)\n",
      "        Return the hyperbolic sine of x.\n",
      "    \n",
      "    sqrt(x, /)\n",
      "        Return the square root of x.\n",
      "    \n",
      "    tan(x, /)\n",
      "        Return the tangent of x (measured in radians).\n",
      "    \n",
      "    tanh(x, /)\n",
      "        Return the hyperbolic tangent of x.\n",
      "    \n",
      "    trunc(x, /)\n",
      "        Truncates the Real x to the nearest Integral toward 0.\n",
      "        \n",
      "        Uses the __trunc__ magic method.\n",
      "    \n",
      "    ulp(x, /)\n",
      "        Return the value of the least significant bit of the float x.\n",
      "\n",
      "DATA\n",
      "    e = 2.718281828459045\n",
      "    inf = inf\n",
      "    nan = nan\n",
      "    pi = 3.141592653589793\n",
      "    tau = 6.283185307179586\n",
      "\n",
      "FILE\n",
      "    /opt/conda/envs/anaconda-panel-2023.05-py310/lib/python3.11/lib-dynload/math.cpython-311-x86_64-linux-gnu.so\n",
      "\n",
      "\n"
     ]
    }
   ],
   "source": [
    "help(math)"
   ]
  },
  {
   "cell_type": "code",
   "execution_count": 96,
   "id": "e0e06f7c-e80a-4232-ad88-c29b5f1b2691",
   "metadata": {},
   "outputs": [
    {
     "data": {
      "text/plain": [
       "['False',\n",
       " 'None',\n",
       " 'True',\n",
       " 'and',\n",
       " 'as',\n",
       " 'assert',\n",
       " 'async',\n",
       " 'await',\n",
       " 'break',\n",
       " 'class',\n",
       " 'continue',\n",
       " 'def',\n",
       " 'del',\n",
       " 'elif',\n",
       " 'else',\n",
       " 'except',\n",
       " 'finally',\n",
       " 'for',\n",
       " 'from',\n",
       " 'global',\n",
       " 'if',\n",
       " 'import',\n",
       " 'in',\n",
       " 'is',\n",
       " 'lambda',\n",
       " 'nonlocal',\n",
       " 'not',\n",
       " 'or',\n",
       " 'pass',\n",
       " 'raise',\n",
       " 'return',\n",
       " 'try',\n",
       " 'while',\n",
       " 'with',\n",
       " 'yield']"
      ]
     },
     "execution_count": 96,
     "metadata": {},
     "output_type": "execute_result"
    }
   ],
   "source": [
    "import keyword\n",
    "keyword.kwlist"
   ]
  },
  {
   "cell_type": "code",
   "execution_count": 99,
   "id": "fd0f392a-012c-478b-9284-384fd0ad9a58",
   "metadata": {},
   "outputs": [
    {
     "data": {
      "text/plain": [
       "\"<module 'math' from '/opt/conda/envs/anaconda-panel-2023.05-py310/lib/python3.11/lib-dynload/math.cpython-311-x86_64-linux-gnu.so'>\""
      ]
     },
     "execution_count": 99,
     "metadata": {},
     "output_type": "execute_result"
    }
   ],
   "source": [
    "str(math)"
   ]
  },
  {
   "cell_type": "code",
   "execution_count": 101,
   "id": "2c34995f-32a2-4239-ba7f-bd4361d20805",
   "metadata": {},
   "outputs": [
    {
     "data": {
      "text/plain": [
       "\"<module 'keyword' from '/opt/conda/envs/anaconda-panel-2023.05-py310/lib/python3.11/keyword.py'>\""
      ]
     },
     "execution_count": 101,
     "metadata": {},
     "output_type": "execute_result"
    }
   ],
   "source": [
    "str(keyword)"
   ]
  },
  {
   "cell_type": "code",
   "execution_count": 104,
   "id": "5f033991-021c-4141-bc71-607116a1e24f",
   "metadata": {},
   "outputs": [],
   "source": [
    "name = 'Bruce Lee' # quotes are used to indicate something is a string"
   ]
  },
  {
   "cell_type": "code",
   "execution_count": 106,
   "id": "b100206d-7f6e-48f7-ae2f-a7cd6653efbb",
   "metadata": {},
   "outputs": [
    {
     "data": {
      "text/plain": [
       "'Bruce Lee'"
      ]
     },
     "execution_count": 106,
     "metadata": {},
     "output_type": "execute_result"
    }
   ],
   "source": [
    "name # we are asking Python to evalaute the variable name, i.e.,\n",
    "# tell us what is inside it"
   ]
  },
  {
   "cell_type": "code",
   "execution_count": 112,
   "id": "fb878303-d2fb-4b96-b98c-922c31250400",
   "metadata": {},
   "outputs": [
    {
     "name": "stdout",
     "output_type": "stream",
     "text": [
      "Bruce Lee\n"
     ]
    }
   ],
   "source": [
    "print(name) # we are asking the print() function to print the contents of name\n",
    "# the quotes aren't really part of the string\n",
    "# on our nametage, we wouldn't include the quotes"
   ]
  },
  {
   "cell_type": "code",
   "execution_count": 114,
   "id": "6d729022-bc03-47dc-8382-f075a8ae3e63",
   "metadata": {},
   "outputs": [
    {
     "name": "stdout",
     "output_type": "stream",
     "text": [
      "My name is Bruce Lee\n"
     ]
    }
   ],
   "source": [
    "print('My name is', name)"
   ]
  },
  {
   "cell_type": "code",
   "execution_count": 118,
   "id": "e0e85ff9-601e-4a9b-b2d2-f1e432b01b26",
   "metadata": {},
   "outputs": [
    {
     "ename": "NameError",
     "evalue": "name 'my' is not defined",
     "output_type": "error",
     "traceback": [
      "\u001b[0;31m---------------------------------------------------------------------------\u001b[0m",
      "\u001b[0;31mNameError\u001b[0m                                 Traceback (most recent call last)",
      "Cell \u001b[0;32mIn[118], line 1\u001b[0m\n\u001b[0;32m----> 1\u001b[0m \u001b[38;5;28mprint\u001b[39m(my, name)\n",
      "\u001b[0;31mNameError\u001b[0m: name 'my' is not defined"
     ]
    }
   ],
   "source": [
    "print(my, name)"
   ]
  },
  {
   "cell_type": "code",
   "execution_count": 120,
   "id": "703d7ec4-5bde-4366-b6cf-4b4eeac8905a",
   "metadata": {},
   "outputs": [
    {
     "ename": "NameError",
     "evalue": "name 'anything' is not defined",
     "output_type": "error",
     "traceback": [
      "\u001b[0;31m---------------------------------------------------------------------------\u001b[0m",
      "\u001b[0;31mNameError\u001b[0m                                 Traceback (most recent call last)",
      "Cell \u001b[0;32mIn[120], line 1\u001b[0m\n\u001b[0;32m----> 1\u001b[0m anything\n",
      "\u001b[0;31mNameError\u001b[0m: name 'anything' is not defined"
     ]
    }
   ],
   "source": [
    "anything"
   ]
  },
  {
   "cell_type": "code",
   "execution_count": 122,
   "id": "a8adced5-99d6-4753-8b8d-5436165df7b2",
   "metadata": {},
   "outputs": [],
   "source": [
    "anything = 3.55"
   ]
  },
  {
   "cell_type": "code",
   "execution_count": 124,
   "id": "fe1947ae-6b8e-454c-aa2e-80955f0f79f5",
   "metadata": {},
   "outputs": [
    {
     "data": {
      "text/plain": [
       "3.55"
      ]
     },
     "execution_count": 124,
     "metadata": {},
     "output_type": "execute_result"
    }
   ],
   "source": [
    "anything"
   ]
  },
  {
   "cell_type": "code",
   "execution_count": 142,
   "id": "4419f456-518c-43bb-a793-4e242762c43f",
   "metadata": {},
   "outputs": [
    {
     "name": "stdout",
     "output_type": "stream",
     "text": [
      "Gasoline price is $ 3.55\n"
     ]
    }
   ],
   "source": [
    "print('Gasoline price is $', anything)"
   ]
  },
  {
   "cell_type": "code",
   "execution_count": 132,
   "id": "e37bcc17-d059-4e0e-b79f-ef946fbb95c3",
   "metadata": {},
   "outputs": [
    {
     "data": {
      "text/plain": [
       "'Bruce Lee'"
      ]
     },
     "execution_count": 132,
     "metadata": {},
     "output_type": "execute_result"
    }
   ],
   "source": [
    "name"
   ]
  },
  {
   "cell_type": "code",
   "execution_count": 134,
   "id": "7b6810c7-0f4a-412d-8b78-ab6f0fd71744",
   "metadata": {},
   "outputs": [
    {
     "data": {
      "text/plain": [
       "3.55"
      ]
     },
     "execution_count": 134,
     "metadata": {},
     "output_type": "execute_result"
    }
   ],
   "source": [
    "anything"
   ]
  },
  {
   "cell_type": "code",
   "execution_count": 140,
   "id": "4cc7f9c7-ffc2-4e29-8e2c-f8496c0d5b5b",
   "metadata": {},
   "outputs": [
    {
     "data": {
      "text/plain": [
       "5"
      ]
     },
     "execution_count": 140,
     "metadata": {},
     "output_type": "execute_result"
    }
   ],
   "source": [
    "2 + 3"
   ]
  },
  {
   "cell_type": "code",
   "execution_count": 145,
   "id": "2f5c6602-9377-4122-8d4f-77046ebeb8e4",
   "metadata": {},
   "outputs": [
    {
     "data": {
      "text/plain": [
       "'53.3'"
      ]
     },
     "execution_count": 145,
     "metadata": {},
     "output_type": "execute_result"
    }
   ],
   "source": [
    "str(53.3)"
   ]
  },
  {
   "cell_type": "code",
   "execution_count": 147,
   "id": "1f50c1cc-8d53-4740-854c-6e8aee356b95",
   "metadata": {},
   "outputs": [
    {
     "data": {
      "text/plain": [
       "'False'"
      ]
     },
     "execution_count": 147,
     "metadata": {},
     "output_type": "execute_result"
    }
   ],
   "source": [
    "str(False)"
   ]
  },
  {
   "cell_type": "code",
   "execution_count": 161,
   "id": "50edb8a2-b76d-4bc9-be91-d4bee2c04b40",
   "metadata": {},
   "outputs": [
    {
     "data": {
      "text/plain": [
       "'true'"
      ]
     },
     "execution_count": 161,
     "metadata": {},
     "output_type": "execute_result"
    }
   ],
   "source": [
    "false = 'true' # don't do this!\n",
    "str(false)"
   ]
  },
  {
   "cell_type": "code",
   "execution_count": 155,
   "id": "0116e3d3-7ff1-4f31-9dcf-a486e7c61db6",
   "metadata": {},
   "outputs": [
    {
     "data": {
      "text/plain": [
       "300"
      ]
     },
     "execution_count": 155,
     "metadata": {},
     "output_type": "execute_result"
    }
   ],
   "source": [
    "int('300')"
   ]
  },
  {
   "cell_type": "code",
   "execution_count": 157,
   "id": "ceb3649e-0518-4ed8-a1d4-b82300970ddb",
   "metadata": {},
   "outputs": [
    {
     "ename": "ValueError",
     "evalue": "invalid literal for int() with base 10: '30x'",
     "output_type": "error",
     "traceback": [
      "\u001b[0;31m---------------------------------------------------------------------------\u001b[0m",
      "\u001b[0;31mValueError\u001b[0m                                Traceback (most recent call last)",
      "Cell \u001b[0;32mIn[157], line 1\u001b[0m\n\u001b[0;32m----> 1\u001b[0m \u001b[38;5;28mint\u001b[39m(\u001b[38;5;124m'\u001b[39m\u001b[38;5;124m30x\u001b[39m\u001b[38;5;124m'\u001b[39m)\n",
      "\u001b[0;31mValueError\u001b[0m: invalid literal for int() with base 10: '30x'"
     ]
    }
   ],
   "source": [
    "int('30x')"
   ]
  },
  {
   "cell_type": "code",
   "execution_count": 153,
   "id": "8183e28e-d7a0-49f7-8edb-d82f236b04b2",
   "metadata": {},
   "outputs": [
    {
     "data": {
      "text/plain": [
       "bool"
      ]
     },
     "execution_count": 153,
     "metadata": {},
     "output_type": "execute_result"
    }
   ],
   "source": [
    "type(False)"
   ]
  },
  {
   "cell_type": "code",
   "execution_count": 151,
   "id": "bd37419a-312f-4ec8-9586-f64706adb01f",
   "metadata": {},
   "outputs": [
    {
     "data": {
      "text/plain": [
       "str"
      ]
     },
     "execution_count": 168,
     "metadata": {},
     "output_type": "execute_result"
    }
   ],
   "source": [
    "type('False')"
   ]
  },
  {
   "cell_type": "code",
   "execution_count": 149,
   "id": "c6a832d8-8804-4521-a3c1-10cdf83fbb06",
   "metadata": {},
   "outputs": [
    {
     "data": {
      "text/plain": [
       "float"
      ]
     },
     "execution_count": 149,
     "metadata": {},
     "output_type": "execute_result"
    }
   ],
   "source": [
    "type(3.5)"
   ]
  },
  {
   "cell_type": "code",
   "execution_count": 163,
   "id": "6ce6e83a-8662-4736-b6cd-52d56c481af5",
   "metadata": {},
   "outputs": [],
   "source": [
    "cost = 'this is not the cost'"
   ]
  },
  {
   "cell_type": "code",
   "execution_count": 171,
   "id": "ad739a6d-d826-4020-a9b6-62a3e8627675",
   "metadata": {},
   "outputs": [],
   "source": [
    "number = 1"
   ]
  },
  {
   "cell_type": "code",
   "execution_count": 173,
   "id": "89ba75b3-35e3-4a9b-adce-671960aed2e7",
   "metadata": {},
   "outputs": [
    {
     "data": {
      "text/plain": [
       "1.0"
      ]
     },
     "execution_count": 173,
     "metadata": {},
     "output_type": "execute_result"
    }
   ],
   "source": [
    "float(number)"
   ]
  },
  {
   "cell_type": "code",
   "execution_count": 175,
   "id": "fa40a947-cf8a-48c3-9af1-03af9ed4de0d",
   "metadata": {},
   "outputs": [
    {
     "data": {
      "text/plain": [
       "1"
      ]
     },
     "execution_count": 175,
     "metadata": {},
     "output_type": "execute_result"
    }
   ],
   "source": [
    "number"
   ]
  },
  {
   "cell_type": "code",
   "execution_count": 177,
   "id": "5e66ec55-982c-4e4b-ba60-58e718593edb",
   "metadata": {},
   "outputs": [],
   "source": [
    "number = float(number)"
   ]
  },
  {
   "cell_type": "code",
   "execution_count": 179,
   "id": "de4df991-0c3c-4706-8d66-49feda797a2d",
   "metadata": {},
   "outputs": [
    {
     "data": {
      "text/plain": [
       "1.0"
      ]
     },
     "execution_count": 179,
     "metadata": {},
     "output_type": "execute_result"
    }
   ],
   "source": [
    "number"
   ]
  },
  {
   "cell_type": "code",
   "execution_count": 182,
   "id": "0c1ef86e-ca68-4e3d-b513-9b41442d17a8",
   "metadata": {},
   "outputs": [],
   "source": [
    "name = 'Margaret Hamilton'"
   ]
  },
  {
   "cell_type": "code",
   "execution_count": 184,
   "id": "23c99dbb-61c4-43ef-b8cb-2715f6c61f48",
   "metadata": {},
   "outputs": [
    {
     "name": "stdout",
     "output_type": "stream",
     "text": [
      "Margaret Hamilton\n"
     ]
    }
   ],
   "source": [
    "print(name)"
   ]
  },
  {
   "cell_type": "code",
   "execution_count": 186,
   "id": "67485796-32ed-4109-af56-dbf375745966",
   "metadata": {},
   "outputs": [
    {
     "data": {
      "text/plain": [
       "'Margaret Hamilton'"
      ]
     },
     "execution_count": 186,
     "metadata": {},
     "output_type": "execute_result"
    }
   ],
   "source": [
    "name"
   ]
  },
  {
   "cell_type": "code",
   "execution_count": 188,
   "id": "00d78cd4-8a36-4a94-bfe6-ebcf041d9d4e",
   "metadata": {},
   "outputs": [
    {
     "data": {
      "text/plain": [
       "str"
      ]
     },
     "execution_count": 188,
     "metadata": {},
     "output_type": "execute_result"
    }
   ],
   "source": [
    "type(name)"
   ]
  },
  {
   "cell_type": "code",
   "execution_count": 193,
   "id": "dd2af0d6-7995-46aa-8e2d-826e09eee92a",
   "metadata": {},
   "outputs": [
    {
     "data": {
      "text/plain": [
       "123.0"
      ]
     },
     "execution_count": 193,
     "metadata": {},
     "output_type": "execute_result"
    }
   ],
   "source": [
    "float('123')"
   ]
  },
  {
   "cell_type": "code",
   "execution_count": 195,
   "id": "7a6779e7-e0b4-427e-9c08-9631234ad371",
   "metadata": {},
   "outputs": [
    {
     "data": {
      "text/plain": [
       "-123.45"
      ]
     },
     "execution_count": 195,
     "metadata": {},
     "output_type": "execute_result"
    }
   ],
   "source": [
    "float('-123.45')"
   ]
  },
  {
   "cell_type": "code",
   "execution_count": 199,
   "id": "203305f0-a3aa-4a71-9afe-d7d071db33d5",
   "metadata": {},
   "outputs": [
    {
     "ename": "ValueError",
     "evalue": "could not convert string to float: '2.345e12y'",
     "output_type": "error",
     "traceback": [
      "\u001b[0;31m---------------------------------------------------------------------------\u001b[0m",
      "\u001b[0;31mValueError\u001b[0m                                Traceback (most recent call last)",
      "Cell \u001b[0;32mIn[199], line 1\u001b[0m\n\u001b[0;32m----> 1\u001b[0m \u001b[38;5;28mfloat\u001b[39m(\u001b[38;5;124m'\u001b[39m\u001b[38;5;124m2.345e12y\u001b[39m\u001b[38;5;124m'\u001b[39m)\n",
      "\u001b[0;31mValueError\u001b[0m: could not convert string to float: '2.345e12y'"
     ]
    }
   ],
   "source": [
    "float('2.345e12y')"
   ]
  },
  {
   "cell_type": "code",
   "execution_count": 210,
   "id": "f9bbd8b0-7e4b-4404-810e-6bb3f7c1f1da",
   "metadata": {},
   "outputs": [],
   "source": [
    "first, last = 'Albert', 'Einstein'"
   ]
  },
  {
   "cell_type": "code",
   "execution_count": 212,
   "id": "5f8890a6-c280-4ebb-9128-738f091070b7",
   "metadata": {},
   "outputs": [
    {
     "data": {
      "text/plain": [
       "'Albert'"
      ]
     },
     "execution_count": 212,
     "metadata": {},
     "output_type": "execute_result"
    }
   ],
   "source": [
    "first"
   ]
  },
  {
   "cell_type": "code",
   "execution_count": 214,
   "id": "530ce130-4edd-43ba-b4b5-398a3186dc32",
   "metadata": {},
   "outputs": [
    {
     "data": {
      "text/plain": [
       "'Einstein'"
      ]
     },
     "execution_count": 214,
     "metadata": {},
     "output_type": "execute_result"
    }
   ],
   "source": [
    "last"
   ]
  },
  {
   "cell_type": "code",
   "execution_count": 217,
   "id": "09482902-387b-40c8-b20d-34851f205c36",
   "metadata": {},
   "outputs": [],
   "source": [
    "cost = 3.45 # per ounce"
   ]
  },
  {
   "cell_type": "code",
   "execution_count": 225,
   "id": "fb755e56-f9e2-4308-9d0d-9fc3a7c17be8",
   "metadata": {},
   "outputs": [
    {
     "name": "stdout",
     "output_type": "stream",
     "text": [
      "done\n"
     ]
    }
   ],
   "source": [
    "\"\"\"\n",
    "cost = 3.45\n",
    "print(cost)\n",
    "\"\"\"\n",
    "print('done')"
   ]
  },
  {
   "cell_type": "code",
   "execution_count": 234,
   "id": "498049be-7d6a-4a21-8530-e137b81b69a4",
   "metadata": {},
   "outputs": [],
   "source": [
    "a, b, o, p = 'b', 'a', 'p', 'o'"
   ]
  },
  {
   "cell_type": "code",
   "execution_count": 236,
   "id": "1879d1e4-ae1f-424e-996e-8d0dfe4e9d3a",
   "metadata": {},
   "outputs": [
    {
     "data": {
      "text/plain": [
       "'pop'"
      ]
     },
     "execution_count": 236,
     "metadata": {},
     "output_type": "execute_result"
    }
   ],
   "source": [
    "o + p + o"
   ]
  },
  {
   "cell_type": "code",
   "execution_count": 238,
   "id": "f04b5343-deb5-49ba-b932-2d2a9d1a2c3c",
   "metadata": {},
   "outputs": [
    {
     "data": {
      "text/plain": [
       "'bbba'"
      ]
     },
     "execution_count": 238,
     "metadata": {},
     "output_type": "execute_result"
    }
   ],
   "source": [
    "a * 3 + b"
   ]
  },
  {
   "cell_type": "code",
   "execution_count": 240,
   "id": "b3e913bc-f356-4c77-9ad1-70e1a4e3e9d6",
   "metadata": {},
   "outputs": [
    {
     "data": {
      "text/plain": [
       "'bookkeeper'"
      ]
     },
     "execution_count": 240,
     "metadata": {},
     "output_type": "execute_result"
    }
   ],
   "source": [
    "a + p * 2 + 'k' * 2 + 'e' * 2 + o + 'er'"
   ]
  },
  {
   "cell_type": "code",
   "execution_count": 248,
   "id": "06b62bc5-a4f4-44a3-bbd0-6688f8a32e31",
   "metadata": {},
   "outputs": [],
   "source": [
    "name = 'Keanu Reeves'"
   ]
  },
  {
   "cell_type": "code",
   "execution_count": 253,
   "id": "38675c4d-d2f2-418d-bdef-d012ffcf9e95",
   "metadata": {},
   "outputs": [],
   "source": [
    "number = 12345678"
   ]
  },
  {
   "cell_type": "code",
   "execution_count": 256,
   "id": "b37771ff-6343-4fdf-94a4-465ad05af058",
   "metadata": {},
   "outputs": [
    {
     "data": {
      "text/plain": [
       "12"
      ]
     },
     "execution_count": 256,
     "metadata": {},
     "output_type": "execute_result"
    }
   ],
   "source": [
    "len(name)"
   ]
  },
  {
   "cell_type": "code",
   "execution_count": 258,
   "id": "d0fac057-91a6-4b84-a36e-2e67d4aef10b",
   "metadata": {},
   "outputs": [
    {
     "ename": "TypeError",
     "evalue": "object of type 'int' has no len()",
     "output_type": "error",
     "traceback": [
      "\u001b[0;31m---------------------------------------------------------------------------\u001b[0m",
      "\u001b[0;31mTypeError\u001b[0m                                 Traceback (most recent call last)",
      "Cell \u001b[0;32mIn[258], line 1\u001b[0m\n\u001b[0;32m----> 1\u001b[0m \u001b[38;5;28mlen\u001b[39m(number)\n",
      "\u001b[0;31mTypeError\u001b[0m: object of type 'int' has no len()"
     ]
    }
   ],
   "source": [
    "len(number)"
   ]
  },
  {
   "cell_type": "code",
   "execution_count": 262,
   "id": "e6300ba8-400b-44b2-b61c-e7e8216fd64a",
   "metadata": {},
   "outputs": [
    {
     "data": {
      "text/plain": [
       "'12345678'"
      ]
     },
     "execution_count": 262,
     "metadata": {},
     "output_type": "execute_result"
    }
   ],
   "source": [
    "str(number)"
   ]
  },
  {
   "cell_type": "code",
   "execution_count": 264,
   "id": "567c65ce-9f47-4c75-8721-645d9749aad6",
   "metadata": {},
   "outputs": [
    {
     "data": {
      "text/plain": [
       "8"
      ]
     },
     "execution_count": 264,
     "metadata": {},
     "output_type": "execute_result"
    }
   ],
   "source": [
    "len(str(number)) # very Pythonic"
   ]
  },
  {
   "cell_type": "code",
   "execution_count": 271,
   "id": "a27810f6-fb2a-4f4d-b56a-248f7b468606",
   "metadata": {},
   "outputs": [
    {
     "name": "stdin",
     "output_type": "stream",
     "text": [
      "Enter a number:  1234\n"
     ]
    },
    {
     "data": {
      "text/plain": [
       "'1234'"
      ]
     },
     "execution_count": 271,
     "metadata": {},
     "output_type": "execute_result"
    }
   ],
   "source": [
    "input('Enter a number: ')"
   ]
  },
  {
   "cell_type": "code",
   "execution_count": 273,
   "id": "2edbc84e-060c-4a2e-9c57-7b7798d6fdea",
   "metadata": {},
   "outputs": [
    {
     "name": "stdin",
     "output_type": "stream",
     "text": [
      "Enter a number:  123\n"
     ]
    }
   ],
   "source": [
    "number = input('Enter a number: ')"
   ]
  },
  {
   "cell_type": "code",
   "execution_count": 277,
   "id": "4f97a54e-107d-494e-940e-e7aa30578ab7",
   "metadata": {},
   "outputs": [],
   "source": [
    "number = int(number)"
   ]
  },
  {
   "cell_type": "code",
   "execution_count": 279,
   "id": "340da527-d052-4738-b52c-780085e15b00",
   "metadata": {},
   "outputs": [
    {
     "data": {
      "text/plain": [
       "123"
      ]
     },
     "execution_count": 279,
     "metadata": {},
     "output_type": "execute_result"
    }
   ],
   "source": [
    "number"
   ]
  },
  {
   "cell_type": "code",
   "execution_count": 287,
   "id": "ada28b2a-7aa2-4154-a4cb-869fd874444e",
   "metadata": {},
   "outputs": [
    {
     "name": "stdin",
     "output_type": "stream",
     "text": [
      "Enter a number:  four\n"
     ]
    },
    {
     "ename": "ValueError",
     "evalue": "invalid literal for int() with base 10: 'four'",
     "output_type": "error",
     "traceback": [
      "\u001b[0;31m---------------------------------------------------------------------------\u001b[0m",
      "\u001b[0;31mValueError\u001b[0m                                Traceback (most recent call last)",
      "Cell \u001b[0;32mIn[287], line 1\u001b[0m\n\u001b[0;32m----> 1\u001b[0m number \u001b[38;5;241m=\u001b[39m \u001b[38;5;28mint\u001b[39m(\u001b[38;5;28minput\u001b[39m(\u001b[38;5;124m'\u001b[39m\u001b[38;5;124mEnter a number: \u001b[39m\u001b[38;5;124m'\u001b[39m))\n",
      "\u001b[0;31mValueError\u001b[0m: invalid literal for int() with base 10: 'four'"
     ]
    }
   ],
   "source": [
    "number = int(input('Enter a number: '))"
   ]
  },
  {
   "cell_type": "code",
   "execution_count": 283,
   "id": "7f008ff5-9321-403d-915f-04b78cba7bda",
   "metadata": {},
   "outputs": [
    {
     "data": {
      "text/plain": [
       "5467"
      ]
     },
     "execution_count": 283,
     "metadata": {},
     "output_type": "execute_result"
    }
   ],
   "source": [
    "number"
   ]
  },
  {
   "cell_type": "code",
   "execution_count": 300,
   "id": "415e84a2-9950-427e-bf21-da5ce513c215",
   "metadata": {},
   "outputs": [
    {
     "name": "stdout",
     "output_type": "stream",
     "text": [
      "yep!\n",
      "five is greater than four\n",
      "thank you\n",
      "after the if statement\n"
     ]
    }
   ],
   "source": [
    "if 5 < 14:\n",
    "    print('yep!')\n",
    "    print('five is greater than four')\n",
    "    print('thank you')\n",
    "elif\n",
    "else:\n",
    "    print('something else')\n",
    "    \n",
    "print('after the if statement')"
   ]
  },
  {
   "cell_type": "code",
   "execution_count": null,
   "id": "32587f32-4493-4deb-bcd4-2578030accfd",
   "metadata": {},
   "outputs": [],
   "source": [
    "if (3 > 2) {\n",
    "    # ....\n",
    "}"
   ]
  },
  {
   "cell_type": "code",
   "execution_count": 306,
   "id": "be238c54-103f-4f24-b47a-91558b712aaa",
   "metadata": {},
   "outputs": [
    {
     "data": {
      "text/plain": [
       "True"
      ]
     },
     "execution_count": 306,
     "metadata": {},
     "output_type": "execute_result"
    }
   ],
   "source": [
    "'D' in 'Deloitte'"
   ]
  },
  {
   "cell_type": "code",
   "execution_count": 310,
   "id": "39140b28-3205-4375-b6bd-adfaa5b9c266",
   "metadata": {},
   "outputs": [
    {
     "data": {
      "text/plain": [
       "True"
      ]
     },
     "execution_count": 310,
     "metadata": {},
     "output_type": "execute_result"
    }
   ],
   "source": [
    "'itte' in 'Deloitte'"
   ]
  },
  {
   "cell_type": "code",
   "execution_count": 314,
   "id": "26d74ade-6a82-4c5c-83a3-64c8cef5084f",
   "metadata": {},
   "outputs": [
    {
     "data": {
      "text/plain": [
       "False"
      ]
     },
     "execution_count": 314,
     "metadata": {},
     "output_type": "execute_result"
    }
   ],
   "source": [
    "'d' in 'Deloitte'"
   ]
  },
  {
   "cell_type": "code",
   "execution_count": 317,
   "id": "05035c85-620b-4234-8f9f-07dd4de3c7c9",
   "metadata": {},
   "outputs": [],
   "source": [
    "import random"
   ]
  },
  {
   "cell_type": "code",
   "execution_count": 319,
   "id": "91c52868-0f05-4a87-aa4a-f6b9bc12b858",
   "metadata": {},
   "outputs": [
    {
     "data": {
      "text/plain": [
       "['BPF',\n",
       " 'LOG4',\n",
       " 'NV_MAGICCONST',\n",
       " 'RECIP_BPF',\n",
       " 'Random',\n",
       " 'SG_MAGICCONST',\n",
       " 'SystemRandom',\n",
       " 'TWOPI',\n",
       " '_ONE',\n",
       " '_Sequence',\n",
       " '_Set',\n",
       " '__all__',\n",
       " '__builtins__',\n",
       " '__cached__',\n",
       " '__doc__',\n",
       " '__file__',\n",
       " '__loader__',\n",
       " '__name__',\n",
       " '__package__',\n",
       " '__spec__',\n",
       " '_accumulate',\n",
       " '_acos',\n",
       " '_bisect',\n",
       " '_ceil',\n",
       " '_cos',\n",
       " '_e',\n",
       " '_exp',\n",
       " '_floor',\n",
       " '_index',\n",
       " '_inst',\n",
       " '_isfinite',\n",
       " '_log',\n",
       " '_os',\n",
       " '_pi',\n",
       " '_random',\n",
       " '_repeat',\n",
       " '_sha512',\n",
       " '_sin',\n",
       " '_sqrt',\n",
       " '_test',\n",
       " '_test_generator',\n",
       " '_urandom',\n",
       " '_warn',\n",
       " 'betavariate',\n",
       " 'choice',\n",
       " 'choices',\n",
       " 'expovariate',\n",
       " 'gammavariate',\n",
       " 'gauss',\n",
       " 'getrandbits',\n",
       " 'getstate',\n",
       " 'lognormvariate',\n",
       " 'normalvariate',\n",
       " 'paretovariate',\n",
       " 'randbytes',\n",
       " 'randint',\n",
       " 'random',\n",
       " 'randrange',\n",
       " 'sample',\n",
       " 'seed',\n",
       " 'setstate',\n",
       " 'shuffle',\n",
       " 'triangular',\n",
       " 'uniform',\n",
       " 'vonmisesvariate',\n",
       " 'weibullvariate']"
      ]
     },
     "execution_count": 319,
     "metadata": {},
     "output_type": "execute_result"
    }
   ],
   "source": [
    "dir(random)"
   ]
  },
  {
   "cell_type": "code",
   "execution_count": 321,
   "id": "fa1c9030-0674-4fa4-93e4-ca73cf89ae17",
   "metadata": {},
   "outputs": [
    {
     "name": "stdout",
     "output_type": "stream",
     "text": [
      "Help on method randint in module random:\n",
      "\n",
      "randint(a, b) method of random.Random instance\n",
      "    Return random integer in range [a, b], including both end points.\n",
      "\n"
     ]
    }
   ],
   "source": [
    "help(random.randint)"
   ]
  },
  {
   "cell_type": "code",
   "execution_count": 346,
   "id": "144bdc48-561f-40e7-afe4-dce3fc1d5954",
   "metadata": {},
   "outputs": [
    {
     "data": {
      "text/plain": [
       "64"
      ]
     },
     "execution_count": 346,
     "metadata": {},
     "output_type": "execute_result"
    }
   ],
   "source": [
    "random.randint(1, 100)"
   ]
  },
  {
   "cell_type": "markdown",
   "id": "8a1d4e39-d5c2-497c-b166-d391077fc822",
   "metadata": {},
   "source": [
    "## Quick Lab: Loops/Strings\n",
    "* have the user enter a string, then loop through the string to generate (or print) a new string in which every character is duplicated, e.g., \"Python\" => \"PPyytthhoonn\""
   ]
  },
  {
   "cell_type": "code",
   "execution_count": null,
   "id": "1c791a04-3083-4e92-b7a4-7a7cbb6f55b5",
   "metadata": {},
   "outputs": [],
   "source": [
    "# 1. get a string/word from the user\n",
    "# 2. for each letter of the string: ... kinda looks like Python, but still English\n",
    "# 3.    write the letter TWICE all on the same line"
   ]
  },
  {
   "cell_type": "code",
   "execution_count": 392,
   "id": "85979099-d701-4c39-9b96-501a08a7217d",
   "metadata": {},
   "outputs": [
    {
     "name": "stdin",
     "output_type": "stream",
     "text": [
      "Enter a string:  three\n"
     ]
    },
    {
     "name": "stdout",
     "output_type": "stream",
     "text": [
      "ttthhhrrreeeeee"
     ]
    }
   ],
   "source": [
    "string = input('Enter a string: ') # 1\n",
    "\n",
    "for letter in string: # 2\n",
    "    # we have a number of ways we can write something twice...\n",
    "    print(letter * 3, end='') # 3...replication, followed by nothing (instead of \\n)\n",
    "    #print(letter, letter, sep='', end='')"
   ]
  },
  {
   "cell_type": "code",
   "execution_count": 373,
   "id": "ccf11800-6264-4756-ab70-8759310fbcb1",
   "metadata": {},
   "outputs": [
    {
     "name": "stdin",
     "output_type": "stream",
     "text": [
      "Enter a string:  Dijkstra\n"
     ]
    },
    {
     "name": "stdout",
     "output_type": "stream",
     "text": [
      "DDiijjkkssttrraa\n"
     ]
    }
   ],
   "source": [
    "new_string = ''\n",
    "string = input('Enter a string: ') # 1\n",
    "for letter in string:\n",
    "    #new_string = new_string + letter + letter\n",
    "    new_string += letter * 2\n",
    "print(new_string)"
   ]
  },
  {
   "cell_type": "code",
   "execution_count": null,
   "id": "106b320d-cd02-4a56-84c9-951934283bf7",
   "metadata": {},
   "outputs": [],
   "source": [
    "# green check means you did the quick lab, and may or may not be trying the lab"
   ]
  },
  {
   "cell_type": "markdown",
   "id": "9d7d6ac6-f763-429d-b0a5-4a65d35d2bc0",
   "metadata": {},
   "source": [
    "## (Group) Lab: Loops\n",
    "* Loop through the numbers from 2 to 25 and print out which numbers are prime, and for those numbers which are not prime numbers, you should print them as a product of two factors\n",
    "* Remember that prime = no divisors other than 1 and itself\n",
    "* Don't worry about efficiency, but if you're interested, check out math.sqrt()\n",
    "* example output:\n",
    "<pre>\n",
    "2 is a prime number\n",
    "3 is a prime number\n",
    "4 equals 2 * 2\n",
    "5 is a prime number\n",
    "6 equals 2 * 3\n",
    "7 is a prime number\n",
    "8 equals 2 * 4\n",
    "9 equals 3 * 3\n",
    "10 equals 2 * 5\n",
    "11 is a prime number\n",
    "12 equals 2 * 6\n",
    "13 is a prime number\n",
    "14 equals 2 * 7\n",
    "15 equals 3 * 5\n",
    "16 equals 2 * 8\n",
    "17 is a prime number\n",
    "18 equals 2 * 9\n",
    "19 is a prime number\n",
    "20 equals 2 * 10\n",
    "21 equals 3 * 7\n",
    "22 equals 2 * 11\n",
    "23 is a prime number\n",
    "24 equals 2 * 12\n",
    "25 equals 5 * 5\n",
    "</pre>"
   ]
  },
  {
   "cell_type": "code",
   "execution_count": null,
   "id": "0c9fc517-2633-4441-8c70-c5cdec2d3e82",
   "metadata": {},
   "outputs": [],
   "source": [
    "# 1. for each number from 2 to 25 (don't worry about Dijkstra here, this is English)\n",
    "# 2.    for each possible divisor from 2 up to the number-1\n",
    "# 3.        if possible divisor divides into number (i.e., no remainder), then\n",
    "# 4.           the number is NOT prime (because something divides in)\n",
    "# 5.           compute number divided by possible divisor (e.g., 10 divided by 2)\n",
    "# 6.           print number equals possible divisor times answer above\n",
    "# 7.           stop checking possible divisors because we found one\n",
    "# 8.    if we checked ALL the possible divisors and didn't find one, then\n",
    "# 9.       print the number IS PRIME"
   ]
  },
  {
   "cell_type": "code",
   "execution_count": 382,
   "id": "ee856baf-3eb3-4929-ac8c-0ad5b3a2b60c",
   "metadata": {},
   "outputs": [
    {
     "data": {
      "text/plain": [
       "'aa'"
      ]
     },
     "execution_count": 382,
     "metadata": {},
     "output_type": "execute_result"
    }
   ],
   "source": [
    "'a' * 2"
   ]
  },
  {
   "cell_type": "code",
   "execution_count": null,
   "id": "ed604c9d-4b24-4bf3-8c1b-772773465d0a",
   "metadata": {},
   "outputs": [],
   "source": []
  }
 ],
 "metadata": {
  "kernelspec": {
   "display_name": "anaconda-panel-2023.05-py310",
   "language": "python",
   "name": "conda-env-anaconda-panel-2023.05-py310-py"
  },
  "language_info": {
   "codemirror_mode": {
    "name": "ipython",
    "version": 3
   },
   "file_extension": ".py",
   "mimetype": "text/x-python",
   "name": "python",
   "nbconvert_exporter": "python",
   "pygments_lexer": "ipython3",
   "version": "3.11.4"
  }
 },
 "nbformat": 4,
 "nbformat_minor": 5
}
